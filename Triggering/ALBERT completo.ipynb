{
 "cells": [
  {
   "cell_type": "code",
   "execution_count": 1,
   "id": "2745b8b8",
   "metadata": {},
   "outputs": [],
   "source": [
    "import pandas as pd\n",
    "import datasets"
   ]
  },
  {
   "cell_type": "code",
   "execution_count": 2,
   "id": "9fa275e9",
   "metadata": {},
   "outputs": [],
   "source": [
    "## Parameters\n",
    "language = 'english'\n",
    "question_type = ['standard', 'human_paraphrase', 'automatic_paraphrase']\n",
    "threshold = 3\n",
    "dataset_types = ['soft', 'rigid', 'discrete']\n",
    "model_type = 'albert'"
   ]
  },
  {
   "cell_type": "code",
   "execution_count": 3,
   "id": "438cd55d",
   "metadata": {},
   "outputs": [
    {
     "name": "stderr",
     "output_type": "stream",
     "text": [
      "Parameter 'function'=<function preprocess_function at 0x7ff50d6365e0> of the transform datasets.arrow_dataset.Dataset._map_single couldn't be hashed properly, a random hash was used instead. Make sure your transforms and parameters are serializable with pickle or dill for the dataset fingerprinting and caching to work. If you reuse this transform, the caching mechanism will consider it to be different from the previous calls and recompute everything. This warning is only showed once. Subsequent hashing failures won't be showed.\n"
     ]
    },
    {
     "data": {
      "application/vnd.jupyter.widget-view+json": {
       "model_id": "9d21ac3e5de14443a44a1d6df0be3c4f",
       "version_major": 2,
       "version_minor": 0
      },
      "text/plain": [
       "  0%|          | 0/2 [00:00<?, ?ba/s]"
      ]
     },
     "metadata": {},
     "output_type": "display_data"
    },
    {
     "data": {
      "application/vnd.jupyter.widget-view+json": {
       "model_id": "b21a2c2bd8774b36bfd75e557cb23eca",
       "version_major": 2,
       "version_minor": 0
      },
      "text/plain": [
       "  0%|          | 0/1 [00:00<?, ?ba/s]"
      ]
     },
     "metadata": {},
     "output_type": "display_data"
    },
    {
     "data": {
      "application/vnd.jupyter.widget-view+json": {
       "model_id": "316a3478bcaa4a229f55de6704e52959",
       "version_major": 2,
       "version_minor": 0
      },
      "text/plain": [
       "  0%|          | 0/1 [00:00<?, ?ba/s]"
      ]
     },
     "metadata": {},
     "output_type": "display_data"
    },
    {
     "name": "stderr",
     "output_type": "stream",
     "text": [
      "Some weights of the model checkpoint at squirro/albert-base-v2-squad_v2 were not used when initializing AlbertForSequenceClassification: ['qa_outputs.weight', 'qa_outputs.bias']\n",
      "- This IS expected if you are initializing AlbertForSequenceClassification from the checkpoint of a model trained on another task or with another architecture (e.g. initializing a BertForSequenceClassification model from a BertForPreTraining model).\n",
      "- This IS NOT expected if you are initializing AlbertForSequenceClassification from the checkpoint of a model that you expect to be exactly identical (initializing a BertForSequenceClassification model from a BertForSequenceClassification model).\n",
      "Some weights of AlbertForSequenceClassification were not initialized from the model checkpoint at squirro/albert-base-v2-squad_v2 and are newly initialized: ['albert.pooler.weight', 'classifier.bias', 'classifier.weight', 'albert.pooler.bias']\n",
      "You should probably TRAIN this model on a down-stream task to be able to use it for predictions and inference.\n"
     ]
    },
    {
     "name": "stdout",
     "output_type": "stream",
     "text": [
      "huggingface/tokenizers: The current process just got forked, after parallelism has already been used. Disabling parallelism to avoid deadlocks...\n",
      "To disable this warning, you can either:\n",
      "\t- Avoid using `tokenizers` before the fork if possible\n",
      "\t- Explicitly set the environment variable TOKENIZERS_PARALLELISM=(true | false)\n",
      "huggingface/tokenizers: The current process just got forked, after parallelism has already been used. Disabling parallelism to avoid deadlocks...\n",
      "To disable this warning, you can either:\n",
      "\t- Avoid using `tokenizers` before the fork if possible\n",
      "\t- Explicitly set the environment variable TOKENIZERS_PARALLELISM=(true | false)\n",
      "huggingface/tokenizers: The current process just got forked, after parallelism has already been used. Disabling parallelism to avoid deadlocks...\n",
      "To disable this warning, you can either:\n",
      "\t- Avoid using `tokenizers` before the fork if possible\n",
      "\t- Explicitly set the environment variable TOKENIZERS_PARALLELISM=(true | false)\n"
     ]
    },
    {
     "name": "stderr",
     "output_type": "stream",
     "text": [
      "The following columns in the training set  don't have a corresponding argument in `AlbertForSequenceClassification.forward` and have been ignored: abstract, answer_in_text, text, corpus, answer, answer_en_validate, question.\n",
      "***** Running training *****\n",
      "  Num examples = 1755\n",
      "  Num Epochs = 8\n",
      "  Instantaneous batch size per device = 16\n",
      "  Total train batch size (w. parallel, distributed & accumulation) = 32\n",
      "  Gradient Accumulation steps = 1\n",
      "  Total optimization steps = 440\n",
      "Automatic Weights & Biases logging enabled, to disable set os.environ[\"WANDB_DISABLED\"] = \"true\"\n",
      "\u001b[34m\u001b[1mwandb\u001b[0m: Currently logged in as: \u001b[33mpaulopirozelli\u001b[0m. Use \u001b[1m`wandb login --relogin`\u001b[0m to force relogin\n"
     ]
    },
    {
     "name": "stdout",
     "output_type": "stream",
     "text": [
      "huggingface/tokenizers: The current process just got forked, after parallelism has already been used. Disabling parallelism to avoid deadlocks...\n",
      "To disable this warning, you can either:\n",
      "\t- Avoid using `tokenizers` before the fork if possible\n",
      "\t- Explicitly set the environment variable TOKENIZERS_PARALLELISM=(true | false)\n",
      "huggingface/tokenizers: The current process just got forked, after parallelism has already been used. Disabling parallelism to avoid deadlocks...\n",
      "To disable this warning, you can either:\n",
      "\t- Avoid using `tokenizers` before the fork if possible\n",
      "\t- Explicitly set the environment variable TOKENIZERS_PARALLELISM=(true | false)\n"
     ]
    },
    {
     "data": {
      "text/html": [
       "wandb version 0.12.20 is available!  To upgrade, please run:\n",
       " $ pip install wandb --upgrade"
      ],
      "text/plain": [
       "<IPython.core.display.HTML object>"
      ]
     },
     "metadata": {},
     "output_type": "display_data"
    },
    {
     "data": {
      "text/html": [
       "Tracking run with wandb version 0.12.18"
      ],
      "text/plain": [
       "<IPython.core.display.HTML object>"
      ]
     },
     "metadata": {},
     "output_type": "display_data"
    },
    {
     "data": {
      "text/html": [
       "Run data is saved locally in <code>/home/ppirozelli/Área de Trabalho/Classification/wandb/run-20220629_204031-3p26nabq</code>"
      ],
      "text/plain": [
       "<IPython.core.display.HTML object>"
      ]
     },
     "metadata": {},
     "output_type": "display_data"
    },
    {
     "data": {
      "text/html": [
       "Syncing run <strong><a href=\"https://wandb.ai/paulopirozelli/huggingface/runs/3p26nabq\" target=\"_blank\">./results</a></strong> to <a href=\"https://wandb.ai/paulopirozelli/huggingface\" target=\"_blank\">Weights & Biases</a> (<a href=\"https://wandb.me/run\" target=\"_blank\">docs</a>)<br/>"
      ],
      "text/plain": [
       "<IPython.core.display.HTML object>"
      ]
     },
     "metadata": {},
     "output_type": "display_data"
    },
    {
     "name": "stderr",
     "output_type": "stream",
     "text": [
      "/home/ppirozelli/anaconda3/lib/python3.9/site-packages/torch/nn/parallel/_functions.py:68: UserWarning: Was asked to gather along dimension 0, but all input tensors were scalars; will instead unsqueeze and return a vector.\n",
      "  warnings.warn('Was asked to gather along dimension 0, but all '\n"
     ]
    },
    {
     "data": {
      "text/html": [
       "\n",
       "    <div>\n",
       "      \n",
       "      <progress value='440' max='440' style='width:300px; height:20px; vertical-align: middle;'></progress>\n",
       "      [440/440 02:29, Epoch 8/8]\n",
       "    </div>\n",
       "    <table border=\"1\" class=\"dataframe\">\n",
       "  <thead>\n",
       "    <tr style=\"text-align: left;\">\n",
       "      <th>Step</th>\n",
       "      <th>Training Loss</th>\n",
       "    </tr>\n",
       "  </thead>\n",
       "  <tbody>\n",
       "  </tbody>\n",
       "</table><p>"
      ],
      "text/plain": [
       "<IPython.core.display.HTML object>"
      ]
     },
     "metadata": {},
     "output_type": "display_data"
    },
    {
     "name": "stderr",
     "output_type": "stream",
     "text": [
      "\n",
      "\n",
      "Training completed. Do not forget to share your model on huggingface.co/models =)\n",
      "\n",
      "\n",
      "The following columns in the test set  don't have a corresponding argument in `AlbertForSequenceClassification.forward` and have been ignored: abstract, answer_in_text, text, corpus, answer, answer_en_validate, question.\n",
      "***** Running Prediction *****\n",
      "  Num examples = 216\n",
      "  Batch size = 32\n"
     ]
    },
    {
     "data": {
      "text/html": [
       "\n",
       "    <div>\n",
       "      \n",
       "      <progress value='7' max='7' style='width:300px; height:20px; vertical-align: middle;'></progress>\n",
       "      [7/7 00:00]\n",
       "    </div>\n",
       "    "
      ],
      "text/plain": [
       "<IPython.core.display.HTML object>"
      ]
     },
     "metadata": {},
     "output_type": "display_data"
    },
    {
     "name": "stdout",
     "output_type": "stream",
     "text": [
      "Test: standard soft\n",
      "Accuracy: 0.7592592592592593\n",
      "F1-score: 0.5103748910200523\n"
     ]
    },
    {
     "name": "stderr",
     "output_type": "stream",
     "text": [
      "loading file https://huggingface.co/squirro/albert-base-v2-squad_v2/resolve/main/spiece.model from cache at None\n",
      "loading file https://huggingface.co/squirro/albert-base-v2-squad_v2/resolve/main/tokenizer.json from cache at /home/ppirozelli/.cache/huggingface/transformers/854d9fb1cff1a98746c3a363f1187898093480f32c587165d3266006ed9dc982.86db1f802cfe6a9c897ddd2a4d014cefa412234a5786884cb3556e28b82499a4\n",
      "loading file https://huggingface.co/squirro/albert-base-v2-squad_v2/resolve/main/added_tokens.json from cache at None\n",
      "loading file https://huggingface.co/squirro/albert-base-v2-squad_v2/resolve/main/special_tokens_map.json from cache at /home/ppirozelli/.cache/huggingface/transformers/f9e16ff8da7a33fd13f6e707018ec4e779212fc989e33dc39a9b2c9df7c094bd.4b56d965eb7203eb7c5b4175f6637c2acb092a769633430d5c34e7bac43f4418\n",
      "loading file https://huggingface.co/squirro/albert-base-v2-squad_v2/resolve/main/tokenizer_config.json from cache at /home/ppirozelli/.cache/huggingface/transformers/f6e6883708e7527b123859b54bfd8ce884c8fd34c29621d609b2fbbaa972ae8e.0df7fc51d55812cb97c946c7d47f91b9027db13a8fbe663b9a2cf7272bf09a93\n"
     ]
    },
    {
     "data": {
      "application/vnd.jupyter.widget-view+json": {
       "model_id": "a951d56e033748e49e57b3d09930c267",
       "version_major": 2,
       "version_minor": 0
      },
      "text/plain": [
       "  0%|          | 0/2 [00:00<?, ?ba/s]"
      ]
     },
     "metadata": {},
     "output_type": "display_data"
    },
    {
     "data": {
      "application/vnd.jupyter.widget-view+json": {
       "model_id": "2dd904328f0245f7a8f1ba1222db4e0b",
       "version_major": 2,
       "version_minor": 0
      },
      "text/plain": [
       "  0%|          | 0/1 [00:00<?, ?ba/s]"
      ]
     },
     "metadata": {},
     "output_type": "display_data"
    },
    {
     "data": {
      "application/vnd.jupyter.widget-view+json": {
       "model_id": "ec1344662e2140b1bc40c1f04124af03",
       "version_major": 2,
       "version_minor": 0
      },
      "text/plain": [
       "  0%|          | 0/1 [00:00<?, ?ba/s]"
      ]
     },
     "metadata": {},
     "output_type": "display_data"
    },
    {
     "name": "stderr",
     "output_type": "stream",
     "text": [
      "loading configuration file https://huggingface.co/squirro/albert-base-v2-squad_v2/resolve/main/config.json from cache at /home/ppirozelli/.cache/huggingface/transformers/d8310abd6ec14916591d52da0c7682c5e921038dff770981e2f3bad77673d885.4f73bfcca0823e2daf437789072eff28934c6c1c5e2fee5607e7d44582fff0af\n",
      "Model config AlbertConfig {\n",
      "  \"_name_or_path\": \"squirro/albert-base-v2-squad_v2\",\n",
      "  \"architectures\": [\n",
      "    \"AlbertForQuestionAnswering\"\n",
      "  ],\n",
      "  \"attention_probs_dropout_prob\": 0,\n",
      "  \"bos_token_id\": 2,\n",
      "  \"classifier_dropout_prob\": 0.1,\n",
      "  \"down_scale_factor\": 1,\n",
      "  \"embedding_size\": 128,\n",
      "  \"eos_token_id\": 3,\n",
      "  \"gap_size\": 0,\n",
      "  \"hidden_act\": \"gelu_new\",\n",
      "  \"hidden_dropout_prob\": 0,\n",
      "  \"hidden_size\": 768,\n",
      "  \"initializer_range\": 0.02,\n",
      "  \"inner_group_num\": 1,\n",
      "  \"intermediate_size\": 3072,\n",
      "  \"layer_norm_eps\": 1e-12,\n",
      "  \"max_position_embeddings\": 512,\n",
      "  \"model_type\": \"albert\",\n",
      "  \"net_structure_type\": 0,\n",
      "  \"num_attention_heads\": 12,\n",
      "  \"num_hidden_groups\": 1,\n",
      "  \"num_hidden_layers\": 12,\n",
      "  \"num_memory_blocks\": 0,\n",
      "  \"pad_token_id\": 0,\n",
      "  \"position_embedding_type\": \"absolute\",\n",
      "  \"torch_dtype\": \"float32\",\n",
      "  \"transformers_version\": \"4.14.1\",\n",
      "  \"type_vocab_size\": 2,\n",
      "  \"vocab_size\": 30000\n",
      "}\n",
      "\n",
      "loading weights file https://huggingface.co/squirro/albert-base-v2-squad_v2/resolve/main/pytorch_model.bin from cache at /home/ppirozelli/.cache/huggingface/transformers/2118bb79e64ddaf81dd3fdb7bd54d7af934b38b48f6227e0bc0be69d4f2bc887.b712a22803f7331a79226334db6ed65e212fba8fc01cf60d0aa9f6563099dd24\n",
      "Some weights of the model checkpoint at squirro/albert-base-v2-squad_v2 were not used when initializing AlbertForSequenceClassification: ['qa_outputs.weight', 'qa_outputs.bias']\n",
      "- This IS expected if you are initializing AlbertForSequenceClassification from the checkpoint of a model trained on another task or with another architecture (e.g. initializing a BertForSequenceClassification model from a BertForPreTraining model).\n",
      "- This IS NOT expected if you are initializing AlbertForSequenceClassification from the checkpoint of a model that you expect to be exactly identical (initializing a BertForSequenceClassification model from a BertForSequenceClassification model).\n",
      "Some weights of AlbertForSequenceClassification were not initialized from the model checkpoint at squirro/albert-base-v2-squad_v2 and are newly initialized: ['albert.pooler.weight', 'classifier.bias', 'classifier.weight', 'albert.pooler.bias']\n",
      "You should probably TRAIN this model on a down-stream task to be able to use it for predictions and inference.\n",
      "PyTorch: setting up devices\n",
      "The default value for the training argument `--report_to` will change in v5 (from all installed integrations to none). In v5, you will need to use `--report_to all` to get the same behavior as now. You should start updating your code and make this info disappear :-).\n",
      "The following columns in the training set  don't have a corresponding argument in `AlbertForSequenceClassification.forward` and have been ignored: abstract, answer_in_text, text, corpus, answer, answer_en_validate, question.\n",
      "***** Running training *****\n",
      "  Num examples = 1217\n",
      "  Num Epochs = 8\n",
      "  Instantaneous batch size per device = 16\n",
      "  Total train batch size (w. parallel, distributed & accumulation) = 32\n",
      "  Gradient Accumulation steps = 1\n",
      "  Total optimization steps = 312\n",
      "Automatic Weights & Biases logging enabled, to disable set os.environ[\"WANDB_DISABLED\"] = \"true\"\n",
      "/home/ppirozelli/anaconda3/lib/python3.9/site-packages/torch/nn/parallel/_functions.py:68: UserWarning: Was asked to gather along dimension 0, but all input tensors were scalars; will instead unsqueeze and return a vector.\n",
      "  warnings.warn('Was asked to gather along dimension 0, but all '\n"
     ]
    },
    {
     "data": {
      "text/html": [
       "\n",
       "    <div>\n",
       "      \n",
       "      <progress value='312' max='312' style='width:300px; height:20px; vertical-align: middle;'></progress>\n",
       "      [312/312 01:46, Epoch 8/8]\n",
       "    </div>\n",
       "    <table border=\"1\" class=\"dataframe\">\n",
       "  <thead>\n",
       "    <tr style=\"text-align: left;\">\n",
       "      <th>Step</th>\n",
       "      <th>Training Loss</th>\n",
       "    </tr>\n",
       "  </thead>\n",
       "  <tbody>\n",
       "  </tbody>\n",
       "</table><p>"
      ],
      "text/plain": [
       "<IPython.core.display.HTML object>"
      ]
     },
     "metadata": {},
     "output_type": "display_data"
    },
    {
     "name": "stderr",
     "output_type": "stream",
     "text": [
      "\n",
      "\n",
      "Training completed. Do not forget to share your model on huggingface.co/models =)\n",
      "\n",
      "\n",
      "The following columns in the test set  don't have a corresponding argument in `AlbertForSequenceClassification.forward` and have been ignored: abstract, answer_in_text, text, corpus, answer, answer_en_validate, question.\n",
      "***** Running Prediction *****\n",
      "  Num examples = 145\n",
      "  Batch size = 32\n"
     ]
    },
    {
     "data": {
      "text/html": [
       "\n",
       "    <div>\n",
       "      \n",
       "      <progress value='5' max='5' style='width:300px; height:20px; vertical-align: middle;'></progress>\n",
       "      [5/5 00:00]\n",
       "    </div>\n",
       "    "
      ],
      "text/plain": [
       "<IPython.core.display.HTML object>"
      ]
     },
     "metadata": {},
     "output_type": "display_data"
    },
    {
     "name": "stdout",
     "output_type": "stream",
     "text": [
      "Test: standard rigid\n",
      "Accuracy: 0.9310344827586207\n",
      "F1-score: 0.48214285714285715\n"
     ]
    },
    {
     "name": "stderr",
     "output_type": "stream",
     "text": [
      "loading file https://huggingface.co/squirro/albert-base-v2-squad_v2/resolve/main/spiece.model from cache at None\n",
      "loading file https://huggingface.co/squirro/albert-base-v2-squad_v2/resolve/main/tokenizer.json from cache at /home/ppirozelli/.cache/huggingface/transformers/854d9fb1cff1a98746c3a363f1187898093480f32c587165d3266006ed9dc982.86db1f802cfe6a9c897ddd2a4d014cefa412234a5786884cb3556e28b82499a4\n",
      "loading file https://huggingface.co/squirro/albert-base-v2-squad_v2/resolve/main/added_tokens.json from cache at None\n",
      "loading file https://huggingface.co/squirro/albert-base-v2-squad_v2/resolve/main/special_tokens_map.json from cache at /home/ppirozelli/.cache/huggingface/transformers/f9e16ff8da7a33fd13f6e707018ec4e779212fc989e33dc39a9b2c9df7c094bd.4b56d965eb7203eb7c5b4175f6637c2acb092a769633430d5c34e7bac43f4418\n",
      "loading file https://huggingface.co/squirro/albert-base-v2-squad_v2/resolve/main/tokenizer_config.json from cache at /home/ppirozelli/.cache/huggingface/transformers/f6e6883708e7527b123859b54bfd8ce884c8fd34c29621d609b2fbbaa972ae8e.0df7fc51d55812cb97c946c7d47f91b9027db13a8fbe663b9a2cf7272bf09a93\n"
     ]
    },
    {
     "data": {
      "application/vnd.jupyter.widget-view+json": {
       "model_id": "8cede47ed39d4823bffdc93b3529ad77",
       "version_major": 2,
       "version_minor": 0
      },
      "text/plain": [
       "  0%|          | 0/2 [00:00<?, ?ba/s]"
      ]
     },
     "metadata": {},
     "output_type": "display_data"
    },
    {
     "data": {
      "application/vnd.jupyter.widget-view+json": {
       "model_id": "bd8fe1483cf94ef19f5c7024eeca5eb2",
       "version_major": 2,
       "version_minor": 0
      },
      "text/plain": [
       "  0%|          | 0/1 [00:00<?, ?ba/s]"
      ]
     },
     "metadata": {},
     "output_type": "display_data"
    },
    {
     "data": {
      "application/vnd.jupyter.widget-view+json": {
       "model_id": "93c046f95fe74ba59b00d5beddc95139",
       "version_major": 2,
       "version_minor": 0
      },
      "text/plain": [
       "  0%|          | 0/1 [00:00<?, ?ba/s]"
      ]
     },
     "metadata": {},
     "output_type": "display_data"
    },
    {
     "name": "stderr",
     "output_type": "stream",
     "text": [
      "loading configuration file https://huggingface.co/squirro/albert-base-v2-squad_v2/resolve/main/config.json from cache at /home/ppirozelli/.cache/huggingface/transformers/d8310abd6ec14916591d52da0c7682c5e921038dff770981e2f3bad77673d885.4f73bfcca0823e2daf437789072eff28934c6c1c5e2fee5607e7d44582fff0af\n",
      "Model config AlbertConfig {\n",
      "  \"_name_or_path\": \"squirro/albert-base-v2-squad_v2\",\n",
      "  \"architectures\": [\n",
      "    \"AlbertForQuestionAnswering\"\n",
      "  ],\n",
      "  \"attention_probs_dropout_prob\": 0,\n",
      "  \"bos_token_id\": 2,\n",
      "  \"classifier_dropout_prob\": 0.1,\n",
      "  \"down_scale_factor\": 1,\n",
      "  \"embedding_size\": 128,\n",
      "  \"eos_token_id\": 3,\n",
      "  \"gap_size\": 0,\n",
      "  \"hidden_act\": \"gelu_new\",\n",
      "  \"hidden_dropout_prob\": 0,\n",
      "  \"hidden_size\": 768,\n",
      "  \"initializer_range\": 0.02,\n",
      "  \"inner_group_num\": 1,\n",
      "  \"intermediate_size\": 3072,\n",
      "  \"layer_norm_eps\": 1e-12,\n",
      "  \"max_position_embeddings\": 512,\n",
      "  \"model_type\": \"albert\",\n",
      "  \"net_structure_type\": 0,\n",
      "  \"num_attention_heads\": 12,\n",
      "  \"num_hidden_groups\": 1,\n",
      "  \"num_hidden_layers\": 12,\n",
      "  \"num_memory_blocks\": 0,\n",
      "  \"pad_token_id\": 0,\n",
      "  \"position_embedding_type\": \"absolute\",\n",
      "  \"torch_dtype\": \"float32\",\n",
      "  \"transformers_version\": \"4.14.1\",\n",
      "  \"type_vocab_size\": 2,\n",
      "  \"vocab_size\": 30000\n",
      "}\n",
      "\n",
      "loading weights file https://huggingface.co/squirro/albert-base-v2-squad_v2/resolve/main/pytorch_model.bin from cache at /home/ppirozelli/.cache/huggingface/transformers/2118bb79e64ddaf81dd3fdb7bd54d7af934b38b48f6227e0bc0be69d4f2bc887.b712a22803f7331a79226334db6ed65e212fba8fc01cf60d0aa9f6563099dd24\n",
      "Some weights of the model checkpoint at squirro/albert-base-v2-squad_v2 were not used when initializing AlbertForSequenceClassification: ['qa_outputs.weight', 'qa_outputs.bias']\n",
      "- This IS expected if you are initializing AlbertForSequenceClassification from the checkpoint of a model trained on another task or with another architecture (e.g. initializing a BertForSequenceClassification model from a BertForPreTraining model).\n",
      "- This IS NOT expected if you are initializing AlbertForSequenceClassification from the checkpoint of a model that you expect to be exactly identical (initializing a BertForSequenceClassification model from a BertForSequenceClassification model).\n",
      "Some weights of AlbertForSequenceClassification were not initialized from the model checkpoint at squirro/albert-base-v2-squad_v2 and are newly initialized: ['albert.pooler.weight', 'classifier.bias', 'classifier.weight', 'albert.pooler.bias']\n",
      "You should probably TRAIN this model on a down-stream task to be able to use it for predictions and inference.\n",
      "PyTorch: setting up devices\n",
      "The default value for the training argument `--report_to` will change in v5 (from all installed integrations to none). In v5, you will need to use `--report_to all` to get the same behavior as now. You should start updating your code and make this info disappear :-).\n",
      "The following columns in the training set  don't have a corresponding argument in `AlbertForSequenceClassification.forward` and have been ignored: abstract, answer_in_text, text, corpus, answer, answer_en_validate, question.\n",
      "***** Running training *****\n",
      "  Num examples = 1755\n",
      "  Num Epochs = 8\n",
      "  Instantaneous batch size per device = 16\n",
      "  Total train batch size (w. parallel, distributed & accumulation) = 32\n",
      "  Gradient Accumulation steps = 1\n",
      "  Total optimization steps = 440\n",
      "Automatic Weights & Biases logging enabled, to disable set os.environ[\"WANDB_DISABLED\"] = \"true\"\n",
      "/home/ppirozelli/anaconda3/lib/python3.9/site-packages/torch/nn/parallel/_functions.py:68: UserWarning: Was asked to gather along dimension 0, but all input tensors were scalars; will instead unsqueeze and return a vector.\n",
      "  warnings.warn('Was asked to gather along dimension 0, but all '\n"
     ]
    },
    {
     "data": {
      "text/html": [
       "\n",
       "    <div>\n",
       "      \n",
       "      <progress value='440' max='440' style='width:300px; height:20px; vertical-align: middle;'></progress>\n",
       "      [440/440 02:35, Epoch 8/8]\n",
       "    </div>\n",
       "    <table border=\"1\" class=\"dataframe\">\n",
       "  <thead>\n",
       "    <tr style=\"text-align: left;\">\n",
       "      <th>Step</th>\n",
       "      <th>Training Loss</th>\n",
       "    </tr>\n",
       "  </thead>\n",
       "  <tbody>\n",
       "  </tbody>\n",
       "</table><p>"
      ],
      "text/plain": [
       "<IPython.core.display.HTML object>"
      ]
     },
     "metadata": {},
     "output_type": "display_data"
    },
    {
     "name": "stderr",
     "output_type": "stream",
     "text": [
      "\n",
      "\n",
      "Training completed. Do not forget to share your model on huggingface.co/models =)\n",
      "\n",
      "\n",
      "The following columns in the test set  don't have a corresponding argument in `AlbertForSequenceClassification.forward` and have been ignored: abstract, answer_in_text, text, corpus, answer, answer_en_validate, question.\n",
      "***** Running Prediction *****\n",
      "  Num examples = 216\n",
      "  Batch size = 32\n"
     ]
    },
    {
     "data": {
      "text/html": [
       "\n",
       "    <div>\n",
       "      \n",
       "      <progress value='7' max='7' style='width:300px; height:20px; vertical-align: middle;'></progress>\n",
       "      [7/7 00:00]\n",
       "    </div>\n",
       "    "
      ],
      "text/plain": [
       "<IPython.core.display.HTML object>"
      ]
     },
     "metadata": {},
     "output_type": "display_data"
    },
    {
     "name": "stdout",
     "output_type": "stream",
     "text": [
      "Test: standard discrete\n",
      "Accuracy: 0.7592592592592593\n",
      "F1-score: 0.5230978260869565\n"
     ]
    },
    {
     "name": "stderr",
     "output_type": "stream",
     "text": [
      "loading file https://huggingface.co/squirro/albert-base-v2-squad_v2/resolve/main/spiece.model from cache at None\n",
      "loading file https://huggingface.co/squirro/albert-base-v2-squad_v2/resolve/main/tokenizer.json from cache at /home/ppirozelli/.cache/huggingface/transformers/854d9fb1cff1a98746c3a363f1187898093480f32c587165d3266006ed9dc982.86db1f802cfe6a9c897ddd2a4d014cefa412234a5786884cb3556e28b82499a4\n",
      "loading file https://huggingface.co/squirro/albert-base-v2-squad_v2/resolve/main/added_tokens.json from cache at None\n",
      "loading file https://huggingface.co/squirro/albert-base-v2-squad_v2/resolve/main/special_tokens_map.json from cache at /home/ppirozelli/.cache/huggingface/transformers/f9e16ff8da7a33fd13f6e707018ec4e779212fc989e33dc39a9b2c9df7c094bd.4b56d965eb7203eb7c5b4175f6637c2acb092a769633430d5c34e7bac43f4418\n",
      "loading file https://huggingface.co/squirro/albert-base-v2-squad_v2/resolve/main/tokenizer_config.json from cache at /home/ppirozelli/.cache/huggingface/transformers/f6e6883708e7527b123859b54bfd8ce884c8fd34c29621d609b2fbbaa972ae8e.0df7fc51d55812cb97c946c7d47f91b9027db13a8fbe663b9a2cf7272bf09a93\n"
     ]
    },
    {
     "data": {
      "application/vnd.jupyter.widget-view+json": {
       "model_id": "adeb203856cb43a7b055670b3ac34e77",
       "version_major": 2,
       "version_minor": 0
      },
      "text/plain": [
       "  0%|          | 0/7 [00:00<?, ?ba/s]"
      ]
     },
     "metadata": {},
     "output_type": "display_data"
    },
    {
     "data": {
      "application/vnd.jupyter.widget-view+json": {
       "model_id": "a5dfaa0db7624261a5e6f4f2cc4f27a5",
       "version_major": 2,
       "version_minor": 0
      },
      "text/plain": [
       "  0%|          | 0/1 [00:00<?, ?ba/s]"
      ]
     },
     "metadata": {},
     "output_type": "display_data"
    },
    {
     "data": {
      "application/vnd.jupyter.widget-view+json": {
       "model_id": "514599bf8b034e07ba21946e2ed2d653",
       "version_major": 2,
       "version_minor": 0
      },
      "text/plain": [
       "  0%|          | 0/1 [00:00<?, ?ba/s]"
      ]
     },
     "metadata": {},
     "output_type": "display_data"
    },
    {
     "name": "stderr",
     "output_type": "stream",
     "text": [
      "loading configuration file https://huggingface.co/squirro/albert-base-v2-squad_v2/resolve/main/config.json from cache at /home/ppirozelli/.cache/huggingface/transformers/d8310abd6ec14916591d52da0c7682c5e921038dff770981e2f3bad77673d885.4f73bfcca0823e2daf437789072eff28934c6c1c5e2fee5607e7d44582fff0af\n",
      "Model config AlbertConfig {\n",
      "  \"_name_or_path\": \"squirro/albert-base-v2-squad_v2\",\n",
      "  \"architectures\": [\n",
      "    \"AlbertForQuestionAnswering\"\n",
      "  ],\n",
      "  \"attention_probs_dropout_prob\": 0,\n",
      "  \"bos_token_id\": 2,\n",
      "  \"classifier_dropout_prob\": 0.1,\n",
      "  \"down_scale_factor\": 1,\n",
      "  \"embedding_size\": 128,\n",
      "  \"eos_token_id\": 3,\n",
      "  \"gap_size\": 0,\n",
      "  \"hidden_act\": \"gelu_new\",\n",
      "  \"hidden_dropout_prob\": 0,\n",
      "  \"hidden_size\": 768,\n",
      "  \"initializer_range\": 0.02,\n",
      "  \"inner_group_num\": 1,\n",
      "  \"intermediate_size\": 3072,\n",
      "  \"layer_norm_eps\": 1e-12,\n",
      "  \"max_position_embeddings\": 512,\n",
      "  \"model_type\": \"albert\",\n",
      "  \"net_structure_type\": 0,\n",
      "  \"num_attention_heads\": 12,\n",
      "  \"num_hidden_groups\": 1,\n",
      "  \"num_hidden_layers\": 12,\n",
      "  \"num_memory_blocks\": 0,\n",
      "  \"pad_token_id\": 0,\n",
      "  \"position_embedding_type\": \"absolute\",\n",
      "  \"torch_dtype\": \"float32\",\n",
      "  \"transformers_version\": \"4.14.1\",\n",
      "  \"type_vocab_size\": 2,\n",
      "  \"vocab_size\": 30000\n",
      "}\n",
      "\n",
      "loading weights file https://huggingface.co/squirro/albert-base-v2-squad_v2/resolve/main/pytorch_model.bin from cache at /home/ppirozelli/.cache/huggingface/transformers/2118bb79e64ddaf81dd3fdb7bd54d7af934b38b48f6227e0bc0be69d4f2bc887.b712a22803f7331a79226334db6ed65e212fba8fc01cf60d0aa9f6563099dd24\n",
      "Some weights of the model checkpoint at squirro/albert-base-v2-squad_v2 were not used when initializing AlbertForSequenceClassification: ['qa_outputs.weight', 'qa_outputs.bias']\n",
      "- This IS expected if you are initializing AlbertForSequenceClassification from the checkpoint of a model trained on another task or with another architecture (e.g. initializing a BertForSequenceClassification model from a BertForPreTraining model).\n",
      "- This IS NOT expected if you are initializing AlbertForSequenceClassification from the checkpoint of a model that you expect to be exactly identical (initializing a BertForSequenceClassification model from a BertForSequenceClassification model).\n",
      "Some weights of AlbertForSequenceClassification were not initialized from the model checkpoint at squirro/albert-base-v2-squad_v2 and are newly initialized: ['albert.pooler.weight', 'classifier.bias', 'classifier.weight', 'albert.pooler.bias']\n",
      "You should probably TRAIN this model on a down-stream task to be able to use it for predictions and inference.\n",
      "PyTorch: setting up devices\n",
      "The default value for the training argument `--report_to` will change in v5 (from all installed integrations to none). In v5, you will need to use `--report_to all` to get the same behavior as now. You should start updating your code and make this info disappear :-).\n",
      "The following columns in the training set  don't have a corresponding argument in `AlbertForSequenceClassification.forward` and have been ignored: abstract, answer_in_text, text, corpus, answer, question.\n",
      "***** Running training *****\n",
      "  Num examples = 6676\n",
      "  Num Epochs = 8\n",
      "  Instantaneous batch size per device = 16\n",
      "  Total train batch size (w. parallel, distributed & accumulation) = 32\n",
      "  Gradient Accumulation steps = 1\n",
      "  Total optimization steps = 1672\n",
      "Automatic Weights & Biases logging enabled, to disable set os.environ[\"WANDB_DISABLED\"] = \"true\"\n",
      "/home/ppirozelli/anaconda3/lib/python3.9/site-packages/torch/nn/parallel/_functions.py:68: UserWarning: Was asked to gather along dimension 0, but all input tensors were scalars; will instead unsqueeze and return a vector.\n",
      "  warnings.warn('Was asked to gather along dimension 0, but all '\n"
     ]
    },
    {
     "data": {
      "text/html": [
       "\n",
       "    <div>\n",
       "      \n",
       "      <progress value='1672' max='1672' style='width:300px; height:20px; vertical-align: middle;'></progress>\n",
       "      [1672/1672 09:58, Epoch 8/8]\n",
       "    </div>\n",
       "    <table border=\"1\" class=\"dataframe\">\n",
       "  <thead>\n",
       "    <tr style=\"text-align: left;\">\n",
       "      <th>Step</th>\n",
       "      <th>Training Loss</th>\n",
       "    </tr>\n",
       "  </thead>\n",
       "  <tbody>\n",
       "    <tr>\n",
       "      <td>500</td>\n",
       "      <td>0.267500</td>\n",
       "    </tr>\n",
       "    <tr>\n",
       "      <td>1000</td>\n",
       "      <td>0.079500</td>\n",
       "    </tr>\n",
       "    <tr>\n",
       "      <td>1500</td>\n",
       "      <td>0.055000</td>\n",
       "    </tr>\n",
       "  </tbody>\n",
       "</table><p>"
      ],
      "text/plain": [
       "<IPython.core.display.HTML object>"
      ]
     },
     "metadata": {},
     "output_type": "display_data"
    },
    {
     "name": "stderr",
     "output_type": "stream",
     "text": [
      "\n",
      "\n",
      "Training completed. Do not forget to share your model on huggingface.co/models =)\n",
      "\n",
      "\n",
      "The following columns in the test set  don't have a corresponding argument in `AlbertForSequenceClassification.forward` and have been ignored: abstract, answer_in_text, text, corpus, answer, answer_en_validate, question.\n",
      "***** Running Prediction *****\n",
      "  Num examples = 216\n",
      "  Batch size = 32\n"
     ]
    },
    {
     "data": {
      "text/html": [
       "\n",
       "    <div>\n",
       "      \n",
       "      <progress value='7' max='7' style='width:300px; height:20px; vertical-align: middle;'></progress>\n",
       "      [7/7 00:00]\n",
       "    </div>\n",
       "    "
      ],
      "text/plain": [
       "<IPython.core.display.HTML object>"
      ]
     },
     "metadata": {},
     "output_type": "display_data"
    },
    {
     "name": "stdout",
     "output_type": "stream",
     "text": [
      "Test: human_paraphrase soft\n",
      "Accuracy: 0.7916666666666666\n",
      "F1-score: 0.5452631578947369\n"
     ]
    },
    {
     "name": "stderr",
     "output_type": "stream",
     "text": [
      "loading file https://huggingface.co/squirro/albert-base-v2-squad_v2/resolve/main/spiece.model from cache at None\n",
      "loading file https://huggingface.co/squirro/albert-base-v2-squad_v2/resolve/main/tokenizer.json from cache at /home/ppirozelli/.cache/huggingface/transformers/854d9fb1cff1a98746c3a363f1187898093480f32c587165d3266006ed9dc982.86db1f802cfe6a9c897ddd2a4d014cefa412234a5786884cb3556e28b82499a4\n",
      "loading file https://huggingface.co/squirro/albert-base-v2-squad_v2/resolve/main/added_tokens.json from cache at None\n",
      "loading file https://huggingface.co/squirro/albert-base-v2-squad_v2/resolve/main/special_tokens_map.json from cache at /home/ppirozelli/.cache/huggingface/transformers/f9e16ff8da7a33fd13f6e707018ec4e779212fc989e33dc39a9b2c9df7c094bd.4b56d965eb7203eb7c5b4175f6637c2acb092a769633430d5c34e7bac43f4418\n",
      "loading file https://huggingface.co/squirro/albert-base-v2-squad_v2/resolve/main/tokenizer_config.json from cache at /home/ppirozelli/.cache/huggingface/transformers/f6e6883708e7527b123859b54bfd8ce884c8fd34c29621d609b2fbbaa972ae8e.0df7fc51d55812cb97c946c7d47f91b9027db13a8fbe663b9a2cf7272bf09a93\n"
     ]
    },
    {
     "data": {
      "application/vnd.jupyter.widget-view+json": {
       "model_id": "70680f8dba314604b9abd4f468287da0",
       "version_major": 2,
       "version_minor": 0
      },
      "text/plain": [
       "  0%|          | 0/5 [00:00<?, ?ba/s]"
      ]
     },
     "metadata": {},
     "output_type": "display_data"
    },
    {
     "data": {
      "application/vnd.jupyter.widget-view+json": {
       "model_id": "4af07b593205437399445f1c415c6c57",
       "version_major": 2,
       "version_minor": 0
      },
      "text/plain": [
       "  0%|          | 0/1 [00:00<?, ?ba/s]"
      ]
     },
     "metadata": {},
     "output_type": "display_data"
    },
    {
     "data": {
      "application/vnd.jupyter.widget-view+json": {
       "model_id": "66ebd93c71bd4514afadbb6656648170",
       "version_major": 2,
       "version_minor": 0
      },
      "text/plain": [
       "  0%|          | 0/1 [00:00<?, ?ba/s]"
      ]
     },
     "metadata": {},
     "output_type": "display_data"
    },
    {
     "name": "stderr",
     "output_type": "stream",
     "text": [
      "loading configuration file https://huggingface.co/squirro/albert-base-v2-squad_v2/resolve/main/config.json from cache at /home/ppirozelli/.cache/huggingface/transformers/d8310abd6ec14916591d52da0c7682c5e921038dff770981e2f3bad77673d885.4f73bfcca0823e2daf437789072eff28934c6c1c5e2fee5607e7d44582fff0af\n",
      "Model config AlbertConfig {\n",
      "  \"_name_or_path\": \"squirro/albert-base-v2-squad_v2\",\n",
      "  \"architectures\": [\n",
      "    \"AlbertForQuestionAnswering\"\n",
      "  ],\n",
      "  \"attention_probs_dropout_prob\": 0,\n",
      "  \"bos_token_id\": 2,\n",
      "  \"classifier_dropout_prob\": 0.1,\n",
      "  \"down_scale_factor\": 1,\n",
      "  \"embedding_size\": 128,\n",
      "  \"eos_token_id\": 3,\n",
      "  \"gap_size\": 0,\n",
      "  \"hidden_act\": \"gelu_new\",\n",
      "  \"hidden_dropout_prob\": 0,\n",
      "  \"hidden_size\": 768,\n",
      "  \"initializer_range\": 0.02,\n",
      "  \"inner_group_num\": 1,\n",
      "  \"intermediate_size\": 3072,\n",
      "  \"layer_norm_eps\": 1e-12,\n",
      "  \"max_position_embeddings\": 512,\n",
      "  \"model_type\": \"albert\",\n",
      "  \"net_structure_type\": 0,\n",
      "  \"num_attention_heads\": 12,\n",
      "  \"num_hidden_groups\": 1,\n",
      "  \"num_hidden_layers\": 12,\n",
      "  \"num_memory_blocks\": 0,\n",
      "  \"pad_token_id\": 0,\n",
      "  \"position_embedding_type\": \"absolute\",\n",
      "  \"torch_dtype\": \"float32\",\n",
      "  \"transformers_version\": \"4.14.1\",\n",
      "  \"type_vocab_size\": 2,\n",
      "  \"vocab_size\": 30000\n",
      "}\n",
      "\n",
      "loading weights file https://huggingface.co/squirro/albert-base-v2-squad_v2/resolve/main/pytorch_model.bin from cache at /home/ppirozelli/.cache/huggingface/transformers/2118bb79e64ddaf81dd3fdb7bd54d7af934b38b48f6227e0bc0be69d4f2bc887.b712a22803f7331a79226334db6ed65e212fba8fc01cf60d0aa9f6563099dd24\n",
      "Some weights of the model checkpoint at squirro/albert-base-v2-squad_v2 were not used when initializing AlbertForSequenceClassification: ['qa_outputs.weight', 'qa_outputs.bias']\n",
      "- This IS expected if you are initializing AlbertForSequenceClassification from the checkpoint of a model trained on another task or with another architecture (e.g. initializing a BertForSequenceClassification model from a BertForPreTraining model).\n",
      "- This IS NOT expected if you are initializing AlbertForSequenceClassification from the checkpoint of a model that you expect to be exactly identical (initializing a BertForSequenceClassification model from a BertForSequenceClassification model).\n",
      "Some weights of AlbertForSequenceClassification were not initialized from the model checkpoint at squirro/albert-base-v2-squad_v2 and are newly initialized: ['albert.pooler.weight', 'classifier.bias', 'classifier.weight', 'albert.pooler.bias']\n",
      "You should probably TRAIN this model on a down-stream task to be able to use it for predictions and inference.\n",
      "PyTorch: setting up devices\n",
      "The default value for the training argument `--report_to` will change in v5 (from all installed integrations to none). In v5, you will need to use `--report_to all` to get the same behavior as now. You should start updating your code and make this info disappear :-).\n",
      "The following columns in the training set  don't have a corresponding argument in `AlbertForSequenceClassification.forward` and have been ignored: abstract, answer_in_text, text, corpus, answer, question.\n",
      "***** Running training *****\n",
      "  Num examples = 4638\n",
      "  Num Epochs = 8\n",
      "  Instantaneous batch size per device = 16\n",
      "  Total train batch size (w. parallel, distributed & accumulation) = 32\n",
      "  Gradient Accumulation steps = 1\n",
      "  Total optimization steps = 1160\n",
      "Automatic Weights & Biases logging enabled, to disable set os.environ[\"WANDB_DISABLED\"] = \"true\"\n",
      "/home/ppirozelli/anaconda3/lib/python3.9/site-packages/torch/nn/parallel/_functions.py:68: UserWarning: Was asked to gather along dimension 0, but all input tensors were scalars; will instead unsqueeze and return a vector.\n",
      "  warnings.warn('Was asked to gather along dimension 0, but all '\n"
     ]
    },
    {
     "data": {
      "text/html": [
       "\n",
       "    <div>\n",
       "      \n",
       "      <progress value='1160' max='1160' style='width:300px; height:20px; vertical-align: middle;'></progress>\n",
       "      [1160/1160 06:57, Epoch 8/8]\n",
       "    </div>\n",
       "    <table border=\"1\" class=\"dataframe\">\n",
       "  <thead>\n",
       "    <tr style=\"text-align: left;\">\n",
       "      <th>Step</th>\n",
       "      <th>Training Loss</th>\n",
       "    </tr>\n",
       "  </thead>\n",
       "  <tbody>\n",
       "    <tr>\n",
       "      <td>500</td>\n",
       "      <td>0.133300</td>\n",
       "    </tr>\n",
       "    <tr>\n",
       "      <td>1000</td>\n",
       "      <td>0.058200</td>\n",
       "    </tr>\n",
       "  </tbody>\n",
       "</table><p>"
      ],
      "text/plain": [
       "<IPython.core.display.HTML object>"
      ]
     },
     "metadata": {},
     "output_type": "display_data"
    },
    {
     "name": "stderr",
     "output_type": "stream",
     "text": [
      "\n",
      "\n",
      "Training completed. Do not forget to share your model on huggingface.co/models =)\n",
      "\n",
      "\n",
      "The following columns in the test set  don't have a corresponding argument in `AlbertForSequenceClassification.forward` and have been ignored: abstract, answer_in_text, text, corpus, answer, answer_en_validate, question.\n",
      "***** Running Prediction *****\n",
      "  Num examples = 145\n",
      "  Batch size = 32\n"
     ]
    },
    {
     "data": {
      "text/html": [
       "\n",
       "    <div>\n",
       "      \n",
       "      <progress value='5' max='5' style='width:300px; height:20px; vertical-align: middle;'></progress>\n",
       "      [5/5 00:00]\n",
       "    </div>\n",
       "    "
      ],
      "text/plain": [
       "<IPython.core.display.HTML object>"
      ]
     },
     "metadata": {},
     "output_type": "display_data"
    },
    {
     "name": "stdout",
     "output_type": "stream",
     "text": [
      "Test: human_paraphrase rigid\n",
      "Accuracy: 0.9310344827586207\n",
      "F1-score: 0.5653477218225419\n"
     ]
    },
    {
     "name": "stderr",
     "output_type": "stream",
     "text": [
      "loading file https://huggingface.co/squirro/albert-base-v2-squad_v2/resolve/main/spiece.model from cache at None\n",
      "loading file https://huggingface.co/squirro/albert-base-v2-squad_v2/resolve/main/tokenizer.json from cache at /home/ppirozelli/.cache/huggingface/transformers/854d9fb1cff1a98746c3a363f1187898093480f32c587165d3266006ed9dc982.86db1f802cfe6a9c897ddd2a4d014cefa412234a5786884cb3556e28b82499a4\n",
      "loading file https://huggingface.co/squirro/albert-base-v2-squad_v2/resolve/main/added_tokens.json from cache at None\n",
      "loading file https://huggingface.co/squirro/albert-base-v2-squad_v2/resolve/main/special_tokens_map.json from cache at /home/ppirozelli/.cache/huggingface/transformers/f9e16ff8da7a33fd13f6e707018ec4e779212fc989e33dc39a9b2c9df7c094bd.4b56d965eb7203eb7c5b4175f6637c2acb092a769633430d5c34e7bac43f4418\n",
      "loading file https://huggingface.co/squirro/albert-base-v2-squad_v2/resolve/main/tokenizer_config.json from cache at /home/ppirozelli/.cache/huggingface/transformers/f6e6883708e7527b123859b54bfd8ce884c8fd34c29621d609b2fbbaa972ae8e.0df7fc51d55812cb97c946c7d47f91b9027db13a8fbe663b9a2cf7272bf09a93\n"
     ]
    },
    {
     "data": {
      "application/vnd.jupyter.widget-view+json": {
       "model_id": "71c94e1df66c4492ba088010618a13b1",
       "version_major": 2,
       "version_minor": 0
      },
      "text/plain": [
       "  0%|          | 0/7 [00:00<?, ?ba/s]"
      ]
     },
     "metadata": {},
     "output_type": "display_data"
    },
    {
     "data": {
      "application/vnd.jupyter.widget-view+json": {
       "model_id": "c9496b36aa6047d7a59daddc8799e08b",
       "version_major": 2,
       "version_minor": 0
      },
      "text/plain": [
       "  0%|          | 0/1 [00:00<?, ?ba/s]"
      ]
     },
     "metadata": {},
     "output_type": "display_data"
    },
    {
     "data": {
      "application/vnd.jupyter.widget-view+json": {
       "model_id": "e78e8db377764d1eb1586c93b96573ea",
       "version_major": 2,
       "version_minor": 0
      },
      "text/plain": [
       "  0%|          | 0/1 [00:00<?, ?ba/s]"
      ]
     },
     "metadata": {},
     "output_type": "display_data"
    },
    {
     "name": "stderr",
     "output_type": "stream",
     "text": [
      "loading configuration file https://huggingface.co/squirro/albert-base-v2-squad_v2/resolve/main/config.json from cache at /home/ppirozelli/.cache/huggingface/transformers/d8310abd6ec14916591d52da0c7682c5e921038dff770981e2f3bad77673d885.4f73bfcca0823e2daf437789072eff28934c6c1c5e2fee5607e7d44582fff0af\n",
      "Model config AlbertConfig {\n",
      "  \"_name_or_path\": \"squirro/albert-base-v2-squad_v2\",\n",
      "  \"architectures\": [\n",
      "    \"AlbertForQuestionAnswering\"\n",
      "  ],\n",
      "  \"attention_probs_dropout_prob\": 0,\n",
      "  \"bos_token_id\": 2,\n",
      "  \"classifier_dropout_prob\": 0.1,\n",
      "  \"down_scale_factor\": 1,\n",
      "  \"embedding_size\": 128,\n",
      "  \"eos_token_id\": 3,\n",
      "  \"gap_size\": 0,\n",
      "  \"hidden_act\": \"gelu_new\",\n",
      "  \"hidden_dropout_prob\": 0,\n",
      "  \"hidden_size\": 768,\n",
      "  \"initializer_range\": 0.02,\n",
      "  \"inner_group_num\": 1,\n",
      "  \"intermediate_size\": 3072,\n",
      "  \"layer_norm_eps\": 1e-12,\n",
      "  \"max_position_embeddings\": 512,\n",
      "  \"model_type\": \"albert\",\n",
      "  \"net_structure_type\": 0,\n",
      "  \"num_attention_heads\": 12,\n",
      "  \"num_hidden_groups\": 1,\n",
      "  \"num_hidden_layers\": 12,\n",
      "  \"num_memory_blocks\": 0,\n",
      "  \"pad_token_id\": 0,\n",
      "  \"position_embedding_type\": \"absolute\",\n",
      "  \"torch_dtype\": \"float32\",\n",
      "  \"transformers_version\": \"4.14.1\",\n",
      "  \"type_vocab_size\": 2,\n",
      "  \"vocab_size\": 30000\n",
      "}\n",
      "\n",
      "loading weights file https://huggingface.co/squirro/albert-base-v2-squad_v2/resolve/main/pytorch_model.bin from cache at /home/ppirozelli/.cache/huggingface/transformers/2118bb79e64ddaf81dd3fdb7bd54d7af934b38b48f6227e0bc0be69d4f2bc887.b712a22803f7331a79226334db6ed65e212fba8fc01cf60d0aa9f6563099dd24\n",
      "Some weights of the model checkpoint at squirro/albert-base-v2-squad_v2 were not used when initializing AlbertForSequenceClassification: ['qa_outputs.weight', 'qa_outputs.bias']\n",
      "- This IS expected if you are initializing AlbertForSequenceClassification from the checkpoint of a model trained on another task or with another architecture (e.g. initializing a BertForSequenceClassification model from a BertForPreTraining model).\n",
      "- This IS NOT expected if you are initializing AlbertForSequenceClassification from the checkpoint of a model that you expect to be exactly identical (initializing a BertForSequenceClassification model from a BertForSequenceClassification model).\n",
      "Some weights of AlbertForSequenceClassification were not initialized from the model checkpoint at squirro/albert-base-v2-squad_v2 and are newly initialized: ['albert.pooler.weight', 'classifier.bias', 'classifier.weight', 'albert.pooler.bias']\n",
      "You should probably TRAIN this model on a down-stream task to be able to use it for predictions and inference.\n",
      "PyTorch: setting up devices\n",
      "The default value for the training argument `--report_to` will change in v5 (from all installed integrations to none). In v5, you will need to use `--report_to all` to get the same behavior as now. You should start updating your code and make this info disappear :-).\n",
      "The following columns in the training set  don't have a corresponding argument in `AlbertForSequenceClassification.forward` and have been ignored: abstract, answer_in_text, text, corpus, answer, question.\n",
      "***** Running training *****\n",
      "  Num examples = 6676\n",
      "  Num Epochs = 8\n",
      "  Instantaneous batch size per device = 16\n",
      "  Total train batch size (w. parallel, distributed & accumulation) = 32\n",
      "  Gradient Accumulation steps = 1\n",
      "  Total optimization steps = 1672\n",
      "Automatic Weights & Biases logging enabled, to disable set os.environ[\"WANDB_DISABLED\"] = \"true\"\n",
      "/home/ppirozelli/anaconda3/lib/python3.9/site-packages/torch/nn/parallel/_functions.py:68: UserWarning: Was asked to gather along dimension 0, but all input tensors were scalars; will instead unsqueeze and return a vector.\n",
      "  warnings.warn('Was asked to gather along dimension 0, but all '\n"
     ]
    },
    {
     "data": {
      "text/html": [
       "\n",
       "    <div>\n",
       "      \n",
       "      <progress value='1672' max='1672' style='width:300px; height:20px; vertical-align: middle;'></progress>\n",
       "      [1672/1672 10:05, Epoch 8/8]\n",
       "    </div>\n",
       "    <table border=\"1\" class=\"dataframe\">\n",
       "  <thead>\n",
       "    <tr style=\"text-align: left;\">\n",
       "      <th>Step</th>\n",
       "      <th>Training Loss</th>\n",
       "    </tr>\n",
       "  </thead>\n",
       "  <tbody>\n",
       "    <tr>\n",
       "      <td>500</td>\n",
       "      <td>0.267500</td>\n",
       "    </tr>\n",
       "    <tr>\n",
       "      <td>1000</td>\n",
       "      <td>0.079500</td>\n",
       "    </tr>\n",
       "    <tr>\n",
       "      <td>1500</td>\n",
       "      <td>0.055000</td>\n",
       "    </tr>\n",
       "  </tbody>\n",
       "</table><p>"
      ],
      "text/plain": [
       "<IPython.core.display.HTML object>"
      ]
     },
     "metadata": {},
     "output_type": "display_data"
    },
    {
     "name": "stderr",
     "output_type": "stream",
     "text": [
      "\n",
      "\n",
      "Training completed. Do not forget to share your model on huggingface.co/models =)\n",
      "\n",
      "\n",
      "The following columns in the test set  don't have a corresponding argument in `AlbertForSequenceClassification.forward` and have been ignored: abstract, answer_in_text, text, corpus, answer, answer_en_validate, question.\n",
      "***** Running Prediction *****\n",
      "  Num examples = 216\n",
      "  Batch size = 32\n"
     ]
    },
    {
     "data": {
      "text/html": [
       "\n",
       "    <div>\n",
       "      \n",
       "      <progress value='7' max='7' style='width:300px; height:20px; vertical-align: middle;'></progress>\n",
       "      [7/7 00:00]\n",
       "    </div>\n",
       "    "
      ],
      "text/plain": [
       "<IPython.core.display.HTML object>"
      ]
     },
     "metadata": {},
     "output_type": "display_data"
    },
    {
     "name": "stdout",
     "output_type": "stream",
     "text": [
      "Test: human_paraphrase discrete\n",
      "Accuracy: 0.7916666666666666\n",
      "F1-score: 0.5452631578947369\n"
     ]
    },
    {
     "name": "stderr",
     "output_type": "stream",
     "text": [
      "loading file https://huggingface.co/squirro/albert-base-v2-squad_v2/resolve/main/spiece.model from cache at None\n",
      "loading file https://huggingface.co/squirro/albert-base-v2-squad_v2/resolve/main/tokenizer.json from cache at /home/ppirozelli/.cache/huggingface/transformers/854d9fb1cff1a98746c3a363f1187898093480f32c587165d3266006ed9dc982.86db1f802cfe6a9c897ddd2a4d014cefa412234a5786884cb3556e28b82499a4\n",
      "loading file https://huggingface.co/squirro/albert-base-v2-squad_v2/resolve/main/added_tokens.json from cache at None\n",
      "loading file https://huggingface.co/squirro/albert-base-v2-squad_v2/resolve/main/special_tokens_map.json from cache at /home/ppirozelli/.cache/huggingface/transformers/f9e16ff8da7a33fd13f6e707018ec4e779212fc989e33dc39a9b2c9df7c094bd.4b56d965eb7203eb7c5b4175f6637c2acb092a769633430d5c34e7bac43f4418\n",
      "loading file https://huggingface.co/squirro/albert-base-v2-squad_v2/resolve/main/tokenizer_config.json from cache at /home/ppirozelli/.cache/huggingface/transformers/f6e6883708e7527b123859b54bfd8ce884c8fd34c29621d609b2fbbaa972ae8e.0df7fc51d55812cb97c946c7d47f91b9027db13a8fbe663b9a2cf7272bf09a93\n"
     ]
    },
    {
     "data": {
      "application/vnd.jupyter.widget-view+json": {
       "model_id": "08b471691de64849ae1234509e85bfc4",
       "version_major": 2,
       "version_minor": 0
      },
      "text/plain": [
       "  0%|          | 0/64 [00:00<?, ?ba/s]"
      ]
     },
     "metadata": {},
     "output_type": "display_data"
    },
    {
     "data": {
      "application/vnd.jupyter.widget-view+json": {
       "model_id": "1b1e433e149f4f96a8d50bb83da78f89",
       "version_major": 2,
       "version_minor": 0
      },
      "text/plain": [
       "  0%|          | 0/1 [00:00<?, ?ba/s]"
      ]
     },
     "metadata": {},
     "output_type": "display_data"
    },
    {
     "data": {
      "application/vnd.jupyter.widget-view+json": {
       "model_id": "5960c857d164471e87e0484b70431075",
       "version_major": 2,
       "version_minor": 0
      },
      "text/plain": [
       "  0%|          | 0/1 [00:00<?, ?ba/s]"
      ]
     },
     "metadata": {},
     "output_type": "display_data"
    },
    {
     "name": "stderr",
     "output_type": "stream",
     "text": [
      "loading configuration file https://huggingface.co/squirro/albert-base-v2-squad_v2/resolve/main/config.json from cache at /home/ppirozelli/.cache/huggingface/transformers/d8310abd6ec14916591d52da0c7682c5e921038dff770981e2f3bad77673d885.4f73bfcca0823e2daf437789072eff28934c6c1c5e2fee5607e7d44582fff0af\n",
      "Model config AlbertConfig {\n",
      "  \"_name_or_path\": \"squirro/albert-base-v2-squad_v2\",\n",
      "  \"architectures\": [\n",
      "    \"AlbertForQuestionAnswering\"\n",
      "  ],\n",
      "  \"attention_probs_dropout_prob\": 0,\n",
      "  \"bos_token_id\": 2,\n",
      "  \"classifier_dropout_prob\": 0.1,\n",
      "  \"down_scale_factor\": 1,\n",
      "  \"embedding_size\": 128,\n",
      "  \"eos_token_id\": 3,\n",
      "  \"gap_size\": 0,\n",
      "  \"hidden_act\": \"gelu_new\",\n",
      "  \"hidden_dropout_prob\": 0,\n",
      "  \"hidden_size\": 768,\n",
      "  \"initializer_range\": 0.02,\n",
      "  \"inner_group_num\": 1,\n",
      "  \"intermediate_size\": 3072,\n",
      "  \"layer_norm_eps\": 1e-12,\n",
      "  \"max_position_embeddings\": 512,\n",
      "  \"model_type\": \"albert\",\n",
      "  \"net_structure_type\": 0,\n",
      "  \"num_attention_heads\": 12,\n",
      "  \"num_hidden_groups\": 1,\n",
      "  \"num_hidden_layers\": 12,\n",
      "  \"num_memory_blocks\": 0,\n",
      "  \"pad_token_id\": 0,\n",
      "  \"position_embedding_type\": \"absolute\",\n",
      "  \"torch_dtype\": \"float32\",\n",
      "  \"transformers_version\": \"4.14.1\",\n",
      "  \"type_vocab_size\": 2,\n",
      "  \"vocab_size\": 30000\n",
      "}\n",
      "\n",
      "loading weights file https://huggingface.co/squirro/albert-base-v2-squad_v2/resolve/main/pytorch_model.bin from cache at /home/ppirozelli/.cache/huggingface/transformers/2118bb79e64ddaf81dd3fdb7bd54d7af934b38b48f6227e0bc0be69d4f2bc887.b712a22803f7331a79226334db6ed65e212fba8fc01cf60d0aa9f6563099dd24\n",
      "Some weights of the model checkpoint at squirro/albert-base-v2-squad_v2 were not used when initializing AlbertForSequenceClassification: ['qa_outputs.weight', 'qa_outputs.bias']\n",
      "- This IS expected if you are initializing AlbertForSequenceClassification from the checkpoint of a model trained on another task or with another architecture (e.g. initializing a BertForSequenceClassification model from a BertForPreTraining model).\n",
      "- This IS NOT expected if you are initializing AlbertForSequenceClassification from the checkpoint of a model that you expect to be exactly identical (initializing a BertForSequenceClassification model from a BertForSequenceClassification model).\n",
      "Some weights of AlbertForSequenceClassification were not initialized from the model checkpoint at squirro/albert-base-v2-squad_v2 and are newly initialized: ['albert.pooler.weight', 'classifier.bias', 'classifier.weight', 'albert.pooler.bias']\n",
      "You should probably TRAIN this model on a down-stream task to be able to use it for predictions and inference.\n",
      "PyTorch: setting up devices\n",
      "The default value for the training argument `--report_to` will change in v5 (from all installed integrations to none). In v5, you will need to use `--report_to all` to get the same behavior as now. You should start updating your code and make this info disappear :-).\n",
      "The following columns in the training set  don't have a corresponding argument in `AlbertForSequenceClassification.forward` and have been ignored: abstract, answer_in_text, text, corpus, answer, question.\n",
      "***** Running training *****\n",
      "  Num examples = 63180\n",
      "  Num Epochs = 8\n",
      "  Instantaneous batch size per device = 16\n",
      "  Total train batch size (w. parallel, distributed & accumulation) = 32\n",
      "  Gradient Accumulation steps = 1\n",
      "  Total optimization steps = 15800\n",
      "Automatic Weights & Biases logging enabled, to disable set os.environ[\"WANDB_DISABLED\"] = \"true\"\n",
      "/home/ppirozelli/anaconda3/lib/python3.9/site-packages/torch/nn/parallel/_functions.py:68: UserWarning: Was asked to gather along dimension 0, but all input tensors were scalars; will instead unsqueeze and return a vector.\n",
      "  warnings.warn('Was asked to gather along dimension 0, but all '\n"
     ]
    },
    {
     "data": {
      "text/html": [
       "\n",
       "    <div>\n",
       "      \n",
       "      <progress value='15800' max='15800' style='width:300px; height:20px; vertical-align: middle;'></progress>\n",
       "      [15800/15800 1:35:20, Epoch 8/8]\n",
       "    </div>\n",
       "    <table border=\"1\" class=\"dataframe\">\n",
       "  <thead>\n",
       "    <tr style=\"text-align: left;\">\n",
       "      <th>Step</th>\n",
       "      <th>Training Loss</th>\n",
       "    </tr>\n",
       "  </thead>\n",
       "  <tbody>\n",
       "    <tr>\n",
       "      <td>500</td>\n",
       "      <td>0.350900</td>\n",
       "    </tr>\n",
       "    <tr>\n",
       "      <td>1000</td>\n",
       "      <td>0.180800</td>\n",
       "    </tr>\n",
       "    <tr>\n",
       "      <td>1500</td>\n",
       "      <td>0.118900</td>\n",
       "    </tr>\n",
       "    <tr>\n",
       "      <td>2000</td>\n",
       "      <td>0.098900</td>\n",
       "    </tr>\n",
       "    <tr>\n",
       "      <td>2500</td>\n",
       "      <td>0.085700</td>\n",
       "    </tr>\n",
       "    <tr>\n",
       "      <td>3000</td>\n",
       "      <td>0.077600</td>\n",
       "    </tr>\n",
       "    <tr>\n",
       "      <td>3500</td>\n",
       "      <td>0.068000</td>\n",
       "    </tr>\n",
       "    <tr>\n",
       "      <td>4000</td>\n",
       "      <td>0.065300</td>\n",
       "    </tr>\n",
       "    <tr>\n",
       "      <td>4500</td>\n",
       "      <td>0.059500</td>\n",
       "    </tr>\n",
       "    <tr>\n",
       "      <td>5000</td>\n",
       "      <td>0.053000</td>\n",
       "    </tr>\n",
       "    <tr>\n",
       "      <td>5500</td>\n",
       "      <td>0.054300</td>\n",
       "    </tr>\n",
       "    <tr>\n",
       "      <td>6000</td>\n",
       "      <td>0.054900</td>\n",
       "    </tr>\n",
       "    <tr>\n",
       "      <td>6500</td>\n",
       "      <td>0.052000</td>\n",
       "    </tr>\n",
       "    <tr>\n",
       "      <td>7000</td>\n",
       "      <td>0.055000</td>\n",
       "    </tr>\n",
       "    <tr>\n",
       "      <td>7500</td>\n",
       "      <td>0.049000</td>\n",
       "    </tr>\n",
       "    <tr>\n",
       "      <td>8000</td>\n",
       "      <td>0.047500</td>\n",
       "    </tr>\n",
       "    <tr>\n",
       "      <td>8500</td>\n",
       "      <td>0.045000</td>\n",
       "    </tr>\n",
       "    <tr>\n",
       "      <td>9000</td>\n",
       "      <td>0.047800</td>\n",
       "    </tr>\n",
       "    <tr>\n",
       "      <td>9500</td>\n",
       "      <td>0.050400</td>\n",
       "    </tr>\n",
       "    <tr>\n",
       "      <td>10000</td>\n",
       "      <td>0.045200</td>\n",
       "    </tr>\n",
       "    <tr>\n",
       "      <td>10500</td>\n",
       "      <td>0.042900</td>\n",
       "    </tr>\n",
       "    <tr>\n",
       "      <td>11000</td>\n",
       "      <td>0.045800</td>\n",
       "    </tr>\n",
       "    <tr>\n",
       "      <td>11500</td>\n",
       "      <td>0.044400</td>\n",
       "    </tr>\n",
       "    <tr>\n",
       "      <td>12000</td>\n",
       "      <td>0.046900</td>\n",
       "    </tr>\n",
       "    <tr>\n",
       "      <td>12500</td>\n",
       "      <td>0.044500</td>\n",
       "    </tr>\n",
       "    <tr>\n",
       "      <td>13000</td>\n",
       "      <td>0.042800</td>\n",
       "    </tr>\n",
       "    <tr>\n",
       "      <td>13500</td>\n",
       "      <td>0.043300</td>\n",
       "    </tr>\n",
       "    <tr>\n",
       "      <td>14000</td>\n",
       "      <td>0.042300</td>\n",
       "    </tr>\n",
       "    <tr>\n",
       "      <td>14500</td>\n",
       "      <td>0.043000</td>\n",
       "    </tr>\n",
       "    <tr>\n",
       "      <td>15000</td>\n",
       "      <td>0.040500</td>\n",
       "    </tr>\n",
       "    <tr>\n",
       "      <td>15500</td>\n",
       "      <td>0.043400</td>\n",
       "    </tr>\n",
       "  </tbody>\n",
       "</table><p>"
      ],
      "text/plain": [
       "<IPython.core.display.HTML object>"
      ]
     },
     "metadata": {},
     "output_type": "display_data"
    },
    {
     "name": "stderr",
     "output_type": "stream",
     "text": [
      "\n",
      "\n",
      "Training completed. Do not forget to share your model on huggingface.co/models =)\n",
      "\n",
      "\n",
      "The following columns in the test set  don't have a corresponding argument in `AlbertForSequenceClassification.forward` and have been ignored: abstract, answer_in_text, text, corpus, answer, answer_en_validate, question.\n",
      "***** Running Prediction *****\n",
      "  Num examples = 216\n",
      "  Batch size = 32\n"
     ]
    },
    {
     "data": {
      "text/html": [
       "\n",
       "    <div>\n",
       "      \n",
       "      <progress value='7' max='7' style='width:300px; height:20px; vertical-align: middle;'></progress>\n",
       "      [7/7 00:00]\n",
       "    </div>\n",
       "    "
      ],
      "text/plain": [
       "<IPython.core.display.HTML object>"
      ]
     },
     "metadata": {},
     "output_type": "display_data"
    },
    {
     "name": "stdout",
     "output_type": "stream",
     "text": [
      "Test: automatic_paraphrase soft\n",
      "Accuracy: 0.7638888888888888\n",
      "F1-score: 0.51323405947594\n"
     ]
    },
    {
     "name": "stderr",
     "output_type": "stream",
     "text": [
      "loading file https://huggingface.co/squirro/albert-base-v2-squad_v2/resolve/main/spiece.model from cache at None\n",
      "loading file https://huggingface.co/squirro/albert-base-v2-squad_v2/resolve/main/tokenizer.json from cache at /home/ppirozelli/.cache/huggingface/transformers/854d9fb1cff1a98746c3a363f1187898093480f32c587165d3266006ed9dc982.86db1f802cfe6a9c897ddd2a4d014cefa412234a5786884cb3556e28b82499a4\n",
      "loading file https://huggingface.co/squirro/albert-base-v2-squad_v2/resolve/main/added_tokens.json from cache at None\n",
      "loading file https://huggingface.co/squirro/albert-base-v2-squad_v2/resolve/main/special_tokens_map.json from cache at /home/ppirozelli/.cache/huggingface/transformers/f9e16ff8da7a33fd13f6e707018ec4e779212fc989e33dc39a9b2c9df7c094bd.4b56d965eb7203eb7c5b4175f6637c2acb092a769633430d5c34e7bac43f4418\n",
      "loading file https://huggingface.co/squirro/albert-base-v2-squad_v2/resolve/main/tokenizer_config.json from cache at /home/ppirozelli/.cache/huggingface/transformers/f6e6883708e7527b123859b54bfd8ce884c8fd34c29621d609b2fbbaa972ae8e.0df7fc51d55812cb97c946c7d47f91b9027db13a8fbe663b9a2cf7272bf09a93\n"
     ]
    },
    {
     "data": {
      "application/vnd.jupyter.widget-view+json": {
       "model_id": "a8a7a1c4aa6e4d9b8a576900a9fa92fd",
       "version_major": 2,
       "version_minor": 0
      },
      "text/plain": [
       "  0%|          | 0/44 [00:00<?, ?ba/s]"
      ]
     },
     "metadata": {},
     "output_type": "display_data"
    },
    {
     "data": {
      "application/vnd.jupyter.widget-view+json": {
       "model_id": "d626f14472784e62bc200d08c939e97e",
       "version_major": 2,
       "version_minor": 0
      },
      "text/plain": [
       "  0%|          | 0/1 [00:00<?, ?ba/s]"
      ]
     },
     "metadata": {},
     "output_type": "display_data"
    },
    {
     "data": {
      "application/vnd.jupyter.widget-view+json": {
       "model_id": "953a276bc8be43968e5ea3e11631df25",
       "version_major": 2,
       "version_minor": 0
      },
      "text/plain": [
       "  0%|          | 0/1 [00:00<?, ?ba/s]"
      ]
     },
     "metadata": {},
     "output_type": "display_data"
    },
    {
     "name": "stderr",
     "output_type": "stream",
     "text": [
      "loading configuration file https://huggingface.co/squirro/albert-base-v2-squad_v2/resolve/main/config.json from cache at /home/ppirozelli/.cache/huggingface/transformers/d8310abd6ec14916591d52da0c7682c5e921038dff770981e2f3bad77673d885.4f73bfcca0823e2daf437789072eff28934c6c1c5e2fee5607e7d44582fff0af\n",
      "Model config AlbertConfig {\n",
      "  \"_name_or_path\": \"squirro/albert-base-v2-squad_v2\",\n",
      "  \"architectures\": [\n",
      "    \"AlbertForQuestionAnswering\"\n",
      "  ],\n",
      "  \"attention_probs_dropout_prob\": 0,\n",
      "  \"bos_token_id\": 2,\n",
      "  \"classifier_dropout_prob\": 0.1,\n",
      "  \"down_scale_factor\": 1,\n",
      "  \"embedding_size\": 128,\n",
      "  \"eos_token_id\": 3,\n",
      "  \"gap_size\": 0,\n",
      "  \"hidden_act\": \"gelu_new\",\n",
      "  \"hidden_dropout_prob\": 0,\n",
      "  \"hidden_size\": 768,\n",
      "  \"initializer_range\": 0.02,\n",
      "  \"inner_group_num\": 1,\n",
      "  \"intermediate_size\": 3072,\n",
      "  \"layer_norm_eps\": 1e-12,\n",
      "  \"max_position_embeddings\": 512,\n",
      "  \"model_type\": \"albert\",\n",
      "  \"net_structure_type\": 0,\n",
      "  \"num_attention_heads\": 12,\n",
      "  \"num_hidden_groups\": 1,\n",
      "  \"num_hidden_layers\": 12,\n",
      "  \"num_memory_blocks\": 0,\n",
      "  \"pad_token_id\": 0,\n",
      "  \"position_embedding_type\": \"absolute\",\n",
      "  \"torch_dtype\": \"float32\",\n",
      "  \"transformers_version\": \"4.14.1\",\n",
      "  \"type_vocab_size\": 2,\n",
      "  \"vocab_size\": 30000\n",
      "}\n",
      "\n",
      "loading weights file https://huggingface.co/squirro/albert-base-v2-squad_v2/resolve/main/pytorch_model.bin from cache at /home/ppirozelli/.cache/huggingface/transformers/2118bb79e64ddaf81dd3fdb7bd54d7af934b38b48f6227e0bc0be69d4f2bc887.b712a22803f7331a79226334db6ed65e212fba8fc01cf60d0aa9f6563099dd24\n",
      "Some weights of the model checkpoint at squirro/albert-base-v2-squad_v2 were not used when initializing AlbertForSequenceClassification: ['qa_outputs.weight', 'qa_outputs.bias']\n",
      "- This IS expected if you are initializing AlbertForSequenceClassification from the checkpoint of a model trained on another task or with another architecture (e.g. initializing a BertForSequenceClassification model from a BertForPreTraining model).\n",
      "- This IS NOT expected if you are initializing AlbertForSequenceClassification from the checkpoint of a model that you expect to be exactly identical (initializing a BertForSequenceClassification model from a BertForSequenceClassification model).\n",
      "Some weights of AlbertForSequenceClassification were not initialized from the model checkpoint at squirro/albert-base-v2-squad_v2 and are newly initialized: ['albert.pooler.weight', 'classifier.bias', 'classifier.weight', 'albert.pooler.bias']\n",
      "You should probably TRAIN this model on a down-stream task to be able to use it for predictions and inference.\n",
      "PyTorch: setting up devices\n",
      "The default value for the training argument `--report_to` will change in v5 (from all installed integrations to none). In v5, you will need to use `--report_to all` to get the same behavior as now. You should start updating your code and make this info disappear :-).\n",
      "The following columns in the training set  don't have a corresponding argument in `AlbertForSequenceClassification.forward` and have been ignored: abstract, answer_in_text, text, corpus, answer, question.\n",
      "***** Running training *****\n",
      "  Num examples = 43812\n",
      "  Num Epochs = 8\n",
      "  Instantaneous batch size per device = 16\n",
      "  Total train batch size (w. parallel, distributed & accumulation) = 32\n",
      "  Gradient Accumulation steps = 1\n",
      "  Total optimization steps = 10960\n",
      "Automatic Weights & Biases logging enabled, to disable set os.environ[\"WANDB_DISABLED\"] = \"true\"\n",
      "/home/ppirozelli/anaconda3/lib/python3.9/site-packages/torch/nn/parallel/_functions.py:68: UserWarning: Was asked to gather along dimension 0, but all input tensors were scalars; will instead unsqueeze and return a vector.\n",
      "  warnings.warn('Was asked to gather along dimension 0, but all '\n"
     ]
    },
    {
     "data": {
      "text/html": [
       "\n",
       "    <div>\n",
       "      \n",
       "      <progress value='10960' max='10960' style='width:300px; height:20px; vertical-align: middle;'></progress>\n",
       "      [10960/10960 1:05:52, Epoch 8/8]\n",
       "    </div>\n",
       "    <table border=\"1\" class=\"dataframe\">\n",
       "  <thead>\n",
       "    <tr style=\"text-align: left;\">\n",
       "      <th>Step</th>\n",
       "      <th>Training Loss</th>\n",
       "    </tr>\n",
       "  </thead>\n",
       "  <tbody>\n",
       "    <tr>\n",
       "      <td>500</td>\n",
       "      <td>0.092800</td>\n",
       "    </tr>\n",
       "    <tr>\n",
       "      <td>1000</td>\n",
       "      <td>0.032200</td>\n",
       "    </tr>\n",
       "    <tr>\n",
       "      <td>1500</td>\n",
       "      <td>0.024600</td>\n",
       "    </tr>\n",
       "    <tr>\n",
       "      <td>2000</td>\n",
       "      <td>0.025100</td>\n",
       "    </tr>\n",
       "    <tr>\n",
       "      <td>2500</td>\n",
       "      <td>0.021000</td>\n",
       "    </tr>\n",
       "    <tr>\n",
       "      <td>3000</td>\n",
       "      <td>0.016200</td>\n",
       "    </tr>\n",
       "    <tr>\n",
       "      <td>3500</td>\n",
       "      <td>0.018300</td>\n",
       "    </tr>\n",
       "    <tr>\n",
       "      <td>4000</td>\n",
       "      <td>0.013600</td>\n",
       "    </tr>\n",
       "    <tr>\n",
       "      <td>4500</td>\n",
       "      <td>0.016800</td>\n",
       "    </tr>\n",
       "    <tr>\n",
       "      <td>5000</td>\n",
       "      <td>0.014400</td>\n",
       "    </tr>\n",
       "    <tr>\n",
       "      <td>5500</td>\n",
       "      <td>0.013900</td>\n",
       "    </tr>\n",
       "    <tr>\n",
       "      <td>6000</td>\n",
       "      <td>0.014500</td>\n",
       "    </tr>\n",
       "    <tr>\n",
       "      <td>6500</td>\n",
       "      <td>0.014000</td>\n",
       "    </tr>\n",
       "    <tr>\n",
       "      <td>7000</td>\n",
       "      <td>0.014800</td>\n",
       "    </tr>\n",
       "    <tr>\n",
       "      <td>7500</td>\n",
       "      <td>0.013700</td>\n",
       "    </tr>\n",
       "    <tr>\n",
       "      <td>8000</td>\n",
       "      <td>0.013100</td>\n",
       "    </tr>\n",
       "    <tr>\n",
       "      <td>8500</td>\n",
       "      <td>0.016800</td>\n",
       "    </tr>\n",
       "    <tr>\n",
       "      <td>9000</td>\n",
       "      <td>0.012700</td>\n",
       "    </tr>\n",
       "    <tr>\n",
       "      <td>9500</td>\n",
       "      <td>0.014700</td>\n",
       "    </tr>\n",
       "    <tr>\n",
       "      <td>10000</td>\n",
       "      <td>0.013800</td>\n",
       "    </tr>\n",
       "    <tr>\n",
       "      <td>10500</td>\n",
       "      <td>0.014000</td>\n",
       "    </tr>\n",
       "  </tbody>\n",
       "</table><p>"
      ],
      "text/plain": [
       "<IPython.core.display.HTML object>"
      ]
     },
     "metadata": {},
     "output_type": "display_data"
    },
    {
     "name": "stderr",
     "output_type": "stream",
     "text": [
      "\n",
      "\n",
      "Training completed. Do not forget to share your model on huggingface.co/models =)\n",
      "\n",
      "\n",
      "The following columns in the test set  don't have a corresponding argument in `AlbertForSequenceClassification.forward` and have been ignored: abstract, answer_in_text, text, corpus, answer, answer_en_validate, question.\n",
      "***** Running Prediction *****\n",
      "  Num examples = 145\n",
      "  Batch size = 32\n"
     ]
    },
    {
     "data": {
      "text/html": [
       "\n",
       "    <div>\n",
       "      \n",
       "      <progress value='5' max='5' style='width:300px; height:20px; vertical-align: middle;'></progress>\n",
       "      [5/5 00:00]\n",
       "    </div>\n",
       "    "
      ],
      "text/plain": [
       "<IPython.core.display.HTML object>"
      ]
     },
     "metadata": {},
     "output_type": "display_data"
    },
    {
     "name": "stdout",
     "output_type": "stream",
     "text": [
      "Test: automatic_paraphrase rigid\n",
      "Accuracy: 0.9310344827586207\n",
      "F1-score: 0.48214285714285715\n"
     ]
    },
    {
     "name": "stderr",
     "output_type": "stream",
     "text": [
      "loading file https://huggingface.co/squirro/albert-base-v2-squad_v2/resolve/main/spiece.model from cache at None\n",
      "loading file https://huggingface.co/squirro/albert-base-v2-squad_v2/resolve/main/tokenizer.json from cache at /home/ppirozelli/.cache/huggingface/transformers/854d9fb1cff1a98746c3a363f1187898093480f32c587165d3266006ed9dc982.86db1f802cfe6a9c897ddd2a4d014cefa412234a5786884cb3556e28b82499a4\n",
      "loading file https://huggingface.co/squirro/albert-base-v2-squad_v2/resolve/main/added_tokens.json from cache at None\n",
      "loading file https://huggingface.co/squirro/albert-base-v2-squad_v2/resolve/main/special_tokens_map.json from cache at /home/ppirozelli/.cache/huggingface/transformers/f9e16ff8da7a33fd13f6e707018ec4e779212fc989e33dc39a9b2c9df7c094bd.4b56d965eb7203eb7c5b4175f6637c2acb092a769633430d5c34e7bac43f4418\n",
      "loading file https://huggingface.co/squirro/albert-base-v2-squad_v2/resolve/main/tokenizer_config.json from cache at /home/ppirozelli/.cache/huggingface/transformers/f6e6883708e7527b123859b54bfd8ce884c8fd34c29621d609b2fbbaa972ae8e.0df7fc51d55812cb97c946c7d47f91b9027db13a8fbe663b9a2cf7272bf09a93\n"
     ]
    },
    {
     "data": {
      "application/vnd.jupyter.widget-view+json": {
       "model_id": "3e4baf79c21743e9ad73b00f3028ce19",
       "version_major": 2,
       "version_minor": 0
      },
      "text/plain": [
       "  0%|          | 0/64 [00:00<?, ?ba/s]"
      ]
     },
     "metadata": {},
     "output_type": "display_data"
    },
    {
     "data": {
      "application/vnd.jupyter.widget-view+json": {
       "model_id": "ff943eb64c71471fa9e4d5a3c326141a",
       "version_major": 2,
       "version_minor": 0
      },
      "text/plain": [
       "  0%|          | 0/1 [00:00<?, ?ba/s]"
      ]
     },
     "metadata": {},
     "output_type": "display_data"
    },
    {
     "data": {
      "application/vnd.jupyter.widget-view+json": {
       "model_id": "1c9f1171501d414bbcafc857937665da",
       "version_major": 2,
       "version_minor": 0
      },
      "text/plain": [
       "  0%|          | 0/1 [00:00<?, ?ba/s]"
      ]
     },
     "metadata": {},
     "output_type": "display_data"
    },
    {
     "name": "stderr",
     "output_type": "stream",
     "text": [
      "loading configuration file https://huggingface.co/squirro/albert-base-v2-squad_v2/resolve/main/config.json from cache at /home/ppirozelli/.cache/huggingface/transformers/d8310abd6ec14916591d52da0c7682c5e921038dff770981e2f3bad77673d885.4f73bfcca0823e2daf437789072eff28934c6c1c5e2fee5607e7d44582fff0af\n",
      "Model config AlbertConfig {\n",
      "  \"_name_or_path\": \"squirro/albert-base-v2-squad_v2\",\n",
      "  \"architectures\": [\n",
      "    \"AlbertForQuestionAnswering\"\n",
      "  ],\n",
      "  \"attention_probs_dropout_prob\": 0,\n",
      "  \"bos_token_id\": 2,\n",
      "  \"classifier_dropout_prob\": 0.1,\n",
      "  \"down_scale_factor\": 1,\n",
      "  \"embedding_size\": 128,\n",
      "  \"eos_token_id\": 3,\n",
      "  \"gap_size\": 0,\n",
      "  \"hidden_act\": \"gelu_new\",\n",
      "  \"hidden_dropout_prob\": 0,\n",
      "  \"hidden_size\": 768,\n",
      "  \"initializer_range\": 0.02,\n",
      "  \"inner_group_num\": 1,\n",
      "  \"intermediate_size\": 3072,\n",
      "  \"layer_norm_eps\": 1e-12,\n",
      "  \"max_position_embeddings\": 512,\n",
      "  \"model_type\": \"albert\",\n",
      "  \"net_structure_type\": 0,\n",
      "  \"num_attention_heads\": 12,\n",
      "  \"num_hidden_groups\": 1,\n",
      "  \"num_hidden_layers\": 12,\n",
      "  \"num_memory_blocks\": 0,\n",
      "  \"pad_token_id\": 0,\n",
      "  \"position_embedding_type\": \"absolute\",\n",
      "  \"torch_dtype\": \"float32\",\n",
      "  \"transformers_version\": \"4.14.1\",\n",
      "  \"type_vocab_size\": 2,\n",
      "  \"vocab_size\": 30000\n",
      "}\n",
      "\n",
      "loading weights file https://huggingface.co/squirro/albert-base-v2-squad_v2/resolve/main/pytorch_model.bin from cache at /home/ppirozelli/.cache/huggingface/transformers/2118bb79e64ddaf81dd3fdb7bd54d7af934b38b48f6227e0bc0be69d4f2bc887.b712a22803f7331a79226334db6ed65e212fba8fc01cf60d0aa9f6563099dd24\n",
      "Some weights of the model checkpoint at squirro/albert-base-v2-squad_v2 were not used when initializing AlbertForSequenceClassification: ['qa_outputs.weight', 'qa_outputs.bias']\n",
      "- This IS expected if you are initializing AlbertForSequenceClassification from the checkpoint of a model trained on another task or with another architecture (e.g. initializing a BertForSequenceClassification model from a BertForPreTraining model).\n",
      "- This IS NOT expected if you are initializing AlbertForSequenceClassification from the checkpoint of a model that you expect to be exactly identical (initializing a BertForSequenceClassification model from a BertForSequenceClassification model).\n",
      "Some weights of AlbertForSequenceClassification were not initialized from the model checkpoint at squirro/albert-base-v2-squad_v2 and are newly initialized: ['albert.pooler.weight', 'classifier.bias', 'classifier.weight', 'albert.pooler.bias']\n",
      "You should probably TRAIN this model on a down-stream task to be able to use it for predictions and inference.\n",
      "PyTorch: setting up devices\n",
      "The default value for the training argument `--report_to` will change in v5 (from all installed integrations to none). In v5, you will need to use `--report_to all` to get the same behavior as now. You should start updating your code and make this info disappear :-).\n",
      "The following columns in the training set  don't have a corresponding argument in `AlbertForSequenceClassification.forward` and have been ignored: abstract, answer_in_text, text, corpus, answer, question.\n",
      "***** Running training *****\n",
      "  Num examples = 63180\n",
      "  Num Epochs = 8\n",
      "  Instantaneous batch size per device = 16\n",
      "  Total train batch size (w. parallel, distributed & accumulation) = 32\n",
      "  Gradient Accumulation steps = 1\n",
      "  Total optimization steps = 15800\n",
      "Automatic Weights & Biases logging enabled, to disable set os.environ[\"WANDB_DISABLED\"] = \"true\"\n",
      "/home/ppirozelli/anaconda3/lib/python3.9/site-packages/torch/nn/parallel/_functions.py:68: UserWarning: Was asked to gather along dimension 0, but all input tensors were scalars; will instead unsqueeze and return a vector.\n",
      "  warnings.warn('Was asked to gather along dimension 0, but all '\n"
     ]
    },
    {
     "data": {
      "text/html": [
       "\n",
       "    <div>\n",
       "      \n",
       "      <progress value='15800' max='15800' style='width:300px; height:20px; vertical-align: middle;'></progress>\n",
       "      [15800/15800 1:34:46, Epoch 8/8]\n",
       "    </div>\n",
       "    <table border=\"1\" class=\"dataframe\">\n",
       "  <thead>\n",
       "    <tr style=\"text-align: left;\">\n",
       "      <th>Step</th>\n",
       "      <th>Training Loss</th>\n",
       "    </tr>\n",
       "  </thead>\n",
       "  <tbody>\n",
       "    <tr>\n",
       "      <td>500</td>\n",
       "      <td>0.350900</td>\n",
       "    </tr>\n",
       "    <tr>\n",
       "      <td>1000</td>\n",
       "      <td>0.180800</td>\n",
       "    </tr>\n",
       "    <tr>\n",
       "      <td>1500</td>\n",
       "      <td>0.118900</td>\n",
       "    </tr>\n",
       "    <tr>\n",
       "      <td>2000</td>\n",
       "      <td>0.098900</td>\n",
       "    </tr>\n",
       "    <tr>\n",
       "      <td>2500</td>\n",
       "      <td>0.085700</td>\n",
       "    </tr>\n",
       "    <tr>\n",
       "      <td>3000</td>\n",
       "      <td>0.077600</td>\n",
       "    </tr>\n",
       "    <tr>\n",
       "      <td>3500</td>\n",
       "      <td>0.068000</td>\n",
       "    </tr>\n",
       "    <tr>\n",
       "      <td>4000</td>\n",
       "      <td>0.065300</td>\n",
       "    </tr>\n",
       "    <tr>\n",
       "      <td>4500</td>\n",
       "      <td>0.059500</td>\n",
       "    </tr>\n",
       "    <tr>\n",
       "      <td>5000</td>\n",
       "      <td>0.053000</td>\n",
       "    </tr>\n",
       "    <tr>\n",
       "      <td>5500</td>\n",
       "      <td>0.054300</td>\n",
       "    </tr>\n",
       "    <tr>\n",
       "      <td>6000</td>\n",
       "      <td>0.054900</td>\n",
       "    </tr>\n",
       "    <tr>\n",
       "      <td>6500</td>\n",
       "      <td>0.052000</td>\n",
       "    </tr>\n",
       "    <tr>\n",
       "      <td>7000</td>\n",
       "      <td>0.055000</td>\n",
       "    </tr>\n",
       "    <tr>\n",
       "      <td>7500</td>\n",
       "      <td>0.049000</td>\n",
       "    </tr>\n",
       "    <tr>\n",
       "      <td>8000</td>\n",
       "      <td>0.047500</td>\n",
       "    </tr>\n",
       "    <tr>\n",
       "      <td>8500</td>\n",
       "      <td>0.045000</td>\n",
       "    </tr>\n",
       "    <tr>\n",
       "      <td>9000</td>\n",
       "      <td>0.047800</td>\n",
       "    </tr>\n",
       "    <tr>\n",
       "      <td>9500</td>\n",
       "      <td>0.050400</td>\n",
       "    </tr>\n",
       "    <tr>\n",
       "      <td>10000</td>\n",
       "      <td>0.045200</td>\n",
       "    </tr>\n",
       "    <tr>\n",
       "      <td>10500</td>\n",
       "      <td>0.042900</td>\n",
       "    </tr>\n",
       "    <tr>\n",
       "      <td>11000</td>\n",
       "      <td>0.045800</td>\n",
       "    </tr>\n",
       "    <tr>\n",
       "      <td>11500</td>\n",
       "      <td>0.044400</td>\n",
       "    </tr>\n",
       "    <tr>\n",
       "      <td>12000</td>\n",
       "      <td>0.046900</td>\n",
       "    </tr>\n",
       "    <tr>\n",
       "      <td>12500</td>\n",
       "      <td>0.044500</td>\n",
       "    </tr>\n",
       "    <tr>\n",
       "      <td>13000</td>\n",
       "      <td>0.042800</td>\n",
       "    </tr>\n",
       "    <tr>\n",
       "      <td>13500</td>\n",
       "      <td>0.043300</td>\n",
       "    </tr>\n",
       "    <tr>\n",
       "      <td>14000</td>\n",
       "      <td>0.042300</td>\n",
       "    </tr>\n",
       "    <tr>\n",
       "      <td>14500</td>\n",
       "      <td>0.043000</td>\n",
       "    </tr>\n",
       "    <tr>\n",
       "      <td>15000</td>\n",
       "      <td>0.040500</td>\n",
       "    </tr>\n",
       "    <tr>\n",
       "      <td>15500</td>\n",
       "      <td>0.043400</td>\n",
       "    </tr>\n",
       "  </tbody>\n",
       "</table><p>"
      ],
      "text/plain": [
       "<IPython.core.display.HTML object>"
      ]
     },
     "metadata": {},
     "output_type": "display_data"
    },
    {
     "name": "stderr",
     "output_type": "stream",
     "text": [
      "\n",
      "\n",
      "Training completed. Do not forget to share your model on huggingface.co/models =)\n",
      "\n",
      "\n",
      "The following columns in the test set  don't have a corresponding argument in `AlbertForSequenceClassification.forward` and have been ignored: abstract, answer_in_text, text, corpus, answer, answer_en_validate, question.\n",
      "***** Running Prediction *****\n",
      "  Num examples = 216\n",
      "  Batch size = 32\n"
     ]
    },
    {
     "data": {
      "text/html": [
       "\n",
       "    <div>\n",
       "      \n",
       "      <progress value='7' max='7' style='width:300px; height:20px; vertical-align: middle;'></progress>\n",
       "      [7/7 00:00]\n",
       "    </div>\n",
       "    "
      ],
      "text/plain": [
       "<IPython.core.display.HTML object>"
      ]
     },
     "metadata": {},
     "output_type": "display_data"
    },
    {
     "name": "stdout",
     "output_type": "stream",
     "text": [
      "Test: automatic_paraphrase discrete\n",
      "Accuracy: 0.7638888888888888\n",
      "F1-score: 0.51323405947594\n"
     ]
    }
   ],
   "source": [
    "for questions in question_type:\n",
    "    for classification_type in dataset_types:\n",
    "        validation, test = pd.read_csv('validacao.csv'), pd.read_csv('teste.csv')\n",
    "\n",
    "        if questions == 'standard':\n",
    "            train = pd.read_csv('treinamento.csv')\n",
    "\n",
    "            if language == 'english':\n",
    "                train = train[['abstract', 'question_en_origin', 'answer_en_origin', \n",
    "                                            'question_meaningful', 'corpus', 'answer_in_text', 'answer_en_validate']]\n",
    "\n",
    "                train.rename(columns={'question_en_origin': 'question', 'answer_en_origin': 'answer',\n",
    "                                            'question_meaningful': 'label'}, inplace=True)\n",
    "\n",
    "            if language == 'portuguese':\n",
    "                train = train[['abstract', 'question_pt_origin', 'answer_pt_origin', \n",
    "                                            'question_meaningful', 'corpus', 'answer_in_text', 'answer_pt_validate']]\n",
    "\n",
    "                train.rename(columns={'question_pt_origin': 'question', 'answer_pt_origin': 'answer',\n",
    "                                            'question_meaningful': 'label'}, inplace=True)\n",
    "\n",
    "        if questions == 'human_paraphrase':\n",
    "            train = pd.read_csv('treinamento.csv')\n",
    "\n",
    "            if language == 'english':\n",
    "\n",
    "                # acrescentando paráfrases humanas\n",
    "                trein_1 = train[['abstract', 'question_en_origin', 'answer_en_origin', \n",
    "                                        'question_meaningful', 'corpus' , 'answer_in_text']]\n",
    "                trein_2 = train[['abstract', 'question_en_origin', 'answer_en_validate', \n",
    "                                        'question_meaningful', 'corpus', 'answer_in_text']]\n",
    "                trein_3 = train[['abstract', 'question_en_paraphase', 'answer_en_origin', \n",
    "                                        'question_meaningful', 'corpus', 'answer_in_text']]\n",
    "                trein_4 = train[['abstract', 'question_en_paraphase', 'answer_en_validate', \n",
    "                                        'question_meaningful', 'corpus', 'answer_in_text']]\n",
    "\n",
    "                trein_1.columns = ['abstract', 'question', 'answer', 'label', 'corpus', 'answer_in_text']\n",
    "                trein_2.columns = ['abstract', 'question', 'answer', 'label', 'corpus', 'answer_in_text']\n",
    "                trein_3.columns = ['abstract', 'question', 'answer', 'label', 'corpus', 'answer_in_text']\n",
    "                trein_4.columns = ['abstract', 'question', 'answer', 'label', 'corpus', 'answer_in_text']\n",
    "\n",
    "                frames = [trein_1, trein_2, trein_3, trein_4]\n",
    "\n",
    "                train = pd.concat(frames)\n",
    "\n",
    "            if language == 'portuguese':\n",
    "\n",
    "                # acrescentando paráfrases humanas\n",
    "                trein_1 = train[['abstract', 'question_pt_origin', 'answer_pt_origin', \n",
    "                                        'question_meaningful', 'corpus', 'answer_in_text']]\n",
    "                trein_2 = train[['abstract', 'question_pt_origin', 'answer_pt_validate', \n",
    "                                        'question_meaningful', 'corpus', 'answer_in_text']]\n",
    "                trein_3 = train[['abstract', 'question_pt_paraphase', 'answer_pt_origin', \n",
    "                                        'question_meaningful', 'corpus', 'answer_in_text']]\n",
    "                trein_4 = train[['abstract', 'question_pt_paraphase', 'answer_pt_validate', \n",
    "                                        'question_meaningful', 'corpus', 'answer_in_text']]\n",
    "\n",
    "                trein_1.columns = ['abstract', 'question', 'answer', 'label', 'corpus', 'answer_in_text']\n",
    "                trein_2.columns = ['abstract', 'question', 'answer', 'label', 'corpus', 'answer_in_text']\n",
    "                trein_3.columns = ['abstract', 'question', 'answer', 'label', 'corpus', 'answer_in_text']\n",
    "                trein_4.columns = ['abstract', 'question', 'answer', 'label', 'corpus', 'answer_in_text']\n",
    "\n",
    "                frames = [trein_1, trein_2, trein_3, trein_4]\n",
    "\n",
    "                train = pd.concat(frames)\n",
    "\n",
    "        if questions == 'automatic_paraphrase':\n",
    "\n",
    "            if language == 'english':\n",
    "                df = pd.read_csv('parafrases_en_pegasus.csv')\n",
    "\n",
    "                lst = []\n",
    "\n",
    "                for i in range(1,7):\n",
    "                    qu = 'question_' + str(i)\n",
    "                    for j in range(1,7):\n",
    "                        ans = 'answer_' + str(j)\n",
    "                        data = df[['abstract', 'labels', qu, ans, 'corpus', 'answer_in_text']]\n",
    "                        data = data.rename(columns={qu: 'question', ans: 'answer'})\n",
    "                        lst.append(data)\n",
    "\n",
    "                train = pd.concat(lst)\n",
    "\n",
    "                train.rename(columns={'labels': 'label'}, inplace=True)\n",
    "                validation.rename(columns={'labels': 'label'}, inplace=True)\n",
    "                test.rename(columns={'labels': 'label'}, inplace=True)\n",
    "                \n",
    "            if language == 'portuguese':\n",
    "                df = pd.read_csv('parafrases_pt.csv')\n",
    "\n",
    "                lst = []\n",
    "\n",
    "                for i in range(1,7):\n",
    "                    qu = 'question_' + str(i)\n",
    "                    for j in range(1,7):\n",
    "                        ans = 'answer_' + str(j)\n",
    "                        data = df[['abstract', 'labels', qu, ans, 'corpus', 'answer_in_text']]\n",
    "                        data = data.rename(columns={qu: 'question', ans: 'answer'})\n",
    "                        lst.append(data)\n",
    "\n",
    "                train = pd.concat(lst)\n",
    "                \n",
    "                train.rename(columns={'labels': 'label'}, inplace=True)\n",
    "                validation.rename(columns={'labels': 'label'}, inplace=True)\n",
    "                test.rename(columns={'labels': 'label'}, inplace=True)\n",
    "\n",
    "\n",
    "        if language == 'english':\n",
    "            validation = validation[['corpus', 'abstract', 'question_en_origin', 'answer_en_origin', \n",
    "                                   'question_meaningful', 'answer_in_text', 'answer_en_validate']]\n",
    "            test = test[['corpus', 'abstract', 'question_en_origin', 'answer_en_origin', \n",
    "                            'question_meaningful', 'answer_in_text', 'answer_en_validate']]\n",
    "            validation.rename(columns={'question_en_origin': 'question', 'answer_en_origin': 'answer',\n",
    "                                          'question_meaningful': 'label'}, inplace=True)\n",
    "            test.rename(columns={'question_en_origin': 'question', 'answer_en_origin': 'answer',\n",
    "                                      'question_meaningful': 'label'}, inplace=True)\n",
    "\n",
    "        if language == 'portuguese':\n",
    "            validation = validation[['corpus', 'abstract', 'question_pt_origin', 'answer_pt_origin', \n",
    "                                   'question_meaningful', 'answer_in_text', 'answer_pt_validate']]\n",
    "            test = test[['corpus', 'abstract', 'question_pt_origin', 'answer_pt_origin', \n",
    "                            'question_meaningful', 'answer_in_text', 'answer_pt_validate']]\n",
    "            validation.rename(columns={'question_pt_origin': 'question', 'answer_pt_origin': 'answer',\n",
    "                                          'question_meaningful': 'label'}, inplace=True)\n",
    "            test.rename(columns={'question_pt_origin': 'question', 'answer_pt_origin': 'answer',\n",
    "                                      'question_meaningful': 'label'}, inplace=True)\n",
    "        \n",
    "\n",
    "        ## Cleaning the data\n",
    "\n",
    "        # tirar as tags\n",
    "        train = train.replace('<[^<]+?>', ' ', regex=True)\n",
    "        validation = validation.replace('<[^<]+?>', ' ', regex=True)\n",
    "        test = test.replace('<[^<]+?>', ' ', regex=True)\n",
    "\n",
    "        # tirar quebra de linha, parágrafo\n",
    "        train.replace(to_replace=[r\"\\\\t|\\\\n|\\\\r\", \"\\t|\\n|\\r\"], value=[\"\",\"\"], regex=True, inplace=True)\n",
    "        validation.replace(to_replace=[r\"\\\\t|\\\\n|\\\\r\", \"\\t|\\n|\\r\"], value=[\"\",\"\"], regex=True, inplace=True)\n",
    "        test.replace(to_replace=[r\"\\\\t|\\\\n|\\\\r\", \"\\t|\\n|\\r\"], value=[\"\",\"\"], regex=True, inplace=True)\n",
    "\n",
    "        # remove front and ending blank spaces\n",
    "        train = train.replace({\"^\\s*|\\s*$\":\"\"}, regex=True)\n",
    "        validation = validation.replace({\"^\\s*|\\s*$\":\"\"}, regex=True)\n",
    "        test = test.replace({\"^\\s*|\\s*$\":\"\"}, regex=True)\n",
    "\n",
    "        # remove multiple whitespace\n",
    "        train = train.replace('\\s+', ' ', regex=True)\n",
    "        validation = validation.replace('\\s+', ' ', regex=True)\n",
    "        test = test.replace('\\s+', ' ', regex=True)\n",
    "\n",
    "        #dropna\n",
    "        train = train.dropna()\n",
    "        validation = validation.dropna()\n",
    "        test = test.dropna()\n",
    "\n",
    "        ## Context\n",
    "        train['text'] = train['abstract'] + \" </s> \" + train['question']\n",
    "        validation['text'] = validation['abstract'] + \" </s> \" + validation['question']\n",
    "        test['text'] = test['abstract'] + \" </s> \" + test['question']\n",
    "\n",
    "        test['label'].value_counts()\n",
    "\n",
    "        # create classfication labels\n",
    "\n",
    "        if classification_type == 'rigid':\n",
    "            train = train.loc[(train['label'] == 1) | (train['label'] == 5)]\n",
    "            validation = validation.loc[(validation['label'] == 1) | (validation['label'] == 5)]\n",
    "            test = test.loc[(test['label'] == 1) | (test['label'] == 5)]\n",
    "\n",
    "        if classification_type == 'divided':\n",
    "            train = train.loc[(train['label'] < threshold) | (train['label'] > threshold)]\n",
    "            validation = validation.loc[(validation['label'] < threshold) | (validation['label'] > threshold)]\n",
    "            test = test.loc[(test['label'] < threshold) | (test['label'] > threshold)]\n",
    "\n",
    "        train['label'] = train['label'].apply(lambda x: 1 if x > threshold else 0)\n",
    "        validation['label'] = validation['label'].apply(lambda x: 1 if x > threshold else 0)\n",
    "        test['label'] = test['label'].apply(lambda x: 1 if x > threshold else 0)\n",
    "\n",
    "        from datasets import Dataset\n",
    "\n",
    "        train_dataset = Dataset.from_dict(train)\n",
    "        validation_dataset = Dataset.from_dict(validation)\n",
    "        test_dataset = Dataset.from_dict(test)\n",
    "\n",
    "        my_dataset_dict = datasets.DatasetDict({\"train\":train_dataset, \n",
    "                                                'validation': validation_dataset, \"test\":test_dataset})\n",
    "\n",
    "        my_dataset_dict\n",
    "\n",
    "        ## Classification\n",
    "\n",
    "        # options: distilbert, roberta, albert\n",
    "\n",
    "        if model_type == 'bertimbau':\n",
    "            model_name = 'neuralmind/bert-base-portuguese-cased'\n",
    "        if model_type == 'distilbert':\n",
    "            model_name = 'mvonwyl/distilbert-base-uncased-finetuned-squad2'\n",
    "        if model_type == 'roberta':\n",
    "            model_name = 'deepset/roberta-base-squad2'\n",
    "        if model_type == 'albert':\n",
    "            model_name = 'squirro/albert-base-v2-squad_v2'\n",
    "\n",
    "        ### Tokenizer\n",
    "\n",
    "        from transformers import AutoTokenizer\n",
    "\n",
    "        tokenizer = AutoTokenizer.from_pretrained(model_name)\n",
    "\n",
    "        def preprocess_function(examples):\n",
    "            return tokenizer(examples[\"text\"], truncation=True, padding=True, max_length=512)\n",
    "\n",
    "        tokenized_text = my_dataset_dict.map(preprocess_function, batched=True)\n",
    "\n",
    "        from transformers import DataCollatorWithPadding\n",
    "\n",
    "        data_collator = DataCollatorWithPadding(tokenizer=tokenizer)\n",
    "\n",
    "        ### Train\n",
    "\n",
    "        from transformers import AutoModelForSequenceClassification, TrainingArguments, Trainer\n",
    "\n",
    "        model = AutoModelForSequenceClassification.from_pretrained(model_name, num_labels=2)\n",
    "\n",
    "        model.num_parameters()\n",
    "\n",
    "        training_args = TrainingArguments(\n",
    "            output_dir=\"./results\",\n",
    "            learning_rate=2e-5,\n",
    "            per_device_train_batch_size=16,\n",
    "            per_device_eval_batch_size=16,\n",
    "            num_train_epochs=8,\n",
    "            weight_decay=0.01,\n",
    "            save_total_limit = 1,\n",
    "            overwrite_output_dir = 'True',\n",
    "            load_best_model_at_end=True,\n",
    "            save_strategy = \"no\",\n",
    "            seed = 42\n",
    "        )\n",
    "\n",
    "        trainer = Trainer(\n",
    "            model=model,\n",
    "            args=training_args,\n",
    "            train_dataset=tokenized_text[\"train\"],\n",
    "            eval_dataset=tokenized_text[\"validation\"],\n",
    "            tokenizer=tokenizer,\n",
    "            data_collator=data_collator,\n",
    "        )\n",
    "\n",
    "        trainer.train()\n",
    "\n",
    "        ## Prediction\n",
    "\n",
    "        results = trainer.predict(tokenized_text['test']).predictions\n",
    "\n",
    "        import numpy as np\n",
    "\n",
    "        test['predictions'] = np.argmax(results, axis=-1)\n",
    "\n",
    "        test['label'].value_counts()\n",
    "\n",
    "        ## Metrics        \n",
    "        from sklearn.metrics import f1_score, accuracy_score\n",
    "\n",
    "        print('Test:', questions, classification_type)\n",
    "        print('Accuracy:', accuracy_score(test['label'], test['predictions']))\n",
    "        print('F1-score:', f1_score(test['label'], test['predictions'], average='macro'))"
   ]
  },
  {
   "cell_type": "code",
   "execution_count": null,
   "id": "5f4b5383",
   "metadata": {},
   "outputs": [],
   "source": []
  }
 ],
 "metadata": {
  "kernelspec": {
   "display_name": "Python 3 (ipykernel)",
   "language": "python",
   "name": "python3"
  },
  "language_info": {
   "codemirror_mode": {
    "name": "ipython",
    "version": 3
   },
   "file_extension": ".py",
   "mimetype": "text/x-python",
   "name": "python",
   "nbconvert_exporter": "python",
   "pygments_lexer": "ipython3",
   "version": "3.9.7"
  }
 },
 "nbformat": 4,
 "nbformat_minor": 5
}
