{
 "cells": [
  {
   "cell_type": "code",
   "execution_count": 1,
   "id": "2745b8b8",
   "metadata": {},
   "outputs": [],
   "source": [
    "import pandas as pd\n",
    "import datasets"
   ]
  },
  {
   "cell_type": "code",
   "execution_count": 3,
   "id": "9fa275e9",
   "metadata": {},
   "outputs": [],
   "source": [
    "## Parameters\n",
    "language = 'english'\n",
    "question_type = ['standard', 'human_paraphrase', 'automatic_paraphrase']\n",
    "threshold = 3\n",
    "dataset_types = ['soft', 'rigid', 'discrete']\n",
    "model_type = 'distilbert'"
   ]
  },
  {
   "cell_type": "code",
   "execution_count": 4,
   "id": "438cd55d",
   "metadata": {},
   "outputs": [
    {
     "name": "stderr",
     "output_type": "stream",
     "text": [
      "Parameter 'function'=<function preprocess_function at 0x7efcb00c68b0> of the transform datasets.arrow_dataset.Dataset._map_single couldn't be hashed properly, a random hash was used instead. Make sure your transforms and parameters are serializable with pickle or dill for the dataset fingerprinting and caching to work. If you reuse this transform, the caching mechanism will consider it to be different from the previous calls and recompute everything. This warning is only showed once. Subsequent hashing failures won't be showed.\n"
     ]
    },
    {
     "data": {
      "application/vnd.jupyter.widget-view+json": {
       "model_id": "fb29a5a143d343158e3e75679f04bae8",
       "version_major": 2,
       "version_minor": 0
      },
      "text/plain": [
       "  0%|          | 0/2 [00:00<?, ?ba/s]"
      ]
     },
     "metadata": {},
     "output_type": "display_data"
    },
    {
     "data": {
      "application/vnd.jupyter.widget-view+json": {
       "model_id": "d0f895a5ff1546a09088698e8bff57e3",
       "version_major": 2,
       "version_minor": 0
      },
      "text/plain": [
       "  0%|          | 0/1 [00:00<?, ?ba/s]"
      ]
     },
     "metadata": {},
     "output_type": "display_data"
    },
    {
     "data": {
      "application/vnd.jupyter.widget-view+json": {
       "model_id": "30b8e789f77e4edd81de3af760bdddf5",
       "version_major": 2,
       "version_minor": 0
      },
      "text/plain": [
       "  0%|          | 0/1 [00:00<?, ?ba/s]"
      ]
     },
     "metadata": {},
     "output_type": "display_data"
    },
    {
     "name": "stderr",
     "output_type": "stream",
     "text": [
      "Some weights of the model checkpoint at mvonwyl/distilbert-base-uncased-finetuned-squad2 were not used when initializing DistilBertForSequenceClassification: ['qa_outputs.weight', 'qa_outputs.bias']\n",
      "- This IS expected if you are initializing DistilBertForSequenceClassification from the checkpoint of a model trained on another task or with another architecture (e.g. initializing a BertForSequenceClassification model from a BertForPreTraining model).\n",
      "- This IS NOT expected if you are initializing DistilBertForSequenceClassification from the checkpoint of a model that you expect to be exactly identical (initializing a BertForSequenceClassification model from a BertForSequenceClassification model).\n",
      "Some weights of DistilBertForSequenceClassification were not initialized from the model checkpoint at mvonwyl/distilbert-base-uncased-finetuned-squad2 and are newly initialized: ['pre_classifier.bias', 'classifier.bias', 'pre_classifier.weight', 'classifier.weight']\n",
      "You should probably TRAIN this model on a down-stream task to be able to use it for predictions and inference.\n"
     ]
    },
    {
     "name": "stdout",
     "output_type": "stream",
     "text": [
      "huggingface/tokenizers: The current process just got forked, after parallelism has already been used. Disabling parallelism to avoid deadlocks...\n",
      "To disable this warning, you can either:\n",
      "\t- Avoid using `tokenizers` before the fork if possible\n",
      "\t- Explicitly set the environment variable TOKENIZERS_PARALLELISM=(true | false)\n",
      "huggingface/tokenizers: The current process just got forked, after parallelism has already been used. Disabling parallelism to avoid deadlocks...\n",
      "To disable this warning, you can either:\n",
      "\t- Avoid using `tokenizers` before the fork if possible\n",
      "\t- Explicitly set the environment variable TOKENIZERS_PARALLELISM=(true | false)\n",
      "huggingface/tokenizers: The current process just got forked, after parallelism has already been used. Disabling parallelism to avoid deadlocks...\n",
      "To disable this warning, you can either:\n",
      "\t- Avoid using `tokenizers` before the fork if possible\n",
      "\t- Explicitly set the environment variable TOKENIZERS_PARALLELISM=(true | false)\n"
     ]
    },
    {
     "name": "stderr",
     "output_type": "stream",
     "text": [
      "The following columns in the training set  don't have a corresponding argument in `DistilBertForSequenceClassification.forward` and have been ignored: answer_in_text, question, answer_en_validate, text, abstract, corpus, answer.\n",
      "***** Running training *****\n",
      "  Num examples = 1755\n",
      "  Num Epochs = 8\n",
      "  Instantaneous batch size per device = 16\n",
      "  Total train batch size (w. parallel, distributed & accumulation) = 32\n",
      "  Gradient Accumulation steps = 1\n",
      "  Total optimization steps = 440\n",
      "Automatic Weights & Biases logging enabled, to disable set os.environ[\"WANDB_DISABLED\"] = \"true\"\n",
      "\u001b[34m\u001b[1mwandb\u001b[0m: Currently logged in as: \u001b[33mpaulopirozelli\u001b[0m. Use \u001b[1m`wandb login --relogin`\u001b[0m to force relogin\n"
     ]
    },
    {
     "name": "stdout",
     "output_type": "stream",
     "text": [
      "huggingface/tokenizers: The current process just got forked, after parallelism has already been used. Disabling parallelism to avoid deadlocks...\n",
      "To disable this warning, you can either:\n",
      "\t- Avoid using `tokenizers` before the fork if possible\n",
      "\t- Explicitly set the environment variable TOKENIZERS_PARALLELISM=(true | false)\n",
      "huggingface/tokenizers: The current process just got forked, after parallelism has already been used. Disabling parallelism to avoid deadlocks...\n",
      "To disable this warning, you can either:\n",
      "\t- Avoid using `tokenizers` before the fork if possible\n",
      "\t- Explicitly set the environment variable TOKENIZERS_PARALLELISM=(true | false)\n"
     ]
    },
    {
     "data": {
      "text/html": [
       "wandb version 0.12.19 is available!  To upgrade, please run:\n",
       " $ pip install wandb --upgrade"
      ],
      "text/plain": [
       "<IPython.core.display.HTML object>"
      ]
     },
     "metadata": {},
     "output_type": "display_data"
    },
    {
     "data": {
      "text/html": [
       "Tracking run with wandb version 0.12.18"
      ],
      "text/plain": [
       "<IPython.core.display.HTML object>"
      ]
     },
     "metadata": {},
     "output_type": "display_data"
    },
    {
     "data": {
      "text/html": [
       "Run data is saved locally in <code>/home/ppirozelli/Área de Trabalho/Classification/wandb/run-20220629_105152-1fdbbfz0</code>"
      ],
      "text/plain": [
       "<IPython.core.display.HTML object>"
      ]
     },
     "metadata": {},
     "output_type": "display_data"
    },
    {
     "data": {
      "text/html": [
       "Syncing run <strong><a href=\"https://wandb.ai/paulopirozelli/huggingface/runs/1fdbbfz0\" target=\"_blank\">./results</a></strong> to <a href=\"https://wandb.ai/paulopirozelli/huggingface\" target=\"_blank\">Weights & Biases</a> (<a href=\"https://wandb.me/run\" target=\"_blank\">docs</a>)<br/>"
      ],
      "text/plain": [
       "<IPython.core.display.HTML object>"
      ]
     },
     "metadata": {},
     "output_type": "display_data"
    },
    {
     "name": "stderr",
     "output_type": "stream",
     "text": [
      "/home/ppirozelli/anaconda3/lib/python3.9/site-packages/torch/nn/parallel/_functions.py:68: UserWarning: Was asked to gather along dimension 0, but all input tensors were scalars; will instead unsqueeze and return a vector.\n",
      "  warnings.warn('Was asked to gather along dimension 0, but all '\n"
     ]
    },
    {
     "data": {
      "text/html": [
       "\n",
       "    <div>\n",
       "      \n",
       "      <progress value='440' max='440' style='width:300px; height:20px; vertical-align: middle;'></progress>\n",
       "      [440/440 01:25, Epoch 8/8]\n",
       "    </div>\n",
       "    <table border=\"1\" class=\"dataframe\">\n",
       "  <thead>\n",
       "    <tr style=\"text-align: left;\">\n",
       "      <th>Step</th>\n",
       "      <th>Training Loss</th>\n",
       "    </tr>\n",
       "  </thead>\n",
       "  <tbody>\n",
       "  </tbody>\n",
       "</table><p>"
      ],
      "text/plain": [
       "<IPython.core.display.HTML object>"
      ]
     },
     "metadata": {},
     "output_type": "display_data"
    },
    {
     "name": "stderr",
     "output_type": "stream",
     "text": [
      "\n",
      "\n",
      "Training completed. Do not forget to share your model on huggingface.co/models =)\n",
      "\n",
      "\n",
      "The following columns in the test set  don't have a corresponding argument in `DistilBertForSequenceClassification.forward` and have been ignored: answer_in_text, question, answer_en_validate, text, abstract, corpus, answer.\n",
      "***** Running Prediction *****\n",
      "  Num examples = 216\n",
      "  Batch size = 32\n"
     ]
    },
    {
     "data": {
      "text/html": [
       "\n",
       "    <div>\n",
       "      \n",
       "      <progress value='7' max='7' style='width:300px; height:20px; vertical-align: middle;'></progress>\n",
       "      [7/7 00:00]\n",
       "    </div>\n",
       "    "
      ],
      "text/plain": [
       "<IPython.core.display.HTML object>"
      ]
     },
     "metadata": {},
     "output_type": "display_data"
    },
    {
     "name": "stdout",
     "output_type": "stream",
     "text": [
      "Test: standard soft\n",
      "Accuracy: 0.7175925925925926\n",
      "F1-score: 0.46121447556736866\n"
     ]
    },
    {
     "name": "stderr",
     "output_type": "stream",
     "text": [
      "loading file https://huggingface.co/mvonwyl/distilbert-base-uncased-finetuned-squad2/resolve/main/vocab.txt from cache at /home/ppirozelli/.cache/huggingface/transformers/571aebbe8ed96147d4b98134c0a95beec9029368b0c35a1190f40094ee186478.d789d64ebfe299b0e416afc4a169632f903f693095b4629a7ea271d5a0cf2c99\n",
      "loading file https://huggingface.co/mvonwyl/distilbert-base-uncased-finetuned-squad2/resolve/main/tokenizer.json from cache at /home/ppirozelli/.cache/huggingface/transformers/28675318b6e2e081432f0e2fa9539dd176e7765623809f220b03cbafaaf810ad.3d26c56b358cca40b16bcdc782f4b906e5c295e21e24fae62803895dae040f25\n",
      "loading file https://huggingface.co/mvonwyl/distilbert-base-uncased-finetuned-squad2/resolve/main/added_tokens.json from cache at None\n",
      "loading file https://huggingface.co/mvonwyl/distilbert-base-uncased-finetuned-squad2/resolve/main/special_tokens_map.json from cache at /home/ppirozelli/.cache/huggingface/transformers/8059125746dc8b7c4ab020d7078038ce3ba711f8ee2be055be536ac398300fe1.dd8bd9bfd3664b530ea4e645105f557769387b3da9f79bdb55ed556bdd80611d\n",
      "loading file https://huggingface.co/mvonwyl/distilbert-base-uncased-finetuned-squad2/resolve/main/tokenizer_config.json from cache at /home/ppirozelli/.cache/huggingface/transformers/0eefcbdecb44adc8a8a31203c6fc6081e4abee730e80b3d7c73ae8149d76268e.42154c5fd30bfa7e34941d0d8ad26f8a3936990926fbe06b2da76dd749b1c6d4\n"
     ]
    },
    {
     "data": {
      "application/vnd.jupyter.widget-view+json": {
       "model_id": "37619ea5f1ee4c828c731035697f26b7",
       "version_major": 2,
       "version_minor": 0
      },
      "text/plain": [
       "  0%|          | 0/2 [00:00<?, ?ba/s]"
      ]
     },
     "metadata": {},
     "output_type": "display_data"
    },
    {
     "data": {
      "application/vnd.jupyter.widget-view+json": {
       "model_id": "c86e5a59422740a19e419deeb8d04fbb",
       "version_major": 2,
       "version_minor": 0
      },
      "text/plain": [
       "  0%|          | 0/1 [00:00<?, ?ba/s]"
      ]
     },
     "metadata": {},
     "output_type": "display_data"
    },
    {
     "data": {
      "application/vnd.jupyter.widget-view+json": {
       "model_id": "945897afa1a245048d405fda0ebb40ae",
       "version_major": 2,
       "version_minor": 0
      },
      "text/plain": [
       "  0%|          | 0/1 [00:00<?, ?ba/s]"
      ]
     },
     "metadata": {},
     "output_type": "display_data"
    },
    {
     "name": "stderr",
     "output_type": "stream",
     "text": [
      "loading configuration file https://huggingface.co/mvonwyl/distilbert-base-uncased-finetuned-squad2/resolve/main/config.json from cache at /home/ppirozelli/.cache/huggingface/transformers/cffbca5d7cd141d50b708ec6a05c79978d19c4dd3074fcd116c149cd355221f8.a540da103e8b3d40c8db787d1fe802d9215f260969fa27deaa13b88795d8181b\n",
      "Model config DistilBertConfig {\n",
      "  \"_name_or_path\": \"mvonwyl/distilbert-base-uncased-finetuned-squad2\",\n",
      "  \"activation\": \"gelu\",\n",
      "  \"architectures\": [\n",
      "    \"DistilBertForQuestionAnswering\"\n",
      "  ],\n",
      "  \"attention_dropout\": 0.1,\n",
      "  \"dim\": 768,\n",
      "  \"dropout\": 0.1,\n",
      "  \"hidden_dim\": 3072,\n",
      "  \"initializer_range\": 0.02,\n",
      "  \"max_position_embeddings\": 512,\n",
      "  \"model_type\": \"distilbert\",\n",
      "  \"n_heads\": 12,\n",
      "  \"n_layers\": 6,\n",
      "  \"pad_token_id\": 0,\n",
      "  \"qa_dropout\": 0.1,\n",
      "  \"seq_classif_dropout\": 0.2,\n",
      "  \"sinusoidal_pos_embds\": false,\n",
      "  \"tie_weights_\": true,\n",
      "  \"torch_dtype\": \"float32\",\n",
      "  \"transformers_version\": \"4.14.1\",\n",
      "  \"vocab_size\": 30522\n",
      "}\n",
      "\n",
      "loading weights file https://huggingface.co/mvonwyl/distilbert-base-uncased-finetuned-squad2/resolve/main/pytorch_model.bin from cache at /home/ppirozelli/.cache/huggingface/transformers/b5b35581fa082df7d2ff2451f726fd2ebd8be192e2a873d4f7e53285f94db045.19e0e53a6167116b32114f34d67c198cfdaa42db408fe90a32add525213a6fc1\n",
      "Some weights of the model checkpoint at mvonwyl/distilbert-base-uncased-finetuned-squad2 were not used when initializing DistilBertForSequenceClassification: ['qa_outputs.weight', 'qa_outputs.bias']\n",
      "- This IS expected if you are initializing DistilBertForSequenceClassification from the checkpoint of a model trained on another task or with another architecture (e.g. initializing a BertForSequenceClassification model from a BertForPreTraining model).\n",
      "- This IS NOT expected if you are initializing DistilBertForSequenceClassification from the checkpoint of a model that you expect to be exactly identical (initializing a BertForSequenceClassification model from a BertForSequenceClassification model).\n",
      "Some weights of DistilBertForSequenceClassification were not initialized from the model checkpoint at mvonwyl/distilbert-base-uncased-finetuned-squad2 and are newly initialized: ['pre_classifier.bias', 'classifier.bias', 'pre_classifier.weight', 'classifier.weight']\n",
      "You should probably TRAIN this model on a down-stream task to be able to use it for predictions and inference.\n",
      "PyTorch: setting up devices\n",
      "The default value for the training argument `--report_to` will change in v5 (from all installed integrations to none). In v5, you will need to use `--report_to all` to get the same behavior as now. You should start updating your code and make this info disappear :-).\n",
      "The following columns in the training set  don't have a corresponding argument in `DistilBertForSequenceClassification.forward` and have been ignored: answer_in_text, question, answer_en_validate, text, abstract, corpus, answer.\n",
      "***** Running training *****\n",
      "  Num examples = 1217\n",
      "  Num Epochs = 8\n",
      "  Instantaneous batch size per device = 16\n",
      "  Total train batch size (w. parallel, distributed & accumulation) = 32\n",
      "  Gradient Accumulation steps = 1\n",
      "  Total optimization steps = 312\n",
      "Automatic Weights & Biases logging enabled, to disable set os.environ[\"WANDB_DISABLED\"] = \"true\"\n",
      "/home/ppirozelli/anaconda3/lib/python3.9/site-packages/torch/nn/parallel/_functions.py:68: UserWarning: Was asked to gather along dimension 0, but all input tensors were scalars; will instead unsqueeze and return a vector.\n",
      "  warnings.warn('Was asked to gather along dimension 0, but all '\n"
     ]
    },
    {
     "data": {
      "text/html": [
       "\n",
       "    <div>\n",
       "      \n",
       "      <progress value='312' max='312' style='width:300px; height:20px; vertical-align: middle;'></progress>\n",
       "      [312/312 01:00, Epoch 8/8]\n",
       "    </div>\n",
       "    <table border=\"1\" class=\"dataframe\">\n",
       "  <thead>\n",
       "    <tr style=\"text-align: left;\">\n",
       "      <th>Step</th>\n",
       "      <th>Training Loss</th>\n",
       "    </tr>\n",
       "  </thead>\n",
       "  <tbody>\n",
       "  </tbody>\n",
       "</table><p>"
      ],
      "text/plain": [
       "<IPython.core.display.HTML object>"
      ]
     },
     "metadata": {},
     "output_type": "display_data"
    },
    {
     "name": "stderr",
     "output_type": "stream",
     "text": [
      "\n",
      "\n",
      "Training completed. Do not forget to share your model on huggingface.co/models =)\n",
      "\n",
      "\n",
      "The following columns in the test set  don't have a corresponding argument in `DistilBertForSequenceClassification.forward` and have been ignored: answer_in_text, question, answer_en_validate, text, abstract, corpus, answer.\n",
      "***** Running Prediction *****\n",
      "  Num examples = 145\n",
      "  Batch size = 32\n"
     ]
    },
    {
     "data": {
      "text/html": [
       "\n",
       "    <div>\n",
       "      \n",
       "      <progress value='5' max='5' style='width:300px; height:20px; vertical-align: middle;'></progress>\n",
       "      [5/5 00:00]\n",
       "    </div>\n",
       "    "
      ],
      "text/plain": [
       "<IPython.core.display.HTML object>"
      ]
     },
     "metadata": {},
     "output_type": "display_data"
    },
    {
     "name": "stdout",
     "output_type": "stream",
     "text": [
      "Test: standard rigid\n",
      "Accuracy: 0.9241379310344827\n",
      "F1-score: 0.4802867383512545\n"
     ]
    },
    {
     "name": "stderr",
     "output_type": "stream",
     "text": [
      "loading file https://huggingface.co/mvonwyl/distilbert-base-uncased-finetuned-squad2/resolve/main/vocab.txt from cache at /home/ppirozelli/.cache/huggingface/transformers/571aebbe8ed96147d4b98134c0a95beec9029368b0c35a1190f40094ee186478.d789d64ebfe299b0e416afc4a169632f903f693095b4629a7ea271d5a0cf2c99\n",
      "loading file https://huggingface.co/mvonwyl/distilbert-base-uncased-finetuned-squad2/resolve/main/tokenizer.json from cache at /home/ppirozelli/.cache/huggingface/transformers/28675318b6e2e081432f0e2fa9539dd176e7765623809f220b03cbafaaf810ad.3d26c56b358cca40b16bcdc782f4b906e5c295e21e24fae62803895dae040f25\n",
      "loading file https://huggingface.co/mvonwyl/distilbert-base-uncased-finetuned-squad2/resolve/main/added_tokens.json from cache at None\n",
      "loading file https://huggingface.co/mvonwyl/distilbert-base-uncased-finetuned-squad2/resolve/main/special_tokens_map.json from cache at /home/ppirozelli/.cache/huggingface/transformers/8059125746dc8b7c4ab020d7078038ce3ba711f8ee2be055be536ac398300fe1.dd8bd9bfd3664b530ea4e645105f557769387b3da9f79bdb55ed556bdd80611d\n",
      "loading file https://huggingface.co/mvonwyl/distilbert-base-uncased-finetuned-squad2/resolve/main/tokenizer_config.json from cache at /home/ppirozelli/.cache/huggingface/transformers/0eefcbdecb44adc8a8a31203c6fc6081e4abee730e80b3d7c73ae8149d76268e.42154c5fd30bfa7e34941d0d8ad26f8a3936990926fbe06b2da76dd749b1c6d4\n"
     ]
    },
    {
     "data": {
      "application/vnd.jupyter.widget-view+json": {
       "model_id": "68bb7c164c964746a26c2bd76a4557ea",
       "version_major": 2,
       "version_minor": 0
      },
      "text/plain": [
       "  0%|          | 0/2 [00:00<?, ?ba/s]"
      ]
     },
     "metadata": {},
     "output_type": "display_data"
    },
    {
     "data": {
      "application/vnd.jupyter.widget-view+json": {
       "model_id": "c023ace7a7b04f53bec2ea28a1e9061a",
       "version_major": 2,
       "version_minor": 0
      },
      "text/plain": [
       "  0%|          | 0/1 [00:00<?, ?ba/s]"
      ]
     },
     "metadata": {},
     "output_type": "display_data"
    },
    {
     "data": {
      "application/vnd.jupyter.widget-view+json": {
       "model_id": "0e99dc2e6c0541ad923195a049e2f487",
       "version_major": 2,
       "version_minor": 0
      },
      "text/plain": [
       "  0%|          | 0/1 [00:00<?, ?ba/s]"
      ]
     },
     "metadata": {},
     "output_type": "display_data"
    },
    {
     "name": "stderr",
     "output_type": "stream",
     "text": [
      "loading configuration file https://huggingface.co/mvonwyl/distilbert-base-uncased-finetuned-squad2/resolve/main/config.json from cache at /home/ppirozelli/.cache/huggingface/transformers/cffbca5d7cd141d50b708ec6a05c79978d19c4dd3074fcd116c149cd355221f8.a540da103e8b3d40c8db787d1fe802d9215f260969fa27deaa13b88795d8181b\n",
      "Model config DistilBertConfig {\n",
      "  \"_name_or_path\": \"mvonwyl/distilbert-base-uncased-finetuned-squad2\",\n",
      "  \"activation\": \"gelu\",\n",
      "  \"architectures\": [\n",
      "    \"DistilBertForQuestionAnswering\"\n",
      "  ],\n",
      "  \"attention_dropout\": 0.1,\n",
      "  \"dim\": 768,\n",
      "  \"dropout\": 0.1,\n",
      "  \"hidden_dim\": 3072,\n",
      "  \"initializer_range\": 0.02,\n",
      "  \"max_position_embeddings\": 512,\n",
      "  \"model_type\": \"distilbert\",\n",
      "  \"n_heads\": 12,\n",
      "  \"n_layers\": 6,\n",
      "  \"pad_token_id\": 0,\n",
      "  \"qa_dropout\": 0.1,\n",
      "  \"seq_classif_dropout\": 0.2,\n",
      "  \"sinusoidal_pos_embds\": false,\n",
      "  \"tie_weights_\": true,\n",
      "  \"torch_dtype\": \"float32\",\n",
      "  \"transformers_version\": \"4.14.1\",\n",
      "  \"vocab_size\": 30522\n",
      "}\n",
      "\n",
      "loading weights file https://huggingface.co/mvonwyl/distilbert-base-uncased-finetuned-squad2/resolve/main/pytorch_model.bin from cache at /home/ppirozelli/.cache/huggingface/transformers/b5b35581fa082df7d2ff2451f726fd2ebd8be192e2a873d4f7e53285f94db045.19e0e53a6167116b32114f34d67c198cfdaa42db408fe90a32add525213a6fc1\n",
      "Some weights of the model checkpoint at mvonwyl/distilbert-base-uncased-finetuned-squad2 were not used when initializing DistilBertForSequenceClassification: ['qa_outputs.weight', 'qa_outputs.bias']\n",
      "- This IS expected if you are initializing DistilBertForSequenceClassification from the checkpoint of a model trained on another task or with another architecture (e.g. initializing a BertForSequenceClassification model from a BertForPreTraining model).\n",
      "- This IS NOT expected if you are initializing DistilBertForSequenceClassification from the checkpoint of a model that you expect to be exactly identical (initializing a BertForSequenceClassification model from a BertForSequenceClassification model).\n",
      "Some weights of DistilBertForSequenceClassification were not initialized from the model checkpoint at mvonwyl/distilbert-base-uncased-finetuned-squad2 and are newly initialized: ['pre_classifier.bias', 'classifier.bias', 'pre_classifier.weight', 'classifier.weight']\n",
      "You should probably TRAIN this model on a down-stream task to be able to use it for predictions and inference.\n",
      "PyTorch: setting up devices\n",
      "The default value for the training argument `--report_to` will change in v5 (from all installed integrations to none). In v5, you will need to use `--report_to all` to get the same behavior as now. You should start updating your code and make this info disappear :-).\n",
      "The following columns in the training set  don't have a corresponding argument in `DistilBertForSequenceClassification.forward` and have been ignored: answer_in_text, question, answer_en_validate, text, abstract, corpus, answer.\n",
      "***** Running training *****\n",
      "  Num examples = 1755\n",
      "  Num Epochs = 8\n",
      "  Instantaneous batch size per device = 16\n",
      "  Total train batch size (w. parallel, distributed & accumulation) = 32\n",
      "  Gradient Accumulation steps = 1\n",
      "  Total optimization steps = 440\n",
      "Automatic Weights & Biases logging enabled, to disable set os.environ[\"WANDB_DISABLED\"] = \"true\"\n",
      "/home/ppirozelli/anaconda3/lib/python3.9/site-packages/torch/nn/parallel/_functions.py:68: UserWarning: Was asked to gather along dimension 0, but all input tensors were scalars; will instead unsqueeze and return a vector.\n",
      "  warnings.warn('Was asked to gather along dimension 0, but all '\n"
     ]
    },
    {
     "data": {
      "text/html": [
       "\n",
       "    <div>\n",
       "      \n",
       "      <progress value='440' max='440' style='width:300px; height:20px; vertical-align: middle;'></progress>\n",
       "      [440/440 01:28, Epoch 8/8]\n",
       "    </div>\n",
       "    <table border=\"1\" class=\"dataframe\">\n",
       "  <thead>\n",
       "    <tr style=\"text-align: left;\">\n",
       "      <th>Step</th>\n",
       "      <th>Training Loss</th>\n",
       "    </tr>\n",
       "  </thead>\n",
       "  <tbody>\n",
       "  </tbody>\n",
       "</table><p>"
      ],
      "text/plain": [
       "<IPython.core.display.HTML object>"
      ]
     },
     "metadata": {},
     "output_type": "display_data"
    },
    {
     "name": "stderr",
     "output_type": "stream",
     "text": [
      "\n",
      "\n",
      "Training completed. Do not forget to share your model on huggingface.co/models =)\n",
      "\n",
      "\n",
      "The following columns in the test set  don't have a corresponding argument in `DistilBertForSequenceClassification.forward` and have been ignored: answer_in_text, question, answer_en_validate, text, abstract, corpus, answer.\n",
      "***** Running Prediction *****\n",
      "  Num examples = 216\n",
      "  Batch size = 32\n"
     ]
    },
    {
     "data": {
      "text/html": [
       "\n",
       "    <div>\n",
       "      \n",
       "      <progress value='7' max='7' style='width:300px; height:20px; vertical-align: middle;'></progress>\n",
       "      [7/7 00:00]\n",
       "    </div>\n",
       "    "
      ],
      "text/plain": [
       "<IPython.core.display.HTML object>"
      ]
     },
     "metadata": {},
     "output_type": "display_data"
    },
    {
     "name": "stdout",
     "output_type": "stream",
     "text": [
      "Test: standard discrete\n",
      "Accuracy: 0.7129629629629629\n",
      "F1-score: 0.4833333333333334\n"
     ]
    },
    {
     "name": "stderr",
     "output_type": "stream",
     "text": [
      "loading file https://huggingface.co/mvonwyl/distilbert-base-uncased-finetuned-squad2/resolve/main/vocab.txt from cache at /home/ppirozelli/.cache/huggingface/transformers/571aebbe8ed96147d4b98134c0a95beec9029368b0c35a1190f40094ee186478.d789d64ebfe299b0e416afc4a169632f903f693095b4629a7ea271d5a0cf2c99\n",
      "loading file https://huggingface.co/mvonwyl/distilbert-base-uncased-finetuned-squad2/resolve/main/tokenizer.json from cache at /home/ppirozelli/.cache/huggingface/transformers/28675318b6e2e081432f0e2fa9539dd176e7765623809f220b03cbafaaf810ad.3d26c56b358cca40b16bcdc782f4b906e5c295e21e24fae62803895dae040f25\n",
      "loading file https://huggingface.co/mvonwyl/distilbert-base-uncased-finetuned-squad2/resolve/main/added_tokens.json from cache at None\n",
      "loading file https://huggingface.co/mvonwyl/distilbert-base-uncased-finetuned-squad2/resolve/main/special_tokens_map.json from cache at /home/ppirozelli/.cache/huggingface/transformers/8059125746dc8b7c4ab020d7078038ce3ba711f8ee2be055be536ac398300fe1.dd8bd9bfd3664b530ea4e645105f557769387b3da9f79bdb55ed556bdd80611d\n",
      "loading file https://huggingface.co/mvonwyl/distilbert-base-uncased-finetuned-squad2/resolve/main/tokenizer_config.json from cache at /home/ppirozelli/.cache/huggingface/transformers/0eefcbdecb44adc8a8a31203c6fc6081e4abee730e80b3d7c73ae8149d76268e.42154c5fd30bfa7e34941d0d8ad26f8a3936990926fbe06b2da76dd749b1c6d4\n"
     ]
    },
    {
     "data": {
      "application/vnd.jupyter.widget-view+json": {
       "model_id": "1b9c0fe2b043433db625856e88ca4e78",
       "version_major": 2,
       "version_minor": 0
      },
      "text/plain": [
       "  0%|          | 0/7 [00:00<?, ?ba/s]"
      ]
     },
     "metadata": {},
     "output_type": "display_data"
    },
    {
     "data": {
      "application/vnd.jupyter.widget-view+json": {
       "model_id": "e59617f126a14e1d9d529c1f371feeb9",
       "version_major": 2,
       "version_minor": 0
      },
      "text/plain": [
       "  0%|          | 0/1 [00:00<?, ?ba/s]"
      ]
     },
     "metadata": {},
     "output_type": "display_data"
    },
    {
     "data": {
      "application/vnd.jupyter.widget-view+json": {
       "model_id": "d789bfe8b67745e2b9b64a3d8df0a175",
       "version_major": 2,
       "version_minor": 0
      },
      "text/plain": [
       "  0%|          | 0/1 [00:00<?, ?ba/s]"
      ]
     },
     "metadata": {},
     "output_type": "display_data"
    },
    {
     "name": "stderr",
     "output_type": "stream",
     "text": [
      "loading configuration file https://huggingface.co/mvonwyl/distilbert-base-uncased-finetuned-squad2/resolve/main/config.json from cache at /home/ppirozelli/.cache/huggingface/transformers/cffbca5d7cd141d50b708ec6a05c79978d19c4dd3074fcd116c149cd355221f8.a540da103e8b3d40c8db787d1fe802d9215f260969fa27deaa13b88795d8181b\n",
      "Model config DistilBertConfig {\n",
      "  \"_name_or_path\": \"mvonwyl/distilbert-base-uncased-finetuned-squad2\",\n",
      "  \"activation\": \"gelu\",\n",
      "  \"architectures\": [\n",
      "    \"DistilBertForQuestionAnswering\"\n",
      "  ],\n",
      "  \"attention_dropout\": 0.1,\n",
      "  \"dim\": 768,\n",
      "  \"dropout\": 0.1,\n",
      "  \"hidden_dim\": 3072,\n",
      "  \"initializer_range\": 0.02,\n",
      "  \"max_position_embeddings\": 512,\n",
      "  \"model_type\": \"distilbert\",\n",
      "  \"n_heads\": 12,\n",
      "  \"n_layers\": 6,\n",
      "  \"pad_token_id\": 0,\n",
      "  \"qa_dropout\": 0.1,\n",
      "  \"seq_classif_dropout\": 0.2,\n",
      "  \"sinusoidal_pos_embds\": false,\n",
      "  \"tie_weights_\": true,\n",
      "  \"torch_dtype\": \"float32\",\n",
      "  \"transformers_version\": \"4.14.1\",\n",
      "  \"vocab_size\": 30522\n",
      "}\n",
      "\n",
      "loading weights file https://huggingface.co/mvonwyl/distilbert-base-uncased-finetuned-squad2/resolve/main/pytorch_model.bin from cache at /home/ppirozelli/.cache/huggingface/transformers/b5b35581fa082df7d2ff2451f726fd2ebd8be192e2a873d4f7e53285f94db045.19e0e53a6167116b32114f34d67c198cfdaa42db408fe90a32add525213a6fc1\n",
      "Some weights of the model checkpoint at mvonwyl/distilbert-base-uncased-finetuned-squad2 were not used when initializing DistilBertForSequenceClassification: ['qa_outputs.weight', 'qa_outputs.bias']\n",
      "- This IS expected if you are initializing DistilBertForSequenceClassification from the checkpoint of a model trained on another task or with another architecture (e.g. initializing a BertForSequenceClassification model from a BertForPreTraining model).\n",
      "- This IS NOT expected if you are initializing DistilBertForSequenceClassification from the checkpoint of a model that you expect to be exactly identical (initializing a BertForSequenceClassification model from a BertForSequenceClassification model).\n",
      "Some weights of DistilBertForSequenceClassification were not initialized from the model checkpoint at mvonwyl/distilbert-base-uncased-finetuned-squad2 and are newly initialized: ['pre_classifier.bias', 'classifier.bias', 'pre_classifier.weight', 'classifier.weight']\n",
      "You should probably TRAIN this model on a down-stream task to be able to use it for predictions and inference.\n",
      "PyTorch: setting up devices\n",
      "The default value for the training argument `--report_to` will change in v5 (from all installed integrations to none). In v5, you will need to use `--report_to all` to get the same behavior as now. You should start updating your code and make this info disappear :-).\n",
      "The following columns in the training set  don't have a corresponding argument in `DistilBertForSequenceClassification.forward` and have been ignored: answer_in_text, question, text, abstract, corpus, answer.\n",
      "***** Running training *****\n",
      "  Num examples = 6676\n",
      "  Num Epochs = 8\n",
      "  Instantaneous batch size per device = 16\n",
      "  Total train batch size (w. parallel, distributed & accumulation) = 32\n",
      "  Gradient Accumulation steps = 1\n",
      "  Total optimization steps = 1672\n",
      "Automatic Weights & Biases logging enabled, to disable set os.environ[\"WANDB_DISABLED\"] = \"true\"\n",
      "/home/ppirozelli/anaconda3/lib/python3.9/site-packages/torch/nn/parallel/_functions.py:68: UserWarning: Was asked to gather along dimension 0, but all input tensors were scalars; will instead unsqueeze and return a vector.\n",
      "  warnings.warn('Was asked to gather along dimension 0, but all '\n"
     ]
    },
    {
     "data": {
      "text/html": [
       "\n",
       "    <div>\n",
       "      \n",
       "      <progress value='1672' max='1672' style='width:300px; height:20px; vertical-align: middle;'></progress>\n",
       "      [1672/1672 05:42, Epoch 8/8]\n",
       "    </div>\n",
       "    <table border=\"1\" class=\"dataframe\">\n",
       "  <thead>\n",
       "    <tr style=\"text-align: left;\">\n",
       "      <th>Step</th>\n",
       "      <th>Training Loss</th>\n",
       "    </tr>\n",
       "  </thead>\n",
       "  <tbody>\n",
       "    <tr>\n",
       "      <td>500</td>\n",
       "      <td>0.393100</td>\n",
       "    </tr>\n",
       "    <tr>\n",
       "      <td>1000</td>\n",
       "      <td>0.275500</td>\n",
       "    </tr>\n",
       "    <tr>\n",
       "      <td>1500</td>\n",
       "      <td>0.215100</td>\n",
       "    </tr>\n",
       "  </tbody>\n",
       "</table><p>"
      ],
      "text/plain": [
       "<IPython.core.display.HTML object>"
      ]
     },
     "metadata": {},
     "output_type": "display_data"
    },
    {
     "name": "stderr",
     "output_type": "stream",
     "text": [
      "\n",
      "\n",
      "Training completed. Do not forget to share your model on huggingface.co/models =)\n",
      "\n",
      "\n",
      "The following columns in the test set  don't have a corresponding argument in `DistilBertForSequenceClassification.forward` and have been ignored: answer_in_text, question, answer_en_validate, text, abstract, corpus, answer.\n",
      "***** Running Prediction *****\n",
      "  Num examples = 216\n",
      "  Batch size = 32\n"
     ]
    },
    {
     "data": {
      "text/html": [
       "\n",
       "    <div>\n",
       "      \n",
       "      <progress value='7' max='7' style='width:300px; height:20px; vertical-align: middle;'></progress>\n",
       "      [7/7 00:00]\n",
       "    </div>\n",
       "    "
      ],
      "text/plain": [
       "<IPython.core.display.HTML object>"
      ]
     },
     "metadata": {},
     "output_type": "display_data"
    },
    {
     "name": "stdout",
     "output_type": "stream",
     "text": [
      "Test: human_paraphrase soft\n",
      "Accuracy: 0.6851851851851852\n",
      "F1-score: 0.4784090909090909\n"
     ]
    },
    {
     "name": "stderr",
     "output_type": "stream",
     "text": [
      "loading file https://huggingface.co/mvonwyl/distilbert-base-uncased-finetuned-squad2/resolve/main/vocab.txt from cache at /home/ppirozelli/.cache/huggingface/transformers/571aebbe8ed96147d4b98134c0a95beec9029368b0c35a1190f40094ee186478.d789d64ebfe299b0e416afc4a169632f903f693095b4629a7ea271d5a0cf2c99\n",
      "loading file https://huggingface.co/mvonwyl/distilbert-base-uncased-finetuned-squad2/resolve/main/tokenizer.json from cache at /home/ppirozelli/.cache/huggingface/transformers/28675318b6e2e081432f0e2fa9539dd176e7765623809f220b03cbafaaf810ad.3d26c56b358cca40b16bcdc782f4b906e5c295e21e24fae62803895dae040f25\n",
      "loading file https://huggingface.co/mvonwyl/distilbert-base-uncased-finetuned-squad2/resolve/main/added_tokens.json from cache at None\n",
      "loading file https://huggingface.co/mvonwyl/distilbert-base-uncased-finetuned-squad2/resolve/main/special_tokens_map.json from cache at /home/ppirozelli/.cache/huggingface/transformers/8059125746dc8b7c4ab020d7078038ce3ba711f8ee2be055be536ac398300fe1.dd8bd9bfd3664b530ea4e645105f557769387b3da9f79bdb55ed556bdd80611d\n",
      "loading file https://huggingface.co/mvonwyl/distilbert-base-uncased-finetuned-squad2/resolve/main/tokenizer_config.json from cache at /home/ppirozelli/.cache/huggingface/transformers/0eefcbdecb44adc8a8a31203c6fc6081e4abee730e80b3d7c73ae8149d76268e.42154c5fd30bfa7e34941d0d8ad26f8a3936990926fbe06b2da76dd749b1c6d4\n"
     ]
    },
    {
     "data": {
      "application/vnd.jupyter.widget-view+json": {
       "model_id": "785341ef21064212976b769fe16e7ce7",
       "version_major": 2,
       "version_minor": 0
      },
      "text/plain": [
       "  0%|          | 0/5 [00:00<?, ?ba/s]"
      ]
     },
     "metadata": {},
     "output_type": "display_data"
    },
    {
     "data": {
      "application/vnd.jupyter.widget-view+json": {
       "model_id": "d9684be4272345fbae0d71469c46c996",
       "version_major": 2,
       "version_minor": 0
      },
      "text/plain": [
       "  0%|          | 0/1 [00:00<?, ?ba/s]"
      ]
     },
     "metadata": {},
     "output_type": "display_data"
    },
    {
     "data": {
      "application/vnd.jupyter.widget-view+json": {
       "model_id": "1a03b9077dd444daa49740f3a6bdbb4b",
       "version_major": 2,
       "version_minor": 0
      },
      "text/plain": [
       "  0%|          | 0/1 [00:00<?, ?ba/s]"
      ]
     },
     "metadata": {},
     "output_type": "display_data"
    },
    {
     "name": "stderr",
     "output_type": "stream",
     "text": [
      "loading configuration file https://huggingface.co/mvonwyl/distilbert-base-uncased-finetuned-squad2/resolve/main/config.json from cache at /home/ppirozelli/.cache/huggingface/transformers/cffbca5d7cd141d50b708ec6a05c79978d19c4dd3074fcd116c149cd355221f8.a540da103e8b3d40c8db787d1fe802d9215f260969fa27deaa13b88795d8181b\n",
      "Model config DistilBertConfig {\n",
      "  \"_name_or_path\": \"mvonwyl/distilbert-base-uncased-finetuned-squad2\",\n",
      "  \"activation\": \"gelu\",\n",
      "  \"architectures\": [\n",
      "    \"DistilBertForQuestionAnswering\"\n",
      "  ],\n",
      "  \"attention_dropout\": 0.1,\n",
      "  \"dim\": 768,\n",
      "  \"dropout\": 0.1,\n",
      "  \"hidden_dim\": 3072,\n",
      "  \"initializer_range\": 0.02,\n",
      "  \"max_position_embeddings\": 512,\n",
      "  \"model_type\": \"distilbert\",\n",
      "  \"n_heads\": 12,\n",
      "  \"n_layers\": 6,\n",
      "  \"pad_token_id\": 0,\n",
      "  \"qa_dropout\": 0.1,\n",
      "  \"seq_classif_dropout\": 0.2,\n",
      "  \"sinusoidal_pos_embds\": false,\n",
      "  \"tie_weights_\": true,\n",
      "  \"torch_dtype\": \"float32\",\n",
      "  \"transformers_version\": \"4.14.1\",\n",
      "  \"vocab_size\": 30522\n",
      "}\n",
      "\n",
      "loading weights file https://huggingface.co/mvonwyl/distilbert-base-uncased-finetuned-squad2/resolve/main/pytorch_model.bin from cache at /home/ppirozelli/.cache/huggingface/transformers/b5b35581fa082df7d2ff2451f726fd2ebd8be192e2a873d4f7e53285f94db045.19e0e53a6167116b32114f34d67c198cfdaa42db408fe90a32add525213a6fc1\n",
      "Some weights of the model checkpoint at mvonwyl/distilbert-base-uncased-finetuned-squad2 were not used when initializing DistilBertForSequenceClassification: ['qa_outputs.weight', 'qa_outputs.bias']\n",
      "- This IS expected if you are initializing DistilBertForSequenceClassification from the checkpoint of a model trained on another task or with another architecture (e.g. initializing a BertForSequenceClassification model from a BertForPreTraining model).\n",
      "- This IS NOT expected if you are initializing DistilBertForSequenceClassification from the checkpoint of a model that you expect to be exactly identical (initializing a BertForSequenceClassification model from a BertForSequenceClassification model).\n",
      "Some weights of DistilBertForSequenceClassification were not initialized from the model checkpoint at mvonwyl/distilbert-base-uncased-finetuned-squad2 and are newly initialized: ['pre_classifier.bias', 'classifier.bias', 'pre_classifier.weight', 'classifier.weight']\n",
      "You should probably TRAIN this model on a down-stream task to be able to use it for predictions and inference.\n",
      "PyTorch: setting up devices\n",
      "The default value for the training argument `--report_to` will change in v5 (from all installed integrations to none). In v5, you will need to use `--report_to all` to get the same behavior as now. You should start updating your code and make this info disappear :-).\n",
      "The following columns in the training set  don't have a corresponding argument in `DistilBertForSequenceClassification.forward` and have been ignored: answer_in_text, question, text, abstract, corpus, answer.\n",
      "***** Running training *****\n",
      "  Num examples = 4638\n",
      "  Num Epochs = 8\n",
      "  Instantaneous batch size per device = 16\n",
      "  Total train batch size (w. parallel, distributed & accumulation) = 32\n",
      "  Gradient Accumulation steps = 1\n",
      "  Total optimization steps = 1160\n",
      "Automatic Weights & Biases logging enabled, to disable set os.environ[\"WANDB_DISABLED\"] = \"true\"\n",
      "/home/ppirozelli/anaconda3/lib/python3.9/site-packages/torch/nn/parallel/_functions.py:68: UserWarning: Was asked to gather along dimension 0, but all input tensors were scalars; will instead unsqueeze and return a vector.\n",
      "  warnings.warn('Was asked to gather along dimension 0, but all '\n"
     ]
    },
    {
     "data": {
      "text/html": [
       "\n",
       "    <div>\n",
       "      \n",
       "      <progress value='1160' max='1160' style='width:300px; height:20px; vertical-align: middle;'></progress>\n",
       "      [1160/1160 03:58, Epoch 8/8]\n",
       "    </div>\n",
       "    <table border=\"1\" class=\"dataframe\">\n",
       "  <thead>\n",
       "    <tr style=\"text-align: left;\">\n",
       "      <th>Step</th>\n",
       "      <th>Training Loss</th>\n",
       "    </tr>\n",
       "  </thead>\n",
       "  <tbody>\n",
       "    <tr>\n",
       "      <td>500</td>\n",
       "      <td>0.114800</td>\n",
       "    </tr>\n",
       "    <tr>\n",
       "      <td>1000</td>\n",
       "      <td>0.053000</td>\n",
       "    </tr>\n",
       "  </tbody>\n",
       "</table><p>"
      ],
      "text/plain": [
       "<IPython.core.display.HTML object>"
      ]
     },
     "metadata": {},
     "output_type": "display_data"
    },
    {
     "name": "stderr",
     "output_type": "stream",
     "text": [
      "\n",
      "\n",
      "Training completed. Do not forget to share your model on huggingface.co/models =)\n",
      "\n",
      "\n",
      "The following columns in the test set  don't have a corresponding argument in `DistilBertForSequenceClassification.forward` and have been ignored: answer_in_text, question, answer_en_validate, text, abstract, corpus, answer.\n",
      "***** Running Prediction *****\n",
      "  Num examples = 145\n",
      "  Batch size = 32\n"
     ]
    },
    {
     "data": {
      "text/html": [
       "\n",
       "    <div>\n",
       "      \n",
       "      <progress value='5' max='5' style='width:300px; height:20px; vertical-align: middle;'></progress>\n",
       "      [5/5 00:00]\n",
       "    </div>\n",
       "    "
      ],
      "text/plain": [
       "<IPython.core.display.HTML object>"
      ]
     },
     "metadata": {},
     "output_type": "display_data"
    },
    {
     "name": "stdout",
     "output_type": "stream",
     "text": [
      "Test: human_paraphrase rigid\n",
      "Accuracy: 0.903448275862069\n",
      "F1-score: 0.47463768115942034\n"
     ]
    },
    {
     "name": "stderr",
     "output_type": "stream",
     "text": [
      "loading file https://huggingface.co/mvonwyl/distilbert-base-uncased-finetuned-squad2/resolve/main/vocab.txt from cache at /home/ppirozelli/.cache/huggingface/transformers/571aebbe8ed96147d4b98134c0a95beec9029368b0c35a1190f40094ee186478.d789d64ebfe299b0e416afc4a169632f903f693095b4629a7ea271d5a0cf2c99\n",
      "loading file https://huggingface.co/mvonwyl/distilbert-base-uncased-finetuned-squad2/resolve/main/tokenizer.json from cache at /home/ppirozelli/.cache/huggingface/transformers/28675318b6e2e081432f0e2fa9539dd176e7765623809f220b03cbafaaf810ad.3d26c56b358cca40b16bcdc782f4b906e5c295e21e24fae62803895dae040f25\n",
      "loading file https://huggingface.co/mvonwyl/distilbert-base-uncased-finetuned-squad2/resolve/main/added_tokens.json from cache at None\n",
      "loading file https://huggingface.co/mvonwyl/distilbert-base-uncased-finetuned-squad2/resolve/main/special_tokens_map.json from cache at /home/ppirozelli/.cache/huggingface/transformers/8059125746dc8b7c4ab020d7078038ce3ba711f8ee2be055be536ac398300fe1.dd8bd9bfd3664b530ea4e645105f557769387b3da9f79bdb55ed556bdd80611d\n",
      "loading file https://huggingface.co/mvonwyl/distilbert-base-uncased-finetuned-squad2/resolve/main/tokenizer_config.json from cache at /home/ppirozelli/.cache/huggingface/transformers/0eefcbdecb44adc8a8a31203c6fc6081e4abee730e80b3d7c73ae8149d76268e.42154c5fd30bfa7e34941d0d8ad26f8a3936990926fbe06b2da76dd749b1c6d4\n"
     ]
    },
    {
     "data": {
      "application/vnd.jupyter.widget-view+json": {
       "model_id": "ba714ba4a2bb425aac77a439c63dda60",
       "version_major": 2,
       "version_minor": 0
      },
      "text/plain": [
       "  0%|          | 0/7 [00:00<?, ?ba/s]"
      ]
     },
     "metadata": {},
     "output_type": "display_data"
    },
    {
     "data": {
      "application/vnd.jupyter.widget-view+json": {
       "model_id": "34c21a3b25d641cd9d6ed91138437461",
       "version_major": 2,
       "version_minor": 0
      },
      "text/plain": [
       "  0%|          | 0/1 [00:00<?, ?ba/s]"
      ]
     },
     "metadata": {},
     "output_type": "display_data"
    },
    {
     "data": {
      "application/vnd.jupyter.widget-view+json": {
       "model_id": "14728e79f1ad47cc8d7513a408400bc1",
       "version_major": 2,
       "version_minor": 0
      },
      "text/plain": [
       "  0%|          | 0/1 [00:00<?, ?ba/s]"
      ]
     },
     "metadata": {},
     "output_type": "display_data"
    },
    {
     "name": "stderr",
     "output_type": "stream",
     "text": [
      "loading configuration file https://huggingface.co/mvonwyl/distilbert-base-uncased-finetuned-squad2/resolve/main/config.json from cache at /home/ppirozelli/.cache/huggingface/transformers/cffbca5d7cd141d50b708ec6a05c79978d19c4dd3074fcd116c149cd355221f8.a540da103e8b3d40c8db787d1fe802d9215f260969fa27deaa13b88795d8181b\n",
      "Model config DistilBertConfig {\n",
      "  \"_name_or_path\": \"mvonwyl/distilbert-base-uncased-finetuned-squad2\",\n",
      "  \"activation\": \"gelu\",\n",
      "  \"architectures\": [\n",
      "    \"DistilBertForQuestionAnswering\"\n",
      "  ],\n",
      "  \"attention_dropout\": 0.1,\n",
      "  \"dim\": 768,\n",
      "  \"dropout\": 0.1,\n",
      "  \"hidden_dim\": 3072,\n",
      "  \"initializer_range\": 0.02,\n",
      "  \"max_position_embeddings\": 512,\n",
      "  \"model_type\": \"distilbert\",\n",
      "  \"n_heads\": 12,\n",
      "  \"n_layers\": 6,\n",
      "  \"pad_token_id\": 0,\n",
      "  \"qa_dropout\": 0.1,\n",
      "  \"seq_classif_dropout\": 0.2,\n",
      "  \"sinusoidal_pos_embds\": false,\n",
      "  \"tie_weights_\": true,\n",
      "  \"torch_dtype\": \"float32\",\n",
      "  \"transformers_version\": \"4.14.1\",\n",
      "  \"vocab_size\": 30522\n",
      "}\n",
      "\n",
      "loading weights file https://huggingface.co/mvonwyl/distilbert-base-uncased-finetuned-squad2/resolve/main/pytorch_model.bin from cache at /home/ppirozelli/.cache/huggingface/transformers/b5b35581fa082df7d2ff2451f726fd2ebd8be192e2a873d4f7e53285f94db045.19e0e53a6167116b32114f34d67c198cfdaa42db408fe90a32add525213a6fc1\n",
      "Some weights of the model checkpoint at mvonwyl/distilbert-base-uncased-finetuned-squad2 were not used when initializing DistilBertForSequenceClassification: ['qa_outputs.weight', 'qa_outputs.bias']\n",
      "- This IS expected if you are initializing DistilBertForSequenceClassification from the checkpoint of a model trained on another task or with another architecture (e.g. initializing a BertForSequenceClassification model from a BertForPreTraining model).\n",
      "- This IS NOT expected if you are initializing DistilBertForSequenceClassification from the checkpoint of a model that you expect to be exactly identical (initializing a BertForSequenceClassification model from a BertForSequenceClassification model).\n",
      "Some weights of DistilBertForSequenceClassification were not initialized from the model checkpoint at mvonwyl/distilbert-base-uncased-finetuned-squad2 and are newly initialized: ['pre_classifier.bias', 'classifier.bias', 'pre_classifier.weight', 'classifier.weight']\n",
      "You should probably TRAIN this model on a down-stream task to be able to use it for predictions and inference.\n",
      "PyTorch: setting up devices\n",
      "The default value for the training argument `--report_to` will change in v5 (from all installed integrations to none). In v5, you will need to use `--report_to all` to get the same behavior as now. You should start updating your code and make this info disappear :-).\n",
      "The following columns in the training set  don't have a corresponding argument in `DistilBertForSequenceClassification.forward` and have been ignored: answer_in_text, question, text, abstract, corpus, answer.\n",
      "***** Running training *****\n",
      "  Num examples = 6676\n",
      "  Num Epochs = 8\n",
      "  Instantaneous batch size per device = 16\n",
      "  Total train batch size (w. parallel, distributed & accumulation) = 32\n",
      "  Gradient Accumulation steps = 1\n",
      "  Total optimization steps = 1672\n",
      "Automatic Weights & Biases logging enabled, to disable set os.environ[\"WANDB_DISABLED\"] = \"true\"\n",
      "/home/ppirozelli/anaconda3/lib/python3.9/site-packages/torch/nn/parallel/_functions.py:68: UserWarning: Was asked to gather along dimension 0, but all input tensors were scalars; will instead unsqueeze and return a vector.\n",
      "  warnings.warn('Was asked to gather along dimension 0, but all '\n"
     ]
    },
    {
     "data": {
      "text/html": [
       "\n",
       "    <div>\n",
       "      \n",
       "      <progress value='1672' max='1672' style='width:300px; height:20px; vertical-align: middle;'></progress>\n",
       "      [1672/1672 05:43, Epoch 8/8]\n",
       "    </div>\n",
       "    <table border=\"1\" class=\"dataframe\">\n",
       "  <thead>\n",
       "    <tr style=\"text-align: left;\">\n",
       "      <th>Step</th>\n",
       "      <th>Training Loss</th>\n",
       "    </tr>\n",
       "  </thead>\n",
       "  <tbody>\n",
       "    <tr>\n",
       "      <td>500</td>\n",
       "      <td>0.393100</td>\n",
       "    </tr>\n",
       "    <tr>\n",
       "      <td>1000</td>\n",
       "      <td>0.275500</td>\n",
       "    </tr>\n",
       "    <tr>\n",
       "      <td>1500</td>\n",
       "      <td>0.215100</td>\n",
       "    </tr>\n",
       "  </tbody>\n",
       "</table><p>"
      ],
      "text/plain": [
       "<IPython.core.display.HTML object>"
      ]
     },
     "metadata": {},
     "output_type": "display_data"
    },
    {
     "name": "stderr",
     "output_type": "stream",
     "text": [
      "\n",
      "\n",
      "Training completed. Do not forget to share your model on huggingface.co/models =)\n",
      "\n",
      "\n",
      "The following columns in the test set  don't have a corresponding argument in `DistilBertForSequenceClassification.forward` and have been ignored: answer_in_text, question, answer_en_validate, text, abstract, corpus, answer.\n",
      "***** Running Prediction *****\n",
      "  Num examples = 216\n",
      "  Batch size = 32\n"
     ]
    },
    {
     "data": {
      "text/html": [
       "\n",
       "    <div>\n",
       "      \n",
       "      <progress value='7' max='7' style='width:300px; height:20px; vertical-align: middle;'></progress>\n",
       "      [7/7 00:00]\n",
       "    </div>\n",
       "    "
      ],
      "text/plain": [
       "<IPython.core.display.HTML object>"
      ]
     },
     "metadata": {},
     "output_type": "display_data"
    },
    {
     "name": "stdout",
     "output_type": "stream",
     "text": [
      "Test: human_paraphrase discrete\n",
      "Accuracy: 0.6851851851851852\n",
      "F1-score: 0.4784090909090909\n"
     ]
    },
    {
     "name": "stderr",
     "output_type": "stream",
     "text": [
      "loading file https://huggingface.co/mvonwyl/distilbert-base-uncased-finetuned-squad2/resolve/main/vocab.txt from cache at /home/ppirozelli/.cache/huggingface/transformers/571aebbe8ed96147d4b98134c0a95beec9029368b0c35a1190f40094ee186478.d789d64ebfe299b0e416afc4a169632f903f693095b4629a7ea271d5a0cf2c99\n",
      "loading file https://huggingface.co/mvonwyl/distilbert-base-uncased-finetuned-squad2/resolve/main/tokenizer.json from cache at /home/ppirozelli/.cache/huggingface/transformers/28675318b6e2e081432f0e2fa9539dd176e7765623809f220b03cbafaaf810ad.3d26c56b358cca40b16bcdc782f4b906e5c295e21e24fae62803895dae040f25\n",
      "loading file https://huggingface.co/mvonwyl/distilbert-base-uncased-finetuned-squad2/resolve/main/added_tokens.json from cache at None\n",
      "loading file https://huggingface.co/mvonwyl/distilbert-base-uncased-finetuned-squad2/resolve/main/special_tokens_map.json from cache at /home/ppirozelli/.cache/huggingface/transformers/8059125746dc8b7c4ab020d7078038ce3ba711f8ee2be055be536ac398300fe1.dd8bd9bfd3664b530ea4e645105f557769387b3da9f79bdb55ed556bdd80611d\n",
      "loading file https://huggingface.co/mvonwyl/distilbert-base-uncased-finetuned-squad2/resolve/main/tokenizer_config.json from cache at /home/ppirozelli/.cache/huggingface/transformers/0eefcbdecb44adc8a8a31203c6fc6081e4abee730e80b3d7c73ae8149d76268e.42154c5fd30bfa7e34941d0d8ad26f8a3936990926fbe06b2da76dd749b1c6d4\n"
     ]
    },
    {
     "data": {
      "application/vnd.jupyter.widget-view+json": {
       "model_id": "b98ed291d0b9422faa3a5995ff073c67",
       "version_major": 2,
       "version_minor": 0
      },
      "text/plain": [
       "  0%|          | 0/64 [00:00<?, ?ba/s]"
      ]
     },
     "metadata": {},
     "output_type": "display_data"
    },
    {
     "data": {
      "application/vnd.jupyter.widget-view+json": {
       "model_id": "3a8b6c904c8d4c1c984b7eb31351e6b2",
       "version_major": 2,
       "version_minor": 0
      },
      "text/plain": [
       "  0%|          | 0/1 [00:00<?, ?ba/s]"
      ]
     },
     "metadata": {},
     "output_type": "display_data"
    },
    {
     "data": {
      "application/vnd.jupyter.widget-view+json": {
       "model_id": "41884b79daa345f4a06ceff9db0234a6",
       "version_major": 2,
       "version_minor": 0
      },
      "text/plain": [
       "  0%|          | 0/1 [00:00<?, ?ba/s]"
      ]
     },
     "metadata": {},
     "output_type": "display_data"
    },
    {
     "name": "stderr",
     "output_type": "stream",
     "text": [
      "loading configuration file https://huggingface.co/mvonwyl/distilbert-base-uncased-finetuned-squad2/resolve/main/config.json from cache at /home/ppirozelli/.cache/huggingface/transformers/cffbca5d7cd141d50b708ec6a05c79978d19c4dd3074fcd116c149cd355221f8.a540da103e8b3d40c8db787d1fe802d9215f260969fa27deaa13b88795d8181b\n",
      "Model config DistilBertConfig {\n",
      "  \"_name_or_path\": \"mvonwyl/distilbert-base-uncased-finetuned-squad2\",\n",
      "  \"activation\": \"gelu\",\n",
      "  \"architectures\": [\n",
      "    \"DistilBertForQuestionAnswering\"\n",
      "  ],\n",
      "  \"attention_dropout\": 0.1,\n",
      "  \"dim\": 768,\n",
      "  \"dropout\": 0.1,\n",
      "  \"hidden_dim\": 3072,\n",
      "  \"initializer_range\": 0.02,\n",
      "  \"max_position_embeddings\": 512,\n",
      "  \"model_type\": \"distilbert\",\n",
      "  \"n_heads\": 12,\n",
      "  \"n_layers\": 6,\n",
      "  \"pad_token_id\": 0,\n",
      "  \"qa_dropout\": 0.1,\n",
      "  \"seq_classif_dropout\": 0.2,\n",
      "  \"sinusoidal_pos_embds\": false,\n",
      "  \"tie_weights_\": true,\n",
      "  \"torch_dtype\": \"float32\",\n",
      "  \"transformers_version\": \"4.14.1\",\n",
      "  \"vocab_size\": 30522\n",
      "}\n",
      "\n",
      "loading weights file https://huggingface.co/mvonwyl/distilbert-base-uncased-finetuned-squad2/resolve/main/pytorch_model.bin from cache at /home/ppirozelli/.cache/huggingface/transformers/b5b35581fa082df7d2ff2451f726fd2ebd8be192e2a873d4f7e53285f94db045.19e0e53a6167116b32114f34d67c198cfdaa42db408fe90a32add525213a6fc1\n",
      "Some weights of the model checkpoint at mvonwyl/distilbert-base-uncased-finetuned-squad2 were not used when initializing DistilBertForSequenceClassification: ['qa_outputs.weight', 'qa_outputs.bias']\n",
      "- This IS expected if you are initializing DistilBertForSequenceClassification from the checkpoint of a model trained on another task or with another architecture (e.g. initializing a BertForSequenceClassification model from a BertForPreTraining model).\n",
      "- This IS NOT expected if you are initializing DistilBertForSequenceClassification from the checkpoint of a model that you expect to be exactly identical (initializing a BertForSequenceClassification model from a BertForSequenceClassification model).\n",
      "Some weights of DistilBertForSequenceClassification were not initialized from the model checkpoint at mvonwyl/distilbert-base-uncased-finetuned-squad2 and are newly initialized: ['pre_classifier.bias', 'classifier.bias', 'pre_classifier.weight', 'classifier.weight']\n",
      "You should probably TRAIN this model on a down-stream task to be able to use it for predictions and inference.\n",
      "PyTorch: setting up devices\n",
      "The default value for the training argument `--report_to` will change in v5 (from all installed integrations to none). In v5, you will need to use `--report_to all` to get the same behavior as now. You should start updating your code and make this info disappear :-).\n",
      "The following columns in the training set  don't have a corresponding argument in `DistilBertForSequenceClassification.forward` and have been ignored: answer_in_text, question, text, abstract, corpus, answer.\n",
      "***** Running training *****\n",
      "  Num examples = 63180\n",
      "  Num Epochs = 8\n",
      "  Instantaneous batch size per device = 16\n",
      "  Total train batch size (w. parallel, distributed & accumulation) = 32\n",
      "  Gradient Accumulation steps = 1\n",
      "  Total optimization steps = 15800\n",
      "Automatic Weights & Biases logging enabled, to disable set os.environ[\"WANDB_DISABLED\"] = \"true\"\n",
      "/home/ppirozelli/anaconda3/lib/python3.9/site-packages/torch/nn/parallel/_functions.py:68: UserWarning: Was asked to gather along dimension 0, but all input tensors were scalars; will instead unsqueeze and return a vector.\n",
      "  warnings.warn('Was asked to gather along dimension 0, but all '\n"
     ]
    },
    {
     "data": {
      "text/html": [
       "\n",
       "    <div>\n",
       "      \n",
       "      <progress value='15800' max='15800' style='width:300px; height:20px; vertical-align: middle;'></progress>\n",
       "      [15800/15800 55:48, Epoch 8/8]\n",
       "    </div>\n",
       "    <table border=\"1\" class=\"dataframe\">\n",
       "  <thead>\n",
       "    <tr style=\"text-align: left;\">\n",
       "      <th>Step</th>\n",
       "      <th>Training Loss</th>\n",
       "    </tr>\n",
       "  </thead>\n",
       "  <tbody>\n",
       "    <tr>\n",
       "      <td>500</td>\n",
       "      <td>0.384500</td>\n",
       "    </tr>\n",
       "    <tr>\n",
       "      <td>1000</td>\n",
       "      <td>0.290200</td>\n",
       "    </tr>\n",
       "    <tr>\n",
       "      <td>1500</td>\n",
       "      <td>0.249600</td>\n",
       "    </tr>\n",
       "    <tr>\n",
       "      <td>2000</td>\n",
       "      <td>0.225000</td>\n",
       "    </tr>\n",
       "    <tr>\n",
       "      <td>2500</td>\n",
       "      <td>0.208900</td>\n",
       "    </tr>\n",
       "    <tr>\n",
       "      <td>3000</td>\n",
       "      <td>0.188900</td>\n",
       "    </tr>\n",
       "    <tr>\n",
       "      <td>3500</td>\n",
       "      <td>0.166100</td>\n",
       "    </tr>\n",
       "    <tr>\n",
       "      <td>4000</td>\n",
       "      <td>0.129200</td>\n",
       "    </tr>\n",
       "    <tr>\n",
       "      <td>4500</td>\n",
       "      <td>0.104000</td>\n",
       "    </tr>\n",
       "    <tr>\n",
       "      <td>5000</td>\n",
       "      <td>0.084600</td>\n",
       "    </tr>\n",
       "    <tr>\n",
       "      <td>5500</td>\n",
       "      <td>0.078800</td>\n",
       "    </tr>\n",
       "    <tr>\n",
       "      <td>6000</td>\n",
       "      <td>0.073500</td>\n",
       "    </tr>\n",
       "    <tr>\n",
       "      <td>6500</td>\n",
       "      <td>0.066000</td>\n",
       "    </tr>\n",
       "    <tr>\n",
       "      <td>7000</td>\n",
       "      <td>0.062600</td>\n",
       "    </tr>\n",
       "    <tr>\n",
       "      <td>7500</td>\n",
       "      <td>0.062100</td>\n",
       "    </tr>\n",
       "    <tr>\n",
       "      <td>8000</td>\n",
       "      <td>0.056400</td>\n",
       "    </tr>\n",
       "    <tr>\n",
       "      <td>8500</td>\n",
       "      <td>0.053600</td>\n",
       "    </tr>\n",
       "    <tr>\n",
       "      <td>9000</td>\n",
       "      <td>0.054400</td>\n",
       "    </tr>\n",
       "    <tr>\n",
       "      <td>9500</td>\n",
       "      <td>0.053100</td>\n",
       "    </tr>\n",
       "    <tr>\n",
       "      <td>10000</td>\n",
       "      <td>0.052800</td>\n",
       "    </tr>\n",
       "    <tr>\n",
       "      <td>10500</td>\n",
       "      <td>0.046200</td>\n",
       "    </tr>\n",
       "    <tr>\n",
       "      <td>11000</td>\n",
       "      <td>0.048000</td>\n",
       "    </tr>\n",
       "    <tr>\n",
       "      <td>11500</td>\n",
       "      <td>0.049200</td>\n",
       "    </tr>\n",
       "    <tr>\n",
       "      <td>12000</td>\n",
       "      <td>0.049900</td>\n",
       "    </tr>\n",
       "    <tr>\n",
       "      <td>12500</td>\n",
       "      <td>0.047100</td>\n",
       "    </tr>\n",
       "    <tr>\n",
       "      <td>13000</td>\n",
       "      <td>0.045000</td>\n",
       "    </tr>\n",
       "    <tr>\n",
       "      <td>13500</td>\n",
       "      <td>0.044000</td>\n",
       "    </tr>\n",
       "    <tr>\n",
       "      <td>14000</td>\n",
       "      <td>0.043600</td>\n",
       "    </tr>\n",
       "    <tr>\n",
       "      <td>14500</td>\n",
       "      <td>0.042500</td>\n",
       "    </tr>\n",
       "    <tr>\n",
       "      <td>15000</td>\n",
       "      <td>0.041600</td>\n",
       "    </tr>\n",
       "    <tr>\n",
       "      <td>15500</td>\n",
       "      <td>0.041900</td>\n",
       "    </tr>\n",
       "  </tbody>\n",
       "</table><p>"
      ],
      "text/plain": [
       "<IPython.core.display.HTML object>"
      ]
     },
     "metadata": {},
     "output_type": "display_data"
    },
    {
     "name": "stderr",
     "output_type": "stream",
     "text": [
      "\n",
      "\n",
      "Training completed. Do not forget to share your model on huggingface.co/models =)\n",
      "\n",
      "\n",
      "The following columns in the test set  don't have a corresponding argument in `DistilBertForSequenceClassification.forward` and have been ignored: answer_in_text, question, answer_en_validate, text, abstract, corpus, answer.\n",
      "***** Running Prediction *****\n",
      "  Num examples = 216\n",
      "  Batch size = 32\n"
     ]
    },
    {
     "data": {
      "text/html": [
       "\n",
       "    <div>\n",
       "      \n",
       "      <progress value='7' max='7' style='width:300px; height:20px; vertical-align: middle;'></progress>\n",
       "      [7/7 00:00]\n",
       "    </div>\n",
       "    "
      ],
      "text/plain": [
       "<IPython.core.display.HTML object>"
      ]
     },
     "metadata": {},
     "output_type": "display_data"
    },
    {
     "name": "stdout",
     "output_type": "stream",
     "text": [
      "Test: automatic_paraphrase soft\n",
      "Accuracy: 0.7175925925925926\n",
      "F1-score: 0.4859350005852288\n"
     ]
    },
    {
     "name": "stderr",
     "output_type": "stream",
     "text": [
      "loading file https://huggingface.co/mvonwyl/distilbert-base-uncased-finetuned-squad2/resolve/main/vocab.txt from cache at /home/ppirozelli/.cache/huggingface/transformers/571aebbe8ed96147d4b98134c0a95beec9029368b0c35a1190f40094ee186478.d789d64ebfe299b0e416afc4a169632f903f693095b4629a7ea271d5a0cf2c99\n",
      "loading file https://huggingface.co/mvonwyl/distilbert-base-uncased-finetuned-squad2/resolve/main/tokenizer.json from cache at /home/ppirozelli/.cache/huggingface/transformers/28675318b6e2e081432f0e2fa9539dd176e7765623809f220b03cbafaaf810ad.3d26c56b358cca40b16bcdc782f4b906e5c295e21e24fae62803895dae040f25\n",
      "loading file https://huggingface.co/mvonwyl/distilbert-base-uncased-finetuned-squad2/resolve/main/added_tokens.json from cache at None\n",
      "loading file https://huggingface.co/mvonwyl/distilbert-base-uncased-finetuned-squad2/resolve/main/special_tokens_map.json from cache at /home/ppirozelli/.cache/huggingface/transformers/8059125746dc8b7c4ab020d7078038ce3ba711f8ee2be055be536ac398300fe1.dd8bd9bfd3664b530ea4e645105f557769387b3da9f79bdb55ed556bdd80611d\n",
      "loading file https://huggingface.co/mvonwyl/distilbert-base-uncased-finetuned-squad2/resolve/main/tokenizer_config.json from cache at /home/ppirozelli/.cache/huggingface/transformers/0eefcbdecb44adc8a8a31203c6fc6081e4abee730e80b3d7c73ae8149d76268e.42154c5fd30bfa7e34941d0d8ad26f8a3936990926fbe06b2da76dd749b1c6d4\n"
     ]
    },
    {
     "data": {
      "application/vnd.jupyter.widget-view+json": {
       "model_id": "57ea9a9246294fd7a70177b05e40f9c9",
       "version_major": 2,
       "version_minor": 0
      },
      "text/plain": [
       "  0%|          | 0/44 [00:00<?, ?ba/s]"
      ]
     },
     "metadata": {},
     "output_type": "display_data"
    },
    {
     "data": {
      "application/vnd.jupyter.widget-view+json": {
       "model_id": "21f0dc806eee4cbe964eda0cc0455c16",
       "version_major": 2,
       "version_minor": 0
      },
      "text/plain": [
       "  0%|          | 0/1 [00:00<?, ?ba/s]"
      ]
     },
     "metadata": {},
     "output_type": "display_data"
    },
    {
     "data": {
      "application/vnd.jupyter.widget-view+json": {
       "model_id": "1981a447c1354905b38e280857290bc2",
       "version_major": 2,
       "version_minor": 0
      },
      "text/plain": [
       "  0%|          | 0/1 [00:00<?, ?ba/s]"
      ]
     },
     "metadata": {},
     "output_type": "display_data"
    },
    {
     "name": "stderr",
     "output_type": "stream",
     "text": [
      "loading configuration file https://huggingface.co/mvonwyl/distilbert-base-uncased-finetuned-squad2/resolve/main/config.json from cache at /home/ppirozelli/.cache/huggingface/transformers/cffbca5d7cd141d50b708ec6a05c79978d19c4dd3074fcd116c149cd355221f8.a540da103e8b3d40c8db787d1fe802d9215f260969fa27deaa13b88795d8181b\n",
      "Model config DistilBertConfig {\n",
      "  \"_name_or_path\": \"mvonwyl/distilbert-base-uncased-finetuned-squad2\",\n",
      "  \"activation\": \"gelu\",\n",
      "  \"architectures\": [\n",
      "    \"DistilBertForQuestionAnswering\"\n",
      "  ],\n",
      "  \"attention_dropout\": 0.1,\n",
      "  \"dim\": 768,\n",
      "  \"dropout\": 0.1,\n",
      "  \"hidden_dim\": 3072,\n",
      "  \"initializer_range\": 0.02,\n",
      "  \"max_position_embeddings\": 512,\n",
      "  \"model_type\": \"distilbert\",\n",
      "  \"n_heads\": 12,\n",
      "  \"n_layers\": 6,\n",
      "  \"pad_token_id\": 0,\n",
      "  \"qa_dropout\": 0.1,\n",
      "  \"seq_classif_dropout\": 0.2,\n",
      "  \"sinusoidal_pos_embds\": false,\n",
      "  \"tie_weights_\": true,\n",
      "  \"torch_dtype\": \"float32\",\n",
      "  \"transformers_version\": \"4.14.1\",\n",
      "  \"vocab_size\": 30522\n",
      "}\n",
      "\n",
      "loading weights file https://huggingface.co/mvonwyl/distilbert-base-uncased-finetuned-squad2/resolve/main/pytorch_model.bin from cache at /home/ppirozelli/.cache/huggingface/transformers/b5b35581fa082df7d2ff2451f726fd2ebd8be192e2a873d4f7e53285f94db045.19e0e53a6167116b32114f34d67c198cfdaa42db408fe90a32add525213a6fc1\n",
      "Some weights of the model checkpoint at mvonwyl/distilbert-base-uncased-finetuned-squad2 were not used when initializing DistilBertForSequenceClassification: ['qa_outputs.weight', 'qa_outputs.bias']\n",
      "- This IS expected if you are initializing DistilBertForSequenceClassification from the checkpoint of a model trained on another task or with another architecture (e.g. initializing a BertForSequenceClassification model from a BertForPreTraining model).\n",
      "- This IS NOT expected if you are initializing DistilBertForSequenceClassification from the checkpoint of a model that you expect to be exactly identical (initializing a BertForSequenceClassification model from a BertForSequenceClassification model).\n",
      "Some weights of DistilBertForSequenceClassification were not initialized from the model checkpoint at mvonwyl/distilbert-base-uncased-finetuned-squad2 and are newly initialized: ['pre_classifier.bias', 'classifier.bias', 'pre_classifier.weight', 'classifier.weight']\n",
      "You should probably TRAIN this model on a down-stream task to be able to use it for predictions and inference.\n",
      "PyTorch: setting up devices\n",
      "The default value for the training argument `--report_to` will change in v5 (from all installed integrations to none). In v5, you will need to use `--report_to all` to get the same behavior as now. You should start updating your code and make this info disappear :-).\n",
      "The following columns in the training set  don't have a corresponding argument in `DistilBertForSequenceClassification.forward` and have been ignored: answer_in_text, question, text, abstract, corpus, answer.\n",
      "***** Running training *****\n",
      "  Num examples = 43812\n",
      "  Num Epochs = 8\n",
      "  Instantaneous batch size per device = 16\n",
      "  Total train batch size (w. parallel, distributed & accumulation) = 32\n",
      "  Gradient Accumulation steps = 1\n",
      "  Total optimization steps = 10960\n",
      "Automatic Weights & Biases logging enabled, to disable set os.environ[\"WANDB_DISABLED\"] = \"true\"\n",
      "/home/ppirozelli/anaconda3/lib/python3.9/site-packages/torch/nn/parallel/_functions.py:68: UserWarning: Was asked to gather along dimension 0, but all input tensors were scalars; will instead unsqueeze and return a vector.\n",
      "  warnings.warn('Was asked to gather along dimension 0, but all '\n"
     ]
    },
    {
     "data": {
      "text/html": [
       "\n",
       "    <div>\n",
       "      \n",
       "      <progress value='10960' max='10960' style='width:300px; height:20px; vertical-align: middle;'></progress>\n",
       "      [10960/10960 37:44, Epoch 8/8]\n",
       "    </div>\n",
       "    <table border=\"1\" class=\"dataframe\">\n",
       "  <thead>\n",
       "    <tr style=\"text-align: left;\">\n",
       "      <th>Step</th>\n",
       "      <th>Training Loss</th>\n",
       "    </tr>\n",
       "  </thead>\n",
       "  <tbody>\n",
       "    <tr>\n",
       "      <td>500</td>\n",
       "      <td>0.110900</td>\n",
       "    </tr>\n",
       "    <tr>\n",
       "      <td>1000</td>\n",
       "      <td>0.052000</td>\n",
       "    </tr>\n",
       "    <tr>\n",
       "      <td>1500</td>\n",
       "      <td>0.043400</td>\n",
       "    </tr>\n",
       "    <tr>\n",
       "      <td>2000</td>\n",
       "      <td>0.038900</td>\n",
       "    </tr>\n",
       "    <tr>\n",
       "      <td>2500</td>\n",
       "      <td>0.036700</td>\n",
       "    </tr>\n",
       "    <tr>\n",
       "      <td>3000</td>\n",
       "      <td>0.030400</td>\n",
       "    </tr>\n",
       "    <tr>\n",
       "      <td>3500</td>\n",
       "      <td>0.032000</td>\n",
       "    </tr>\n",
       "    <tr>\n",
       "      <td>4000</td>\n",
       "      <td>0.028900</td>\n",
       "    </tr>\n",
       "    <tr>\n",
       "      <td>4500</td>\n",
       "      <td>0.030600</td>\n",
       "    </tr>\n",
       "    <tr>\n",
       "      <td>5000</td>\n",
       "      <td>0.027900</td>\n",
       "    </tr>\n",
       "    <tr>\n",
       "      <td>5500</td>\n",
       "      <td>0.024800</td>\n",
       "    </tr>\n",
       "    <tr>\n",
       "      <td>6000</td>\n",
       "      <td>0.026100</td>\n",
       "    </tr>\n",
       "    <tr>\n",
       "      <td>6500</td>\n",
       "      <td>0.025500</td>\n",
       "    </tr>\n",
       "    <tr>\n",
       "      <td>7000</td>\n",
       "      <td>0.020500</td>\n",
       "    </tr>\n",
       "    <tr>\n",
       "      <td>7500</td>\n",
       "      <td>0.018600</td>\n",
       "    </tr>\n",
       "    <tr>\n",
       "      <td>8000</td>\n",
       "      <td>0.019000</td>\n",
       "    </tr>\n",
       "    <tr>\n",
       "      <td>8500</td>\n",
       "      <td>0.017200</td>\n",
       "    </tr>\n",
       "    <tr>\n",
       "      <td>9000</td>\n",
       "      <td>0.015700</td>\n",
       "    </tr>\n",
       "    <tr>\n",
       "      <td>9500</td>\n",
       "      <td>0.015700</td>\n",
       "    </tr>\n",
       "    <tr>\n",
       "      <td>10000</td>\n",
       "      <td>0.014900</td>\n",
       "    </tr>\n",
       "    <tr>\n",
       "      <td>10500</td>\n",
       "      <td>0.014800</td>\n",
       "    </tr>\n",
       "  </tbody>\n",
       "</table><p>"
      ],
      "text/plain": [
       "<IPython.core.display.HTML object>"
      ]
     },
     "metadata": {},
     "output_type": "display_data"
    },
    {
     "name": "stderr",
     "output_type": "stream",
     "text": [
      "\n",
      "\n",
      "Training completed. Do not forget to share your model on huggingface.co/models =)\n",
      "\n",
      "\n",
      "The following columns in the test set  don't have a corresponding argument in `DistilBertForSequenceClassification.forward` and have been ignored: answer_in_text, question, answer_en_validate, text, abstract, corpus, answer.\n",
      "***** Running Prediction *****\n",
      "  Num examples = 145\n",
      "  Batch size = 32\n"
     ]
    },
    {
     "data": {
      "text/html": [
       "\n",
       "    <div>\n",
       "      \n",
       "      <progress value='5' max='5' style='width:300px; height:20px; vertical-align: middle;'></progress>\n",
       "      [5/5 00:00]\n",
       "    </div>\n",
       "    "
      ],
      "text/plain": [
       "<IPython.core.display.HTML object>"
      ]
     },
     "metadata": {},
     "output_type": "display_data"
    },
    {
     "name": "stdout",
     "output_type": "stream",
     "text": [
      "Test: automatic_paraphrase rigid\n",
      "Accuracy: 0.903448275862069\n",
      "F1-score: 0.47463768115942034\n"
     ]
    },
    {
     "name": "stderr",
     "output_type": "stream",
     "text": [
      "loading file https://huggingface.co/mvonwyl/distilbert-base-uncased-finetuned-squad2/resolve/main/vocab.txt from cache at /home/ppirozelli/.cache/huggingface/transformers/571aebbe8ed96147d4b98134c0a95beec9029368b0c35a1190f40094ee186478.d789d64ebfe299b0e416afc4a169632f903f693095b4629a7ea271d5a0cf2c99\n",
      "loading file https://huggingface.co/mvonwyl/distilbert-base-uncased-finetuned-squad2/resolve/main/tokenizer.json from cache at /home/ppirozelli/.cache/huggingface/transformers/28675318b6e2e081432f0e2fa9539dd176e7765623809f220b03cbafaaf810ad.3d26c56b358cca40b16bcdc782f4b906e5c295e21e24fae62803895dae040f25\n",
      "loading file https://huggingface.co/mvonwyl/distilbert-base-uncased-finetuned-squad2/resolve/main/added_tokens.json from cache at None\n",
      "loading file https://huggingface.co/mvonwyl/distilbert-base-uncased-finetuned-squad2/resolve/main/special_tokens_map.json from cache at /home/ppirozelli/.cache/huggingface/transformers/8059125746dc8b7c4ab020d7078038ce3ba711f8ee2be055be536ac398300fe1.dd8bd9bfd3664b530ea4e645105f557769387b3da9f79bdb55ed556bdd80611d\n",
      "loading file https://huggingface.co/mvonwyl/distilbert-base-uncased-finetuned-squad2/resolve/main/tokenizer_config.json from cache at /home/ppirozelli/.cache/huggingface/transformers/0eefcbdecb44adc8a8a31203c6fc6081e4abee730e80b3d7c73ae8149d76268e.42154c5fd30bfa7e34941d0d8ad26f8a3936990926fbe06b2da76dd749b1c6d4\n"
     ]
    },
    {
     "data": {
      "application/vnd.jupyter.widget-view+json": {
       "model_id": "f4db07b98d894c93b5ef82abb00960c8",
       "version_major": 2,
       "version_minor": 0
      },
      "text/plain": [
       "  0%|          | 0/64 [00:00<?, ?ba/s]"
      ]
     },
     "metadata": {},
     "output_type": "display_data"
    },
    {
     "data": {
      "application/vnd.jupyter.widget-view+json": {
       "model_id": "bad71b5124a944f48c77a2198f77dd5b",
       "version_major": 2,
       "version_minor": 0
      },
      "text/plain": [
       "  0%|          | 0/1 [00:00<?, ?ba/s]"
      ]
     },
     "metadata": {},
     "output_type": "display_data"
    },
    {
     "data": {
      "application/vnd.jupyter.widget-view+json": {
       "model_id": "95f90ae1fd834b3bb56bd11ff4cc7c39",
       "version_major": 2,
       "version_minor": 0
      },
      "text/plain": [
       "  0%|          | 0/1 [00:00<?, ?ba/s]"
      ]
     },
     "metadata": {},
     "output_type": "display_data"
    },
    {
     "name": "stderr",
     "output_type": "stream",
     "text": [
      "loading configuration file https://huggingface.co/mvonwyl/distilbert-base-uncased-finetuned-squad2/resolve/main/config.json from cache at /home/ppirozelli/.cache/huggingface/transformers/cffbca5d7cd141d50b708ec6a05c79978d19c4dd3074fcd116c149cd355221f8.a540da103e8b3d40c8db787d1fe802d9215f260969fa27deaa13b88795d8181b\n",
      "Model config DistilBertConfig {\n",
      "  \"_name_or_path\": \"mvonwyl/distilbert-base-uncased-finetuned-squad2\",\n",
      "  \"activation\": \"gelu\",\n",
      "  \"architectures\": [\n",
      "    \"DistilBertForQuestionAnswering\"\n",
      "  ],\n",
      "  \"attention_dropout\": 0.1,\n",
      "  \"dim\": 768,\n",
      "  \"dropout\": 0.1,\n",
      "  \"hidden_dim\": 3072,\n",
      "  \"initializer_range\": 0.02,\n",
      "  \"max_position_embeddings\": 512,\n",
      "  \"model_type\": \"distilbert\",\n",
      "  \"n_heads\": 12,\n",
      "  \"n_layers\": 6,\n",
      "  \"pad_token_id\": 0,\n",
      "  \"qa_dropout\": 0.1,\n",
      "  \"seq_classif_dropout\": 0.2,\n",
      "  \"sinusoidal_pos_embds\": false,\n",
      "  \"tie_weights_\": true,\n",
      "  \"torch_dtype\": \"float32\",\n",
      "  \"transformers_version\": \"4.14.1\",\n",
      "  \"vocab_size\": 30522\n",
      "}\n",
      "\n",
      "loading weights file https://huggingface.co/mvonwyl/distilbert-base-uncased-finetuned-squad2/resolve/main/pytorch_model.bin from cache at /home/ppirozelli/.cache/huggingface/transformers/b5b35581fa082df7d2ff2451f726fd2ebd8be192e2a873d4f7e53285f94db045.19e0e53a6167116b32114f34d67c198cfdaa42db408fe90a32add525213a6fc1\n",
      "Some weights of the model checkpoint at mvonwyl/distilbert-base-uncased-finetuned-squad2 were not used when initializing DistilBertForSequenceClassification: ['qa_outputs.weight', 'qa_outputs.bias']\n",
      "- This IS expected if you are initializing DistilBertForSequenceClassification from the checkpoint of a model trained on another task or with another architecture (e.g. initializing a BertForSequenceClassification model from a BertForPreTraining model).\n",
      "- This IS NOT expected if you are initializing DistilBertForSequenceClassification from the checkpoint of a model that you expect to be exactly identical (initializing a BertForSequenceClassification model from a BertForSequenceClassification model).\n",
      "Some weights of DistilBertForSequenceClassification were not initialized from the model checkpoint at mvonwyl/distilbert-base-uncased-finetuned-squad2 and are newly initialized: ['pre_classifier.bias', 'classifier.bias', 'pre_classifier.weight', 'classifier.weight']\n",
      "You should probably TRAIN this model on a down-stream task to be able to use it for predictions and inference.\n",
      "PyTorch: setting up devices\n",
      "The default value for the training argument `--report_to` will change in v5 (from all installed integrations to none). In v5, you will need to use `--report_to all` to get the same behavior as now. You should start updating your code and make this info disappear :-).\n",
      "The following columns in the training set  don't have a corresponding argument in `DistilBertForSequenceClassification.forward` and have been ignored: answer_in_text, question, text, abstract, corpus, answer.\n",
      "***** Running training *****\n",
      "  Num examples = 63180\n",
      "  Num Epochs = 8\n",
      "  Instantaneous batch size per device = 16\n",
      "  Total train batch size (w. parallel, distributed & accumulation) = 32\n",
      "  Gradient Accumulation steps = 1\n",
      "  Total optimization steps = 15800\n",
      "Automatic Weights & Biases logging enabled, to disable set os.environ[\"WANDB_DISABLED\"] = \"true\"\n",
      "/home/ppirozelli/anaconda3/lib/python3.9/site-packages/torch/nn/parallel/_functions.py:68: UserWarning: Was asked to gather along dimension 0, but all input tensors were scalars; will instead unsqueeze and return a vector.\n",
      "  warnings.warn('Was asked to gather along dimension 0, but all '\n"
     ]
    },
    {
     "data": {
      "text/html": [
       "\n",
       "    <div>\n",
       "      \n",
       "      <progress value='15800' max='15800' style='width:300px; height:20px; vertical-align: middle;'></progress>\n",
       "      [15800/15800 54:05, Epoch 8/8]\n",
       "    </div>\n",
       "    <table border=\"1\" class=\"dataframe\">\n",
       "  <thead>\n",
       "    <tr style=\"text-align: left;\">\n",
       "      <th>Step</th>\n",
       "      <th>Training Loss</th>\n",
       "    </tr>\n",
       "  </thead>\n",
       "  <tbody>\n",
       "    <tr>\n",
       "      <td>500</td>\n",
       "      <td>0.384500</td>\n",
       "    </tr>\n",
       "    <tr>\n",
       "      <td>1000</td>\n",
       "      <td>0.290200</td>\n",
       "    </tr>\n",
       "    <tr>\n",
       "      <td>1500</td>\n",
       "      <td>0.249600</td>\n",
       "    </tr>\n",
       "    <tr>\n",
       "      <td>2000</td>\n",
       "      <td>0.225000</td>\n",
       "    </tr>\n",
       "    <tr>\n",
       "      <td>2500</td>\n",
       "      <td>0.208900</td>\n",
       "    </tr>\n",
       "    <tr>\n",
       "      <td>3000</td>\n",
       "      <td>0.188900</td>\n",
       "    </tr>\n",
       "    <tr>\n",
       "      <td>3500</td>\n",
       "      <td>0.166100</td>\n",
       "    </tr>\n",
       "    <tr>\n",
       "      <td>4000</td>\n",
       "      <td>0.129200</td>\n",
       "    </tr>\n",
       "    <tr>\n",
       "      <td>4500</td>\n",
       "      <td>0.104000</td>\n",
       "    </tr>\n",
       "    <tr>\n",
       "      <td>5000</td>\n",
       "      <td>0.084600</td>\n",
       "    </tr>\n",
       "    <tr>\n",
       "      <td>5500</td>\n",
       "      <td>0.078800</td>\n",
       "    </tr>\n",
       "    <tr>\n",
       "      <td>6000</td>\n",
       "      <td>0.073500</td>\n",
       "    </tr>\n",
       "    <tr>\n",
       "      <td>6500</td>\n",
       "      <td>0.066000</td>\n",
       "    </tr>\n",
       "    <tr>\n",
       "      <td>7000</td>\n",
       "      <td>0.062600</td>\n",
       "    </tr>\n",
       "    <tr>\n",
       "      <td>7500</td>\n",
       "      <td>0.062100</td>\n",
       "    </tr>\n",
       "    <tr>\n",
       "      <td>8000</td>\n",
       "      <td>0.056400</td>\n",
       "    </tr>\n",
       "    <tr>\n",
       "      <td>8500</td>\n",
       "      <td>0.053600</td>\n",
       "    </tr>\n",
       "    <tr>\n",
       "      <td>9000</td>\n",
       "      <td>0.054400</td>\n",
       "    </tr>\n",
       "    <tr>\n",
       "      <td>9500</td>\n",
       "      <td>0.053100</td>\n",
       "    </tr>\n",
       "    <tr>\n",
       "      <td>10000</td>\n",
       "      <td>0.052800</td>\n",
       "    </tr>\n",
       "    <tr>\n",
       "      <td>10500</td>\n",
       "      <td>0.046200</td>\n",
       "    </tr>\n",
       "    <tr>\n",
       "      <td>11000</td>\n",
       "      <td>0.048000</td>\n",
       "    </tr>\n",
       "    <tr>\n",
       "      <td>11500</td>\n",
       "      <td>0.049200</td>\n",
       "    </tr>\n",
       "    <tr>\n",
       "      <td>12000</td>\n",
       "      <td>0.049900</td>\n",
       "    </tr>\n",
       "    <tr>\n",
       "      <td>12500</td>\n",
       "      <td>0.047100</td>\n",
       "    </tr>\n",
       "    <tr>\n",
       "      <td>13000</td>\n",
       "      <td>0.045000</td>\n",
       "    </tr>\n",
       "    <tr>\n",
       "      <td>13500</td>\n",
       "      <td>0.044000</td>\n",
       "    </tr>\n",
       "    <tr>\n",
       "      <td>14000</td>\n",
       "      <td>0.043600</td>\n",
       "    </tr>\n",
       "    <tr>\n",
       "      <td>14500</td>\n",
       "      <td>0.042500</td>\n",
       "    </tr>\n",
       "    <tr>\n",
       "      <td>15000</td>\n",
       "      <td>0.041600</td>\n",
       "    </tr>\n",
       "    <tr>\n",
       "      <td>15500</td>\n",
       "      <td>0.041900</td>\n",
       "    </tr>\n",
       "  </tbody>\n",
       "</table><p>"
      ],
      "text/plain": [
       "<IPython.core.display.HTML object>"
      ]
     },
     "metadata": {},
     "output_type": "display_data"
    },
    {
     "name": "stderr",
     "output_type": "stream",
     "text": [
      "\n",
      "\n",
      "Training completed. Do not forget to share your model on huggingface.co/models =)\n",
      "\n",
      "\n",
      "The following columns in the test set  don't have a corresponding argument in `DistilBertForSequenceClassification.forward` and have been ignored: answer_in_text, question, answer_en_validate, text, abstract, corpus, answer.\n",
      "***** Running Prediction *****\n",
      "  Num examples = 216\n",
      "  Batch size = 32\n"
     ]
    },
    {
     "data": {
      "text/html": [
       "\n",
       "    <div>\n",
       "      \n",
       "      <progress value='7' max='7' style='width:300px; height:20px; vertical-align: middle;'></progress>\n",
       "      [7/7 00:00]\n",
       "    </div>\n",
       "    "
      ],
      "text/plain": [
       "<IPython.core.display.HTML object>"
      ]
     },
     "metadata": {},
     "output_type": "display_data"
    },
    {
     "name": "stdout",
     "output_type": "stream",
     "text": [
      "Test: automatic_paraphrase discrete\n",
      "Accuracy: 0.7175925925925926\n",
      "F1-score: 0.4859350005852288\n"
     ]
    }
   ],
   "source": [
    "for questions in question_type:\n",
    "    for classification_type in dataset_types:\n",
    "        validation, test = pd.read_csv('validacao.csv'), pd.read_csv('teste.csv')\n",
    "\n",
    "        if questions == 'standard':\n",
    "            train = pd.read_csv('treinamento.csv')\n",
    "\n",
    "            if language == 'english':\n",
    "                train = train[['abstract', 'question_en_origin', 'answer_en_origin', \n",
    "                                            'question_meaningful', 'corpus', 'answer_in_text', 'answer_en_validate']]\n",
    "\n",
    "                train.rename(columns={'question_en_origin': 'question', 'answer_en_origin': 'answer',\n",
    "                                            'question_meaningful': 'label'}, inplace=True)\n",
    "\n",
    "            if language == 'portuguese':\n",
    "                train = train[['abstract', 'question_pt_origin', 'answer_pt_origin', \n",
    "                                            'question_meaningful', 'corpus', 'answer_in_text', 'answer_pt_validate']]\n",
    "\n",
    "                train.rename(columns={'question_pt_origin': 'question', 'answer_pt_origin': 'answer',\n",
    "                                            'question_meaningful': 'label'}, inplace=True)\n",
    "\n",
    "        if questions == 'human_paraphrase':\n",
    "            train = pd.read_csv('treinamento.csv')\n",
    "\n",
    "            if language == 'english':\n",
    "\n",
    "                # acrescentando paráfrases humanas\n",
    "                trein_1 = train[['abstract', 'question_en_origin', 'answer_en_origin', \n",
    "                                        'question_meaningful', 'corpus' , 'answer_in_text']]\n",
    "                trein_2 = train[['abstract', 'question_en_origin', 'answer_en_validate', \n",
    "                                        'question_meaningful', 'corpus', 'answer_in_text']]\n",
    "                trein_3 = train[['abstract', 'question_en_paraphase', 'answer_en_origin', \n",
    "                                        'question_meaningful', 'corpus', 'answer_in_text']]\n",
    "                trein_4 = train[['abstract', 'question_en_paraphase', 'answer_en_validate', \n",
    "                                        'question_meaningful', 'corpus', 'answer_in_text']]\n",
    "\n",
    "                trein_1.columns = ['abstract', 'question', 'answer', 'label', 'corpus', 'answer_in_text']\n",
    "                trein_2.columns = ['abstract', 'question', 'answer', 'label', 'corpus', 'answer_in_text']\n",
    "                trein_3.columns = ['abstract', 'question', 'answer', 'label', 'corpus', 'answer_in_text']\n",
    "                trein_4.columns = ['abstract', 'question', 'answer', 'label', 'corpus', 'answer_in_text']\n",
    "\n",
    "                frames = [trein_1, trein_2, trein_3, trein_4]\n",
    "\n",
    "                train = pd.concat(frames)\n",
    "\n",
    "            if language == 'portuguese':\n",
    "\n",
    "                # acrescentando paráfrases humanas\n",
    "                trein_1 = train[['abstract', 'question_pt_origin', 'answer_pt_origin', \n",
    "                                        'question_meaningful', 'corpus', 'answer_in_text']]\n",
    "                trein_2 = train[['abstract', 'question_pt_origin', 'answer_pt_validate', \n",
    "                                        'question_meaningful', 'corpus', 'answer_in_text']]\n",
    "                trein_3 = train[['abstract', 'question_pt_paraphase', 'answer_pt_origin', \n",
    "                                        'question_meaningful', 'corpus', 'answer_in_text']]\n",
    "                trein_4 = train[['abstract', 'question_pt_paraphase', 'answer_pt_validate', \n",
    "                                        'question_meaningful', 'corpus', 'answer_in_text']]\n",
    "\n",
    "                trein_1.columns = ['abstract', 'question', 'answer', 'label', 'corpus', 'answer_in_text']\n",
    "                trein_2.columns = ['abstract', 'question', 'answer', 'label', 'corpus', 'answer_in_text']\n",
    "                trein_3.columns = ['abstract', 'question', 'answer', 'label', 'corpus', 'answer_in_text']\n",
    "                trein_4.columns = ['abstract', 'question', 'answer', 'label', 'corpus', 'answer_in_text']\n",
    "\n",
    "                frames = [trein_1, trein_2, trein_3, trein_4]\n",
    "\n",
    "                train = pd.concat(frames)\n",
    "\n",
    "        if questions == 'automatic_paraphrase':\n",
    "\n",
    "            if language == 'english':\n",
    "                df = pd.read_csv('parafrases_en_pegasus.csv')\n",
    "\n",
    "                lst = []\n",
    "\n",
    "                for i in range(1,7):\n",
    "                    qu = 'question_' + str(i)\n",
    "                    for j in range(1,7):\n",
    "                        ans = 'answer_' + str(j)\n",
    "                        data = df[['abstract', 'labels', qu, ans, 'corpus', 'answer_in_text']]\n",
    "                        data = data.rename(columns={qu: 'question', ans: 'answer'})\n",
    "                        lst.append(data)\n",
    "\n",
    "                train = pd.concat(lst)\n",
    "\n",
    "                train.rename(columns={'labels': 'label'}, inplace=True)\n",
    "                validation.rename(columns={'labels': 'label'}, inplace=True)\n",
    "                test.rename(columns={'labels': 'label'}, inplace=True)\n",
    "                \n",
    "            if language == 'portuguese':\n",
    "                df = pd.read_csv('parafrases_pt.csv')\n",
    "\n",
    "                lst = []\n",
    "\n",
    "                for i in range(1,7):\n",
    "                    qu = 'question_' + str(i)\n",
    "                    for j in range(1,7):\n",
    "                        ans = 'answer_' + str(j)\n",
    "                        data = df[['abstract', 'labels', qu, ans, 'corpus', 'answer_in_text']]\n",
    "                        data = data.rename(columns={qu: 'question', ans: 'answer'})\n",
    "                        lst.append(data)\n",
    "\n",
    "                train = pd.concat(lst)\n",
    "                \n",
    "                train.rename(columns={'labels': 'label'}, inplace=True)\n",
    "                validation.rename(columns={'labels': 'label'}, inplace=True)\n",
    "                test.rename(columns={'labels': 'label'}, inplace=True)\n",
    "\n",
    "\n",
    "        if language == 'english':\n",
    "            validation = validation[['corpus', 'abstract', 'question_en_origin', 'answer_en_origin', \n",
    "                                   'question_meaningful', 'answer_in_text', 'answer_en_validate']]\n",
    "            test = test[['corpus', 'abstract', 'question_en_origin', 'answer_en_origin', \n",
    "                            'question_meaningful', 'answer_in_text', 'answer_en_validate']]\n",
    "            validation.rename(columns={'question_en_origin': 'question', 'answer_en_origin': 'answer',\n",
    "                                          'question_meaningful': 'label'}, inplace=True)\n",
    "            test.rename(columns={'question_en_origin': 'question', 'answer_en_origin': 'answer',\n",
    "                                      'question_meaningful': 'label'}, inplace=True)\n",
    "\n",
    "        if language == 'portuguese':\n",
    "            validation = validation[['corpus', 'abstract', 'question_pt_origin', 'answer_pt_origin', \n",
    "                                   'question_meaningful', 'answer_in_text', 'answer_pt_validate']]\n",
    "            test = test[['corpus', 'abstract', 'question_pt_origin', 'answer_pt_origin', \n",
    "                            'question_meaningful', 'answer_in_text', 'answer_pt_validate']]\n",
    "            validation.rename(columns={'question_pt_origin': 'question', 'answer_pt_origin': 'answer',\n",
    "                                          'question_meaningful': 'label'}, inplace=True)\n",
    "            test.rename(columns={'question_pt_origin': 'question', 'answer_pt_origin': 'answer',\n",
    "                                      'question_meaningful': 'label'}, inplace=True)\n",
    "        \n",
    "\n",
    "        ## Cleaning the data\n",
    "\n",
    "        # tirar as tags\n",
    "        train = train.replace('<[^<]+?>', ' ', regex=True)\n",
    "        validation = validation.replace('<[^<]+?>', ' ', regex=True)\n",
    "        test = test.replace('<[^<]+?>', ' ', regex=True)\n",
    "\n",
    "        # tirar quebra de linha, parágrafo\n",
    "        train.replace(to_replace=[r\"\\\\t|\\\\n|\\\\r\", \"\\t|\\n|\\r\"], value=[\"\",\"\"], regex=True, inplace=True)\n",
    "        validation.replace(to_replace=[r\"\\\\t|\\\\n|\\\\r\", \"\\t|\\n|\\r\"], value=[\"\",\"\"], regex=True, inplace=True)\n",
    "        test.replace(to_replace=[r\"\\\\t|\\\\n|\\\\r\", \"\\t|\\n|\\r\"], value=[\"\",\"\"], regex=True, inplace=True)\n",
    "\n",
    "        # remove front and ending blank spaces\n",
    "        train = train.replace({\"^\\s*|\\s*$\":\"\"}, regex=True)\n",
    "        validation = validation.replace({\"^\\s*|\\s*$\":\"\"}, regex=True)\n",
    "        test = test.replace({\"^\\s*|\\s*$\":\"\"}, regex=True)\n",
    "\n",
    "        # remove multiple whitespace\n",
    "        train = train.replace('\\s+', ' ', regex=True)\n",
    "        validation = validation.replace('\\s+', ' ', regex=True)\n",
    "        test = test.replace('\\s+', ' ', regex=True)\n",
    "\n",
    "        #dropna\n",
    "        train = train.dropna()\n",
    "        validation = validation.dropna()\n",
    "        test = test.dropna()\n",
    "\n",
    "        ## Context\n",
    "        train['text'] = train['abstract'] + \" </s> \" + train['question']\n",
    "        validation['text'] = validation['abstract'] + \" </s> \" + validation['question']\n",
    "        test['text'] = test['abstract'] + \" </s> \" + test['question']\n",
    "\n",
    "        test['label'].value_counts()\n",
    "\n",
    "        # create classfication labels\n",
    "\n",
    "        if classification_type == 'rigid':\n",
    "            train = train.loc[(train['label'] == 1) | (train['label'] == 5)]\n",
    "            validation = validation.loc[(validation['label'] == 1) | (validation['label'] == 5)]\n",
    "            test = test.loc[(test['label'] == 1) | (test['label'] == 5)]\n",
    "\n",
    "        if classification_type == 'divided':\n",
    "            train = train.loc[(train['label'] < threshold) | (train['label'] > threshold)]\n",
    "            validation = validation.loc[(validation['label'] < threshold) | (validation['label'] > threshold)]\n",
    "            test = test.loc[(test['label'] < threshold) | (test['label'] > threshold)]\n",
    "\n",
    "        train['label'] = train['label'].apply(lambda x: 1 if x > threshold else 0)\n",
    "        validation['label'] = validation['label'].apply(lambda x: 1 if x > threshold else 0)\n",
    "        test['label'] = test['label'].apply(lambda x: 1 if x > threshold else 0)\n",
    "\n",
    "        from datasets import Dataset\n",
    "\n",
    "        train_dataset = Dataset.from_dict(train)\n",
    "        validation_dataset = Dataset.from_dict(validation)\n",
    "        test_dataset = Dataset.from_dict(test)\n",
    "\n",
    "        my_dataset_dict = datasets.DatasetDict({\"train\":train_dataset, \n",
    "                                                'validation': validation_dataset, \"test\":test_dataset})\n",
    "\n",
    "        my_dataset_dict\n",
    "\n",
    "        ## Classification\n",
    "\n",
    "        # options: distilbert, roberta, albert\n",
    "\n",
    "        if model_type == 'bertimbau':\n",
    "            model_name = 'neuralmind/bert-base-portuguese-cased'\n",
    "        if model_type == 'distilbert':\n",
    "            model_name = 'mvonwyl/distilbert-base-uncased-finetuned-squad2'\n",
    "        if model_type == 'roberta':\n",
    "            model_name = 'deepset/roberta-base-squad2'\n",
    "        if model_type == 'albert':\n",
    "            model_name = 'squirro/albert-base-v2-squad_v2'\n",
    "\n",
    "        ### Tokenizer\n",
    "\n",
    "        from transformers import AutoTokenizer\n",
    "\n",
    "        tokenizer = AutoTokenizer.from_pretrained(model_name)\n",
    "\n",
    "        def preprocess_function(examples):\n",
    "            return tokenizer(examples[\"text\"], truncation=True, padding=True, max_length=512)\n",
    "\n",
    "        tokenized_text = my_dataset_dict.map(preprocess_function, batched=True)\n",
    "\n",
    "        from transformers import DataCollatorWithPadding\n",
    "\n",
    "        data_collator = DataCollatorWithPadding(tokenizer=tokenizer)\n",
    "\n",
    "        ### Train\n",
    "\n",
    "        from transformers import AutoModelForSequenceClassification, TrainingArguments, Trainer\n",
    "\n",
    "        model = AutoModelForSequenceClassification.from_pretrained(model_name, num_labels=2)\n",
    "\n",
    "        model.num_parameters()\n",
    "\n",
    "        training_args = TrainingArguments(\n",
    "            output_dir=\"./results\",\n",
    "            learning_rate=2e-5,\n",
    "            per_device_train_batch_size=16,\n",
    "            per_device_eval_batch_size=16,\n",
    "            num_train_epochs=8,\n",
    "            weight_decay=0.01,\n",
    "            save_total_limit = 1,\n",
    "            overwrite_output_dir = 'True',\n",
    "            load_best_model_at_end=True,\n",
    "            save_strategy = \"no\",\n",
    "            seed = 42\n",
    "        )\n",
    "\n",
    "        trainer = Trainer(\n",
    "            model=model,\n",
    "            args=training_args,\n",
    "            train_dataset=tokenized_text[\"train\"],\n",
    "            eval_dataset=tokenized_text[\"validation\"],\n",
    "            tokenizer=tokenizer,\n",
    "            data_collator=data_collator,\n",
    "        )\n",
    "\n",
    "        trainer.train()\n",
    "\n",
    "        ## Prediction\n",
    "\n",
    "        results = trainer.predict(tokenized_text['test']).predictions\n",
    "\n",
    "        import numpy as np\n",
    "\n",
    "        test['predictions'] = np.argmax(results, axis=-1)\n",
    "\n",
    "        test['label'].value_counts()\n",
    "\n",
    "        ## Metrics        \n",
    "        from sklearn.metrics import f1_score, accuracy_score\n",
    "\n",
    "        print('Test:', questions, classification_type)\n",
    "        print('Accuracy:', accuracy_score(test['label'], test['predictions']))\n",
    "        print('F1-score:', f1_score(test['label'], test['predictions'], average='macro'))"
   ]
  }
 ],
 "metadata": {
  "kernelspec": {
   "display_name": "Python 3 (ipykernel)",
   "language": "python",
   "name": "python3"
  },
  "language_info": {
   "codemirror_mode": {
    "name": "ipython",
    "version": 3
   },
   "file_extension": ".py",
   "mimetype": "text/x-python",
   "name": "python",
   "nbconvert_exporter": "python",
   "pygments_lexer": "ipython3",
   "version": "3.9.7"
  }
 },
 "nbformat": 4,
 "nbformat_minor": 5
}
