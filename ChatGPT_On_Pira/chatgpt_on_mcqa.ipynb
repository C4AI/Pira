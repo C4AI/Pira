{
 "cells": [
  {
   "cell_type": "code",
   "execution_count": 3,
   "id": "82393af3",
   "metadata": {},
   "outputs": [],
   "source": [
    "import openai\n",
    "import pandas as pd\n",
    "from tqdm import tqdm\n",
    "\n",
    "\n",
    "# PARAMETERS\n",
    "openai.api_key = 'XXXXXXXXXXXXXXXXXXXXXXXXXXXXXXXXXXXXXXXXXXXXXXXXXXXXXX'\n",
    "\n",
    "MODELS = ['gpt-3.5-turbo', 'gpt-4']\n",
    "\n",
    "DATASET = 'test_sets/test_mcqa.csv'\n",
    "\n",
    "\n",
    "def chatgpt_answer(prompt, model='gpt-3.5-turbo'):\n",
    "    # Available models: 'gpt-3.5-turbo' and 'gpt-4'\n",
    "\n",
    "    response = openai.ChatCompletion.create(\n",
    "        model=model,\n",
    "        temperature=0.0,\n",
    "        max_tokens=100,\n",
    "        top_p=1,\n",
    "        frequency_penalty=0,\n",
    "        presence_penalty=0,\n",
    "        messages=[\n",
    "            {'role': 'system', \n",
    "             'content': prompt}\n",
    "        ]\n",
    "    )\n",
    "    \n",
    "    return response.choices[0].message.content"
   ]
  },
  {
   "cell_type": "code",
   "execution_count": 11,
   "id": "bb0c3ef0",
   "metadata": {},
   "outputs": [
    {
     "name": "stdout",
     "output_type": "stream",
     "text": [
      "227\n"
     ]
    },
    {
     "data": {
      "text/html": [
       "<div>\n",
       "<style scoped>\n",
       "    .dataframe tbody tr th:only-of-type {\n",
       "        vertical-align: middle;\n",
       "    }\n",
       "\n",
       "    .dataframe tbody tr th {\n",
       "        vertical-align: top;\n",
       "    }\n",
       "\n",
       "    .dataframe thead th {\n",
       "        text-align: right;\n",
       "    }\n",
       "</style>\n",
       "<table border=\"1\" class=\"dataframe\">\n",
       "  <thead>\n",
       "    <tr style=\"text-align: right;\">\n",
       "      <th></th>\n",
       "      <th>id</th>\n",
       "      <th>question</th>\n",
       "      <th>prompt</th>\n",
       "      <th>correct_choice</th>\n",
       "      <th>gpt_selected_choice</th>\n",
       "      <th>is_right</th>\n",
       "    </tr>\n",
       "  </thead>\n",
       "  <tbody>\n",
       "    <tr>\n",
       "      <th>0</th>\n",
       "      <td>A1003</td>\n",
       "      <td>What is SAASS?\\r\\n</td>\n",
       "      <td>Answer the following question with the correct...</td>\n",
       "      <td>C</td>\n",
       "      <td>NaN</td>\n",
       "      <td>NaN</td>\n",
       "    </tr>\n",
       "    <tr>\n",
       "      <th>1</th>\n",
       "      <td>A1011</td>\n",
       "      <td>What formed the Rio Grande Rise?\\r\\n</td>\n",
       "      <td>Answer the following question with the correct...</td>\n",
       "      <td>C</td>\n",
       "      <td>NaN</td>\n",
       "      <td>NaN</td>\n",
       "    </tr>\n",
       "    <tr>\n",
       "      <th>2</th>\n",
       "      <td>A1044</td>\n",
       "      <td>Where has Baker installed successful smart hyd...</td>\n",
       "      <td>Answer the following question with the correct...</td>\n",
       "      <td>A</td>\n",
       "      <td>NaN</td>\n",
       "      <td>NaN</td>\n",
       "    </tr>\n",
       "    <tr>\n",
       "      <th>3</th>\n",
       "      <td>A1083</td>\n",
       "      <td>One particular block called more attention tha...</td>\n",
       "      <td>Answer the following question with the correct...</td>\n",
       "      <td>B</td>\n",
       "      <td>NaN</td>\n",
       "      <td>NaN</td>\n",
       "    </tr>\n",
       "    <tr>\n",
       "      <th>4</th>\n",
       "      <td>A1090</td>\n",
       "      <td>The article alludes to the fact that Brazil is...</td>\n",
       "      <td>Answer the following question with the correct...</td>\n",
       "      <td>A</td>\n",
       "      <td>NaN</td>\n",
       "      <td>NaN</td>\n",
       "    </tr>\n",
       "  </tbody>\n",
       "</table>\n",
       "</div>"
      ],
      "text/plain": [
       "      id                                           question  \\\n",
       "0  A1003                                What is SAASS?\\r\\n    \n",
       "1  A1011              What formed the Rio Grande Rise?\\r\\n    \n",
       "2  A1044  Where has Baker installed successful smart hyd...   \n",
       "3  A1083  One particular block called more attention tha...   \n",
       "4  A1090  The article alludes to the fact that Brazil is...   \n",
       "\n",
       "                                              prompt correct_choice  \\\n",
       "0  Answer the following question with the correct...              C   \n",
       "1  Answer the following question with the correct...              C   \n",
       "2  Answer the following question with the correct...              A   \n",
       "3  Answer the following question with the correct...              B   \n",
       "4  Answer the following question with the correct...              A   \n",
       "\n",
       "   gpt_selected_choice  is_right  \n",
       "0                  NaN       NaN  \n",
       "1                  NaN       NaN  \n",
       "2                  NaN       NaN  \n",
       "3                  NaN       NaN  \n",
       "4                  NaN       NaN  "
      ]
     },
     "execution_count": 11,
     "metadata": {},
     "output_type": "execute_result"
    }
   ],
   "source": [
    "df = pd.read_csv(DATASET, encoding='ISO-8859-1')\n",
    "\n",
    "print(len(df))\n",
    "df.head()"
   ]
  },
  {
   "cell_type": "code",
   "execution_count": 6,
   "id": "8713de69",
   "metadata": {},
   "outputs": [
    {
     "name": "stdout",
     "output_type": "stream",
     "text": [
      "\n",
      "\n",
      ">>> MODEL: gpt-3.5-turbo\n"
     ]
    },
    {
     "name": "stderr",
     "output_type": "stream",
     "text": [
      "2it [00:01,  1.32it/s]\n"
     ]
    },
    {
     "name": "stdout",
     "output_type": "stream",
     "text": [
      "\n",
      "\n",
      ">>> MODEL: gpt-4\n"
     ]
    },
    {
     "name": "stderr",
     "output_type": "stream",
     "text": [
      "2it [00:02,  1.34s/it]\n"
     ]
    }
   ],
   "source": [
    "for model in MODELS:\n",
    "    print(f'\\n\\n>>> MODEL: {model}')\n",
    "\n",
    "    gpt = []\n",
    "    is_right = []\n",
    "    for _, row in tqdm(df.iterrows()):\n",
    "        ans = chatgpt_answer(row['prompt'], model)\n",
    "        \n",
    "        gpt.append(ans)\n",
    "        is_right.append(1 if ans[0] == row['correct_choice'] else 0)\n",
    "\n",
    "    df['gpt_selected_choice'] = gpt\n",
    "    df['is_right'] = is_right\n",
    "\n",
    "    df.to_csv(f'results/experiments_chatgpt_mcqa/{model}.csv', index=False)"
   ]
  },
  {
   "cell_type": "code",
   "execution_count": 64,
   "id": "2320bf8a",
   "metadata": {},
   "outputs": [
    {
     "data": {
      "text/html": [
       "<div>\n",
       "<style scoped>\n",
       "    .dataframe tbody tr th:only-of-type {\n",
       "        vertical-align: middle;\n",
       "    }\n",
       "\n",
       "    .dataframe tbody tr th {\n",
       "        vertical-align: top;\n",
       "    }\n",
       "\n",
       "    .dataframe thead th {\n",
       "        text-align: right;\n",
       "    }\n",
       "</style>\n",
       "<table border=\"1\" class=\"dataframe\">\n",
       "  <thead>\n",
       "    <tr style=\"text-align: right;\">\n",
       "      <th></th>\n",
       "      <th>id</th>\n",
       "      <th>question</th>\n",
       "      <th>prompt</th>\n",
       "      <th>correct_choice</th>\n",
       "      <th>gpt_selected_choice</th>\n",
       "      <th>is_right</th>\n",
       "    </tr>\n",
       "  </thead>\n",
       "  <tbody>\n",
       "    <tr>\n",
       "      <th>0</th>\n",
       "      <td>A1003</td>\n",
       "      <td>What is SAASS?\\n</td>\n",
       "      <td>Answer the following question with the correct...</td>\n",
       "      <td>C</td>\n",
       "      <td>C</td>\n",
       "      <td>1</td>\n",
       "    </tr>\n",
       "    <tr>\n",
       "      <th>1</th>\n",
       "      <td>A1011</td>\n",
       "      <td>What formed the Rio Grande Rise?\\n</td>\n",
       "      <td>Answer the following question with the correct...</td>\n",
       "      <td>C</td>\n",
       "      <td>C</td>\n",
       "      <td>1</td>\n",
       "    </tr>\n",
       "    <tr>\n",
       "      <th>2</th>\n",
       "      <td>A1044</td>\n",
       "      <td>Where has Baker installed successful smart hyd...</td>\n",
       "      <td>Answer the following question with the correct...</td>\n",
       "      <td>A</td>\n",
       "      <td>A</td>\n",
       "      <td>1</td>\n",
       "    </tr>\n",
       "    <tr>\n",
       "      <th>3</th>\n",
       "      <td>A1083</td>\n",
       "      <td>One particular block called more attention tha...</td>\n",
       "      <td>Answer the following question with the correct...</td>\n",
       "      <td>B</td>\n",
       "      <td>B</td>\n",
       "      <td>1</td>\n",
       "    </tr>\n",
       "    <tr>\n",
       "      <th>4</th>\n",
       "      <td>A1090</td>\n",
       "      <td>The article alludes to the fact that Brazil is...</td>\n",
       "      <td>Answer the following question with the correct...</td>\n",
       "      <td>A</td>\n",
       "      <td>A: The fact that big firms of E&amp;P participated...</td>\n",
       "      <td>1</td>\n",
       "    </tr>\n",
       "  </tbody>\n",
       "</table>\n",
       "</div>"
      ],
      "text/plain": [
       "      id                                           question  \\\n",
       "0  A1003                                  What is SAASS?\\n    \n",
       "1  A1011                What formed the Rio Grande Rise?\\n    \n",
       "2  A1044  Where has Baker installed successful smart hyd...   \n",
       "3  A1083  One particular block called more attention tha...   \n",
       "4  A1090  The article alludes to the fact that Brazil is...   \n",
       "\n",
       "                                              prompt correct_choice  \\\n",
       "0  Answer the following question with the correct...              C   \n",
       "1  Answer the following question with the correct...              C   \n",
       "2  Answer the following question with the correct...              A   \n",
       "3  Answer the following question with the correct...              B   \n",
       "4  Answer the following question with the correct...              A   \n",
       "\n",
       "                                 gpt_selected_choice  is_right  \n",
       "0                                                  C         1  \n",
       "1                                                  C         1  \n",
       "2                                                  A         1  \n",
       "3                                                  B         1  \n",
       "4  A: The fact that big firms of E&P participated...         1  "
      ]
     },
     "execution_count": 64,
     "metadata": {},
     "output_type": "execute_result"
    }
   ],
   "source": [
    "df = pd.read_csv(\"results/experiments_chatgpt_mcqa/gpt-3.5-turbo.csv\")\n",
    "df.head()"
   ]
  },
  {
   "cell_type": "code",
   "execution_count": 65,
   "id": "f174a846",
   "metadata": {},
   "outputs": [
    {
     "data": {
      "text/plain": [
       "count    227.000000\n",
       "mean       0.841410\n",
       "std        0.366101\n",
       "min        0.000000\n",
       "25%        1.000000\n",
       "50%        1.000000\n",
       "75%        1.000000\n",
       "max        1.000000\n",
       "Name: is_right, dtype: float64"
      ]
     },
     "execution_count": 65,
     "metadata": {},
     "output_type": "execute_result"
    }
   ],
   "source": [
    "df['is_right'].describe()"
   ]
  },
  {
   "cell_type": "code",
   "execution_count": 66,
   "id": "5101dc97",
   "metadata": {},
   "outputs": [
    {
     "data": {
      "text/html": [
       "<div>\n",
       "<style scoped>\n",
       "    .dataframe tbody tr th:only-of-type {\n",
       "        vertical-align: middle;\n",
       "    }\n",
       "\n",
       "    .dataframe tbody tr th {\n",
       "        vertical-align: top;\n",
       "    }\n",
       "\n",
       "    .dataframe thead th {\n",
       "        text-align: right;\n",
       "    }\n",
       "</style>\n",
       "<table border=\"1\" class=\"dataframe\">\n",
       "  <thead>\n",
       "    <tr style=\"text-align: right;\">\n",
       "      <th></th>\n",
       "      <th>id</th>\n",
       "      <th>question</th>\n",
       "      <th>prompt</th>\n",
       "      <th>correct_choice</th>\n",
       "      <th>gpt_selected_choice</th>\n",
       "      <th>is_right</th>\n",
       "    </tr>\n",
       "  </thead>\n",
       "  <tbody>\n",
       "    <tr>\n",
       "      <th>0</th>\n",
       "      <td>A1003</td>\n",
       "      <td>What is SAASS?\\n</td>\n",
       "      <td>Answer the following question with the correct...</td>\n",
       "      <td>C</td>\n",
       "      <td>C</td>\n",
       "      <td>1</td>\n",
       "    </tr>\n",
       "    <tr>\n",
       "      <th>1</th>\n",
       "      <td>A1011</td>\n",
       "      <td>What formed the Rio Grande Rise?\\n</td>\n",
       "      <td>Answer the following question with the correct...</td>\n",
       "      <td>C</td>\n",
       "      <td>C</td>\n",
       "      <td>1</td>\n",
       "    </tr>\n",
       "    <tr>\n",
       "      <th>2</th>\n",
       "      <td>A1044</td>\n",
       "      <td>Where has Baker installed successful smart hyd...</td>\n",
       "      <td>Answer the following question with the correct...</td>\n",
       "      <td>A</td>\n",
       "      <td>A</td>\n",
       "      <td>1</td>\n",
       "    </tr>\n",
       "    <tr>\n",
       "      <th>3</th>\n",
       "      <td>A1083</td>\n",
       "      <td>One particular block called more attention tha...</td>\n",
       "      <td>Answer the following question with the correct...</td>\n",
       "      <td>B</td>\n",
       "      <td>C</td>\n",
       "      <td>0</td>\n",
       "    </tr>\n",
       "    <tr>\n",
       "      <th>4</th>\n",
       "      <td>A1090</td>\n",
       "      <td>The article alludes to the fact that Brazil is...</td>\n",
       "      <td>Answer the following question with the correct...</td>\n",
       "      <td>A</td>\n",
       "      <td>A</td>\n",
       "      <td>1</td>\n",
       "    </tr>\n",
       "  </tbody>\n",
       "</table>\n",
       "</div>"
      ],
      "text/plain": [
       "      id                                           question  \\\n",
       "0  A1003                                  What is SAASS?\\n    \n",
       "1  A1011                What formed the Rio Grande Rise?\\n    \n",
       "2  A1044  Where has Baker installed successful smart hyd...   \n",
       "3  A1083  One particular block called more attention tha...   \n",
       "4  A1090  The article alludes to the fact that Brazil is...   \n",
       "\n",
       "                                              prompt correct_choice  \\\n",
       "0  Answer the following question with the correct...              C   \n",
       "1  Answer the following question with the correct...              C   \n",
       "2  Answer the following question with the correct...              A   \n",
       "3  Answer the following question with the correct...              B   \n",
       "4  Answer the following question with the correct...              A   \n",
       "\n",
       "  gpt_selected_choice  is_right  \n",
       "0                   C         1  \n",
       "1                   C         1  \n",
       "2                   A         1  \n",
       "3                   C         0  \n",
       "4                   A         1  "
      ]
     },
     "execution_count": 66,
     "metadata": {},
     "output_type": "execute_result"
    }
   ],
   "source": [
    "df = pd.read_csv(\"results/experiments_chatgpt_mcqa/gpt-4.csv\")\n",
    "df.head()"
   ]
  },
  {
   "cell_type": "code",
   "execution_count": 67,
   "id": "efcc0bb1",
   "metadata": {},
   "outputs": [
    {
     "data": {
      "text/plain": [
       "count    227.000000\n",
       "mean       0.885463\n",
       "std        0.319167\n",
       "min        0.000000\n",
       "25%        1.000000\n",
       "50%        1.000000\n",
       "75%        1.000000\n",
       "max        1.000000\n",
       "Name: is_right, dtype: float64"
      ]
     },
     "execution_count": 67,
     "metadata": {},
     "output_type": "execute_result"
    }
   ],
   "source": [
    "df['is_right'].describe()"
   ]
  }
 ],
 "metadata": {
  "kernelspec": {
   "display_name": "Python 3 (ipykernel)",
   "language": "python",
   "name": "python3"
  },
  "language_info": {
   "codemirror_mode": {
    "name": "ipython",
    "version": 3
   },
   "file_extension": ".py",
   "mimetype": "text/x-python",
   "name": "python",
   "nbconvert_exporter": "python",
   "pygments_lexer": "ipython3",
   "version": "3.9.7"
  }
 },
 "nbformat": 4,
 "nbformat_minor": 5
}
