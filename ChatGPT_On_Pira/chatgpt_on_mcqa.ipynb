{
 "cells": [
  {
   "cell_type": "code",
   "execution_count": null,
   "id": "82393af3",
   "metadata": {},
   "outputs": [],
   "source": [
    "import openai\n",
    "import pandas as pd\n",
    "from tqdm import tqdm\n",
    "\n",
    "\n",
    "# PARAMETERS\n",
    "openai.api_key = 'XXXXXXXXXXXXXXXXXXXXXXXXXXXXXXXXXXXXXX'\n",
    "\n",
    "MODELS = ['gpt-3.5-turbo', 'gpt-4']\n",
    "\n",
    "DATASET = 'test_sets/test_mcqa.csv'\n",
    "\n",
    "\n",
    "def chatgpt_answer(prompt, model='gpt-3.5-turbo'):\n",
    "    # Available models: 'gpt-3.5-turbo' and 'gpt-4'\n",
    "\n",
    "    response = openai.ChatCompletion.create(\n",
    "        model=model,\n",
    "        temperature=0.0,\n",
    "        max_tokens=100,\n",
    "        top_p=1,\n",
    "        frequency_penalty=0,\n",
    "        presence_penalty=0,\n",
    "        messages=[\n",
    "            {'role': 'system', \n",
    "             'content': prompt}\n",
    "        ]\n",
    "    )\n",
    "    \n",
    "    return response.choices[0].message.content"
   ]
  },
  {
   "cell_type": "code",
   "execution_count": null,
   "id": "bb0c3ef0",
   "metadata": {},
   "outputs": [],
   "source": [
    "df = pd.read_csv(DATASET, encoding='ISO-8859-1')\n",
    "\n",
    "print(len(df))\n",
    "df.head()"
   ]
  },
  {
   "cell_type": "code",
   "execution_count": null,
   "id": "8713de69",
   "metadata": {},
   "outputs": [],
   "source": [
    "for model in MODELS:\n",
    "    print(f'\\n\\n>>> MODEL: {model}')\n",
    "\n",
    "    gpt = []\n",
    "    is_right = []\n",
    "    for _, row in tqdm(df.iterrows()):\n",
    "        ans = chatgpt_answer(row['prompt'], model)\n",
    "        \n",
    "        gpt.append(ans)\n",
    "        is_right.append(1 if ans == row['correct_choice'] else 0)\n",
    "\n",
    "    df['gpt_selected_choice'] = gpt\n",
    "    df['is_right'] = is_right\n",
    "\n",
    "    df.to_csv(f'results/experiments_chatgpt_mcqa/{model}.csv', index=False)"
   ]
  }
 ],
 "metadata": {
  "kernelspec": {
   "display_name": "base",
   "language": "python",
   "name": "python3"
  },
  "language_info": {
   "codemirror_mode": {
    "name": "ipython",
    "version": 3
   },
   "file_extension": ".py",
   "mimetype": "text/x-python",
   "name": "python",
   "nbconvert_exporter": "python",
   "pygments_lexer": "ipython3",
   "version": "3.9.7"
  }
 },
 "nbformat": 4,
 "nbformat_minor": 5
}
